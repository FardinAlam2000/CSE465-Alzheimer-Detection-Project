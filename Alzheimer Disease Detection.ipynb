{
 "cells": [
  {
   "cell_type": "markdown",
   "id": "a106ef34-faae-4a28-bf29-92feaa2ff4ca",
   "metadata": {},
   "source": [
    "**An Efficient Ensemble Approach for Alzheimer’s Disease\n",
    "Detection Using an Adaptive Synthetic Technique and\n",
    "Deep Learning**\n",
    "\n",
    
   ]
  },
  {
   "cell_type": "code",
   "execution_count": 1,
   "id": "50925b9d-d3fc-49a2-b96d-866014c3b4f7",
   "metadata": {},
   "outputs": [],
   "source": [
    "import os\n",
    "from torchvision.datasets import ImageFolder\n",
    "from torchvision.transforms import transforms\n",
    "from torch.utils.data import DataLoader\n",
    "from sklearn.model_selection import train_test_split\n",
    "import shutil\n",
    "import torch\n",
    "import torch.nn.functional as F\n",
    "import torchvision.models as models\n",
    "from torch import nn, optim\n",
    "from tqdm import tqdm"
   ]
  },
  {
   "cell_type": "code",
   "execution_count": 2,
   "id": "629249a4-23eb-44ac-81a3-02b1f3f5873a",
   "metadata": {},
   "outputs": [
    {
     "name": "stdout",
     "output_type": "stream",
     "text": [
      "GPU is available. Using NVIDIA GeForce RTX 3060\n"
     ]
    }
   ],
   "source": [
    "import torch\n",
    "\n",
    "if torch.cuda.is_available():\n",
    "    device = torch.device(\"cuda\")\n",
    "    print(f\"GPU is available. Using {torch.cuda.get_device_name(0)}\")\n",
    "else:\n",
    "    device = torch.device(\"cpu\")\n",
    "    print(\"GPU not available. Using CPU\")\n"
   ]
  },
  {
   "cell_type": "markdown",
   "id": "4c122c46-1f2e-4d38-a364-20b62efd10b3",
   "metadata": {},
   "source": [
    "<h1>Preprocessing the Dataset</h1>"
   ]
  },
  {
   "cell_type": "code",
   "execution_count": 3,
   "id": "adf9ae1c-fc28-4d68-a1b5-063372c7407e",
   "metadata": {},
   "outputs": [],
   "source": [
    "dataset_directory = 'D:\\\\Alzheimer Dataset\\\\Alzheimer_MRI_4_classes_dataset'\n",
    "classes = os.listdir(dataset_directory)"
   ]
  },
  {
   "cell_type": "code",
   "execution_count": 4,
   "id": "2dbad8d3-846e-4d27-92fa-33409c1185b3",
   "metadata": {},
   "outputs": [
    {
     "name": "stdout",
     "output_type": "stream",
     "text": [
      "Number of files in class 'MildDemented': 896\n",
      "Number of files in class 'ModerateDemented': 64\n",
      "Number of files in class 'NonDemented': 3200\n",
      "Number of files in class 'VeryMildDemented': 2240\n",
      "Total instances of images: 6400\n"
     ]
    }
   ],
   "source": [
    "total_images = 0\n",
    "for class_name in classes:\n",
    "    class_directory = os.path.join(dataset_directory, class_name)\n",
    "    if os.path.isdir(class_directory):\n",
    "        files = os.listdir(class_directory)\n",
    "        num_files = len(files)\n",
    "        print(f\"Number of files in class '{class_name}': {num_files}\")\n",
    "        total_images += num_files\n",
    "\n",
    "print(f\"Total instances of images: {total_images}\")"
   ]
  },
  {
   "cell_type": "markdown",
   "id": "44d800c4-7534-4abe-a94a-4ad830483c4b",
   "metadata": {},
   "source": [
    "<h3>Balancing the dataset through ADASYN oversampling method</h3>"
   ]
  },
  {
   "cell_type": "code",
   "execution_count": 5,
   "id": "229bcde7-092f-4480-8d45-80b2ec4b4cd6",
   "metadata": {},
   "outputs": [],
   "source": [
    "from torchvision import datasets, transforms\n",
    "dataset = datasets.ImageFolder(root=dataset_directory)\n",
    "\n",
    "X = [img for img, label in dataset]\n",
    "y = [label for img, label in dataset]"
   ]
  },
  {
   "cell_type": "code",
   "execution_count": 6,
   "id": "1b4cfc5e-cdad-4e78-851f-696b9601f066",
   "metadata": {},
   "outputs": [],
   "source": [
    "import numpy as np\n",
    "from imblearn.over_sampling import ADASYN\n",
    "from PIL import Image\n",
    "\n",
    "def apply_adasyn(X, y):\n",
    "    X_arrays = [np.array(img) for img in X]\n",
    "    \n",
    "    img_shape = X_arrays[0].shape\n",
    "    \n",
    "    X_reshaped = np.array([x.flatten() for x in X_arrays])\n",
    "    \n",
    "    adasyn = ADASYN(random_state=42)\n",
    "    \n",
    "    X_resampled, y_resampled = adasyn.fit_resample(X_reshaped, y)\n",
    "\n",
    "    X_balanced = [x.reshape(img_shape) for x in X_resampled]\n",
    "    \n",
    "    X_balanced = [Image.fromarray(x.astype('uint8')) for x in X_balanced]\n",
    "    \n",
    "    return X_balanced, y_resampled\n"
   ]
  },
  {
   "cell_type": "code",
   "execution_count": 7,
   "id": "3af0c7d8-bf47-43e1-89f2-fcab4255ea22",
   "metadata": {},
   "outputs": [],
   "source": [
    "X_balanced, y_balanced = apply_adasyn(X, y)"
   ]
  },
  {
   "cell_type": "code",
   "execution_count": 8,
   "id": "58c6ad03-8f07-4f87-9470-0ab5acdf67c8",
   "metadata": {},
   "outputs": [
    {
     "data": {
      "text/plain": [
       "12805"
      ]
     },
     "execution_count": 8,
     "metadata": {},
     "output_type": "execute_result"
    }
   ],
   "source": [
    "len(X_balanced)"
   ]
  },
  {
   "cell_type": "code",
   "execution_count": 9,
   "id": "97bde3b4-205c-4094-b491-75f652152eb8",
   "metadata": {},
   "outputs": [
    {
     "data": {
      "text/plain": [
       "12805"
      ]
     },
     "execution_count": 9,
     "metadata": {},
     "output_type": "execute_result"
    }
   ],
   "source": [
    "len(y_balanced)"
   ]
  },
  {
   "cell_type": "code",
   "execution_count": 10,
   "id": "f4f583c6-bf5a-4b84-9a90-a177f61a5547",
   "metadata": {},
   "outputs": [],
   "source": [
    "transform = transforms.Compose([\n",
    "        transforms.Resize((224, 224)),\n",
    "        transforms.ToTensor(),\n",
    "        transforms.Normalize(mean=[0.485, 0.456, 0.406], std=[0.229, 0.224, 0.225])\n",
    "    ])"
   ]
  },
  {
   "cell_type": "code",
   "execution_count": 11,
   "id": "e7138319-5158-4645-89ce-aae511dbd1b1",
   "metadata": {},
   "outputs": [
    {
     "name": "stdout",
     "output_type": "stream",
     "text": [
      "Training set size: 8963\n",
      "Validation set size: 1281\n",
      "Test set size: 2561\n"
     ]
    }
   ],
   "source": [
    "from sklearn.model_selection import train_test_split\n",
    "\n",
    "X_train, X_test, y_train, y_test = train_test_split(X_balanced, y_balanced, test_size=0.2, random_state=42, stratify=y_balanced)\n",
    "X_train, X_val, y_train, y_val = train_test_split(X_train, y_train, test_size=0.125, stratify=y_train, random_state=42)\n",
    "\n",
    "print(f\"Training set size: {len(X_train)}\")\n",
    "print(f\"Validation set size: {len(X_val)}\")\n",
    "print(f\"Test set size: {len(X_test)}\")"
   ]
  },
  {
   "cell_type": "code",
   "execution_count": 12,
   "id": "b4eaec48-2f8f-42a8-82eb-c3e2fc44ac21",
   "metadata": {},
   "outputs": [],
   "source": [
    "from torch.utils.data import Dataset\n",
    "\n",
    "class AlzheimerDataset(Dataset):\n",
    "    def __init__(self, images, labels, transform=None):\n",
    "        self.images = images\n",
    "        self.labels = labels\n",
    "        self.transform = transform\n",
    "\n",
    "    def __len__(self):\n",
    "        return len(self.images)\n",
    "\n",
    "    def __getitem__(self, idx):\n",
    "        image = self.images[idx]\n",
    "        label = self.labels[idx]\n",
    "        \n",
    "        if self.transform:\n",
    "            image = self.transform(image)\n",
    "        \n",
    "        return image, label\n"
   ]
  },
  {
   "cell_type": "code",
   "execution_count": 13,
   "id": "d5c70856-3bd1-4898-a93b-bfa845e624be",
   "metadata": {},
   "outputs": [],
   "source": [
    "train_dataset = AlzheimerDataset(X_train, y_train, transform=transform)\n",
    "val_dataset = AlzheimerDataset(X_val, y_val, transform=transform)\n",
    "test_dataset = AlzheimerDataset(X_test, y_test, transform=transform)\n",
    "\n",
    "train_loader = DataLoader(train_dataset, batch_size=32, shuffle=True)\n",
    "val_loader = DataLoader(val_dataset, batch_size=32, shuffle=False)\n",
    "test_loader = DataLoader(test_dataset, batch_size=32, shuffle=False)"
   ]
  },
  {
   "cell_type": "code",
   "execution_count": 14,
   "id": "c6e98eaf-097a-4a61-8955-db216e215bfb",
   "metadata": {},
   "outputs": [],
   "source": [
    "def train_model_with_early_stopping(model, train_loader, val_loader, criterion, optimizer, scheduler, num_epochs, device='cuda'):\n",
    "    best_val_loss = float('inf')\n",
    "    patience = 5\n",
    "    counter = 0\n",
    "    \n",
    "    for epoch in range(num_epochs):\n",
    "        model.train()\n",
    "        train_loss = 0.0\n",
    "        train_correct = 0\n",
    "        train_total = 0\n",
    "        \n",
    "        for inputs, labels in tqdm(train_loader, desc=f'Epoch {epoch+1}/{num_epochs}'):\n",
    "            inputs, labels = inputs.to(device), labels.to(device)\n",
    "            \n",
    "            optimizer.zero_grad()\n",
    "            outputs = model(inputs)\n",
    "            loss = criterion(outputs, labels)\n",
    "            loss.backward()\n",
    "            optimizer.step()\n",
    "            \n",
    "            train_loss += loss.item() * inputs.size(0)\n",
    "            _, predicted = outputs.max(1)\n",
    "            train_total += labels.size(0)\n",
    "            train_correct += predicted.eq(labels).sum().item()\n",
    "        \n",
    "        train_loss = train_loss / len(train_loader.dataset)\n",
    "        train_acc = train_correct / train_total\n",
    "        \n",
    "        model.eval()\n",
    "        val_loss = 0.0\n",
    "        val_correct = 0\n",
    "        val_total = 0\n",
    "        \n",
    "        with torch.no_grad():\n",
    "            for inputs, labels in val_loader:\n",
    "                inputs, labels = inputs.to(device), labels.to(device)\n",
    "                outputs = model(inputs)\n",
    "                loss = criterion(outputs, labels)\n",
    "                \n",
    "                val_loss += loss.item() * inputs.size(0)\n",
    "                _, predicted = outputs.max(1)\n",
    "                val_total += labels.size(0)\n",
    "                val_correct += predicted.eq(labels).sum().item()\n",
    "        \n",
    "        val_loss = val_loss / len(val_loader.dataset)\n",
    "        val_acc = val_correct / val_total\n",
    "        \n",
    "        scheduler.step(val_loss)\n",
    "        \n",
    "        print(f'Epoch {epoch+1}/{num_epochs}')\n",
    "        print(f'Train Loss: {train_loss:.4f}, Train Acc: {train_acc:.4f}')\n",
    "        print(f'Val Loss: {val_loss:.4f}, Val Acc: {val_acc:.4f}')\n",
    "        \n",
    "        if val_loss < best_val_loss:\n",
    "            best_val_loss = val_loss\n",
    "            torch.save(model.state_dict(), 'D:\\\\Alzheimer Dataset\\\\best_model.pth')\n",
    "            counter = 0\n",
    "        else:\n",
    "            counter += 1\n",
    "            if counter >= patience:\n",
    "                print(f'Early stopping after {epoch+1} epochs')\n",
    "                break\n",
    "    \n",
    "    return model"
   ]
  },
  {
   "cell_type": "markdown",
   "id": "318979ce-181b-4d51-9e37-5ea9179c41e2",
   "metadata": {},
   "source": [
    "<h1>DenseNet121</h1>"
   ]
  },
  {
   "cell_type": "code",
   "execution_count": 15,
   "id": "0b5083f1-4489-4c40-9bb6-72f3680577c2",
   "metadata": {},
   "outputs": [
    {
     "name": "stderr",
     "output_type": "stream",
     "text": [
      "C:\\Users\\User\\AppData\\Roaming\\Python\\Python312\\site-packages\\tqdm\\auto.py:21: TqdmWarning: IProgress not found. Please update jupyter and ipywidgets. See https://ipywidgets.readthedocs.io/en/stable/user_install.html\n",
      "  from .autonotebook import tqdm as notebook_tqdm\n"
     ]
    }
   ],
   "source": [
    "import timm\n",
    "from torch.utils.data import DataLoader\n",
    "from torch import nn, optim\n",
    "from tqdm import tqdm\n",
    "\n",
    "model = timm.create_model(\"densenet121\", pretrained=True, num_classes=4)\n",
    "model = model.to('cuda')"
   ]
  },
  {
   "cell_type": "code",
   "execution_count": 16,
   "id": "6f7ea1a8-5328-4ebe-9377-c53993f935dd",
   "metadata": {},
   "outputs": [
    {
     "name": "stderr",
     "output_type": "stream",
     "text": [
      "Epoch 1/30: 100%|██████████| 281/281 [01:10<00:00,  4.00it/s]\n"
     ]
    },
    {
     "name": "stdout",
     "output_type": "stream",
     "text": [
      "Epoch 1/30\n",
      "Train Loss: 0.6436, Train Acc: 0.7211\n",
      "Val Loss: 0.4876, Val Acc: 0.7947\n"
     ]
    },
    {
     "name": "stderr",
     "output_type": "stream",
     "text": [
      "Epoch 2/30: 100%|██████████| 281/281 [01:07<00:00,  4.16it/s]\n"
     ]
    },
    {
     "name": "stdout",
     "output_type": "stream",
     "text": [
      "Epoch 2/30\n",
      "Train Loss: 0.2588, Train Acc: 0.9053\n",
      "Val Loss: 0.2347, Val Acc: 0.9048\n"
     ]
    },
    {
     "name": "stderr",
     "output_type": "stream",
     "text": [
      "Epoch 3/30: 100%|██████████| 281/281 [01:08<00:00,  4.11it/s]\n"
     ]
    },
    {
     "name": "stdout",
     "output_type": "stream",
     "text": [
      "Epoch 3/30\n",
      "Train Loss: 0.1017, Train Acc: 0.9679\n",
      "Val Loss: 0.1491, Val Acc: 0.9454\n"
     ]
    },
    {
     "name": "stderr",
     "output_type": "stream",
     "text": [
      "Epoch 4/30: 100%|██████████| 281/281 [01:07<00:00,  4.16it/s]\n"
     ]
    },
    {
     "name": "stdout",
     "output_type": "stream",
     "text": [
      "Epoch 4/30\n",
      "Train Loss: 0.0589, Train Acc: 0.9820\n",
      "Val Loss: 0.1524, Val Acc: 0.9461\n"
     ]
    },
    {
     "name": "stderr",
     "output_type": "stream",
     "text": [
      "Epoch 5/30: 100%|██████████| 281/281 [01:07<00:00,  4.14it/s]\n"
     ]
    },
    {
     "name": "stdout",
     "output_type": "stream",
     "text": [
      "Epoch 5/30\n",
      "Train Loss: 0.0373, Train Acc: 0.9895\n",
      "Val Loss: 0.3242, Val Acc: 0.9024\n"
     ]
    },
    {
     "name": "stderr",
     "output_type": "stream",
     "text": [
      "Epoch 6/30: 100%|██████████| 281/281 [01:08<00:00,  4.12it/s]\n"
     ]
    },
    {
     "name": "stdout",
     "output_type": "stream",
     "text": [
      "Epoch 6/30\n",
      "Train Loss: 0.0554, Train Acc: 0.9815\n",
      "Val Loss: 0.0995, Val Acc: 0.9602\n"
     ]
    },
    {
     "name": "stderr",
     "output_type": "stream",
     "text": [
      "Epoch 7/30: 100%|██████████| 281/281 [01:07<00:00,  4.15it/s]\n"
     ]
    },
    {
     "name": "stdout",
     "output_type": "stream",
     "text": [
      "Epoch 7/30\n",
      "Train Loss: 0.0342, Train Acc: 0.9900\n",
      "Val Loss: 0.1142, Val Acc: 0.9594\n"
     ]
    },
    {
     "name": "stderr",
     "output_type": "stream",
     "text": [
      "Epoch 8/30: 100%|██████████| 281/281 [01:07<00:00,  4.16it/s]\n"
     ]
    },
    {
     "name": "stdout",
     "output_type": "stream",
     "text": [
      "Epoch 8/30\n",
      "Train Loss: 0.0249, Train Acc: 0.9939\n",
      "Val Loss: 0.0974, Val Acc: 0.9617\n"
     ]
    },
    {
     "name": "stderr",
     "output_type": "stream",
     "text": [
      "Epoch 9/30: 100%|██████████| 281/281 [01:07<00:00,  4.14it/s]\n"
     ]
    },
    {
     "name": "stdout",
     "output_type": "stream",
     "text": [
      "Epoch 9/30\n",
      "Train Loss: 0.0227, Train Acc: 0.9919\n",
      "Val Loss: 0.0782, Val Acc: 0.9719\n"
     ]
    },
    {
     "name": "stderr",
     "output_type": "stream",
     "text": [
      "Epoch 10/30: 100%|██████████| 281/281 [01:07<00:00,  4.16it/s]\n"
     ]
    },
    {
     "name": "stdout",
     "output_type": "stream",
     "text": [
      "Epoch 10/30\n",
      "Train Loss: 0.0088, Train Acc: 0.9980\n",
      "Val Loss: 0.0883, Val Acc: 0.9735\n"
     ]
    },
    {
     "name": "stderr",
     "output_type": "stream",
     "text": [
      "Epoch 11/30: 100%|██████████| 281/281 [01:08<00:00,  4.11it/s]\n"
     ]
    },
    {
     "name": "stdout",
     "output_type": "stream",
     "text": [
      "Epoch 11/30\n",
      "Train Loss: 0.0187, Train Acc: 0.9943\n",
      "Val Loss: 0.0883, Val Acc: 0.9703\n"
     ]
    },
    {
     "name": "stderr",
     "output_type": "stream",
     "text": [
      "Epoch 12/30: 100%|██████████| 281/281 [01:08<00:00,  4.13it/s]\n"
     ]
    },
    {
     "name": "stdout",
     "output_type": "stream",
     "text": [
      "Epoch 12/30\n",
      "Train Loss: 0.0125, Train Acc: 0.9967\n",
      "Val Loss: 0.1358, Val Acc: 0.9602\n"
     ]
    },
    {
     "name": "stderr",
     "output_type": "stream",
     "text": [
      "Epoch 13/30: 100%|██████████| 281/281 [01:08<00:00,  4.11it/s]\n"
     ]
    },
    {
     "name": "stdout",
     "output_type": "stream",
     "text": [
      "Epoch 13/30\n",
      "Train Loss: 0.0599, Train Acc: 0.9795\n",
      "Val Loss: 0.1059, Val Acc: 0.9696\n"
     ]
    },
    {
     "name": "stderr",
     "output_type": "stream",
     "text": [
      "Epoch 14/30: 100%|██████████| 281/281 [01:08<00:00,  4.09it/s]\n"
     ]
    },
    {
     "name": "stdout",
     "output_type": "stream",
     "text": [
      "Epoch 14/30\n",
      "Train Loss: 0.0115, Train Acc: 0.9972\n",
      "Val Loss: 0.0828, Val Acc: 0.9766\n",
      "Early stopping after 14 epochs\n"
     ]
    }
   ],
   "source": [
    "criterion = nn.CrossEntropyLoss()\n",
    "optimizer = optim.Adam(model.parameters(), lr=0.0001)\n",
    "scheduler = optim.lr_scheduler.ReduceLROnPlateau(optimizer, mode='min', factor=0.1, patience=3)\n",
    "\n",
    "model = train_model_with_early_stopping(\n",
    "    model=model,\n",
    "    train_loader=train_loader,\n",
    "    val_loader=val_loader,\n",
    "    optimizer=optimizer,\n",
    "    criterion=criterion,\n",
    "    scheduler=scheduler,\n",
    "    num_epochs=30,\n",
    "    device=device\n",
    ")"
   ]
  },
  {
   "cell_type": "code",
   "execution_count": 15,
   "id": "725e00cb-2341-46fe-a93a-21473d28392d",
   "metadata": {},
   "outputs": [],
   "source": [
    "from sklearn.metrics import classification_report, roc_auc_score, roc_curve\n",
    "import numpy as np\n",
    "\n",
    "def test_model(model, test_loader, num_classes, device='cuda'):\n",
    "    model.eval()\n",
    "    test_correct = 0\n",
    "    test_total = 0\n",
    "    all_preds = []\n",
    "    all_labels = []\n",
    "    all_probs = []  \n",
    "\n",
    "    with torch.no_grad():\n",
    "        for inputs, labels in test_loader:\n",
    "            inputs, labels = inputs.to(device), labels.to(device)\n",
    "            outputs = model(inputs)\n",
    "            _, predicted = outputs.max(1)  \n",
    "            test_total += labels.size(0)\n",
    "            test_correct += predicted.eq(labels).sum().item()\n",
    "\n",
    "            all_preds.extend(predicted.cpu().numpy())\n",
    "            all_labels.extend(labels.cpu().numpy())\n",
    "            all_probs.extend(outputs.softmax(dim=1).cpu().numpy())  \n",
    "\n",
    "    test_acc = test_correct / test_total\n",
    "\n",
    "    report = classification_report(all_labels, all_preds,digits=4, target_names=[f'Class {i}' for i in range(num_classes)])\n",
    "    \n",
    "    if num_classes > 2:\n",
    "        auc_score = roc_auc_score(all_labels, all_probs, multi_class='ovr')\n",
    "    else:\n",
    "        auc_score = roc_auc_score(all_labels, [prob[1] for prob in all_probs])\n",
    "\n",
    "    return test_acc, report, auc_score"
   ]
  },
  {
   "cell_type": "code",
   "execution_count": 19,
   "id": "27e75aee-1225-491a-859c-e689f9e1aa03",
   "metadata": {},
   "outputs": [
    {
     "name": "stdout",
     "output_type": "stream",
     "text": [
      "Test Accuracy: 0.9805\n",
      "Classification Report:\n",
      "              precision    recall  f1-score   support\n",
      "\n",
      "     Class 0     0.9694    0.9799    0.9746       646\n",
      "     Class 1     1.0000    1.0000    1.0000       640\n",
      "     Class 2     0.9783    0.9859    0.9821       640\n",
      "     Class 3     0.9743    0.9559    0.9650       635\n",
      "\n",
      "    accuracy                         0.9805      2561\n",
      "   macro avg     0.9805    0.9804    0.9804      2561\n",
      "weighted avg     0.9805    0.9805    0.9804      2561\n",
      "\n",
      "AUC Score: 0.9990\n"
     ]
    }
   ],
   "source": [
    "test_accuracy, classification_report_str, auc_score = test_model(model, test_loader, num_classes=4, device='cuda')\n",
    "\n",
    "print(f'Test Accuracy: {test_accuracy:.4f}')\n",
    "print('Classification Report:')\n",
    "print(classification_report_str)\n",
    "print(f'AUC Score: {auc_score:.4f}')"
   ]
  },
  {
   "cell_type": "markdown",
   "id": "55f3b2da-6b6e-48db-b1e4-01a13b6d17c2",
   "metadata": {},
   "source": [
    "<h1>Xception</h1>"
   ]
  },
  {
   "cell_type": "code",
   "execution_count": 16,
   "id": "0383c537-af5b-4842-a1ff-4bc7d5ee4055",
   "metadata": {},
   "outputs": [
    {
     "name": "stderr",
     "output_type": "stream",
     "text": [
      "C:\\Users\\User\\AppData\\Roaming\\Python\\Python312\\site-packages\\tqdm\\auto.py:21: TqdmWarning: IProgress not found. Please update jupyter and ipywidgets. See https://ipywidgets.readthedocs.io/en/stable/user_install.html\n",
      "  from .autonotebook import tqdm as notebook_tqdm\n",
      "C:\\Users\\User\\anaconda3\\envs\\torch\\Lib\\site-packages\\timm\\models\\_factory.py:117: UserWarning: Mapping deprecated model name xception to current legacy_xception.\n",
      "  model = create_fn(\n"
     ]
    }
   ],
   "source": [
    "import timm\n",
    "from torch.utils.data import DataLoader\n",
    "from torch import nn, optim\n",
    "from tqdm import tqdm\n",
    "\n",
    "model = timm.create_model(\"xception\", pretrained=True, num_classes=4)\n",
    "model = model.to('cuda')"
   ]
  },
  {
   "cell_type": "code",
   "execution_count": 17,
   "id": "b91c1266-9f0f-4de3-82f3-bbd614c20400",
   "metadata": {},
   "outputs": [
    {
     "name": "stderr",
     "output_type": "stream",
     "text": [
      "Epoch 1/30: 100%|██████████| 281/281 [01:24<00:00,  3.32it/s]\n"
     ]
    },
    {
     "name": "stdout",
     "output_type": "stream",
     "text": [
      "Epoch 1/30\n",
      "Train Loss: 0.5641, Train Acc: 0.7557\n",
      "Val Loss: 0.3580, Val Acc: 0.8657\n"
     ]
    },
    {
     "name": "stderr",
     "output_type": "stream",
     "text": [
      "Epoch 2/30: 100%|██████████| 281/281 [01:22<00:00,  3.41it/s]\n"
     ]
    },
    {
     "name": "stdout",
     "output_type": "stream",
     "text": [
      "Epoch 2/30\n",
      "Train Loss: 0.1507, Train Acc: 0.9466\n",
      "Val Loss: 0.1694, Val Acc: 0.9399\n"
     ]
    },
    {
     "name": "stderr",
     "output_type": "stream",
     "text": [
      "Epoch 3/30: 100%|██████████| 281/281 [01:22<00:00,  3.42it/s]\n"
     ]
    },
    {
     "name": "stdout",
     "output_type": "stream",
     "text": [
      "Epoch 3/30\n",
      "Train Loss: 0.0574, Train Acc: 0.9813\n",
      "Val Loss: 0.3013, Val Acc: 0.9040\n"
     ]
    },
    {
     "name": "stderr",
     "output_type": "stream",
     "text": [
      "Epoch 4/30: 100%|██████████| 281/281 [01:22<00:00,  3.42it/s]\n"
     ]
    },
    {
     "name": "stdout",
     "output_type": "stream",
     "text": [
      "Epoch 4/30\n",
      "Train Loss: 0.0484, Train Acc: 0.9837\n",
      "Val Loss: 0.3497, Val Acc: 0.8868\n"
     ]
    },
    {
     "name": "stderr",
     "output_type": "stream",
     "text": [
      "Epoch 5/30: 100%|██████████| 281/281 [01:23<00:00,  3.37it/s]\n"
     ]
    },
    {
     "name": "stdout",
     "output_type": "stream",
     "text": [
      "Epoch 5/30\n",
      "Train Loss: 0.0429, Train Acc: 0.9853\n",
      "Val Loss: 0.0930, Val Acc: 0.9711\n"
     ]
    },
    {
     "name": "stderr",
     "output_type": "stream",
     "text": [
      "Epoch 6/30: 100%|██████████| 281/281 [01:22<00:00,  3.41it/s]\n"
     ]
    },
    {
     "name": "stdout",
     "output_type": "stream",
     "text": [
      "Epoch 6/30\n",
      "Train Loss: 0.0185, Train Acc: 0.9938\n",
      "Val Loss: 0.1313, Val Acc: 0.9594\n"
     ]
    },
    {
     "name": "stderr",
     "output_type": "stream",
     "text": [
      "Epoch 7/30: 100%|██████████| 281/281 [01:21<00:00,  3.43it/s]\n"
     ]
    },
    {
     "name": "stdout",
     "output_type": "stream",
     "text": [
      "Epoch 7/30\n",
      "Train Loss: 0.0170, Train Acc: 0.9949\n",
      "Val Loss: 0.2478, Val Acc: 0.9290\n"
     ]
    },
    {
     "name": "stderr",
     "output_type": "stream",
     "text": [
      "Epoch 8/30: 100%|██████████| 281/281 [01:23<00:00,  3.37it/s]\n"
     ]
    },
    {
     "name": "stdout",
     "output_type": "stream",
     "text": [
      "Epoch 8/30\n",
      "Train Loss: 0.0264, Train Acc: 0.9917\n",
      "Val Loss: 0.1754, Val Acc: 0.9438\n"
     ]
    },
    {
     "name": "stderr",
     "output_type": "stream",
     "text": [
      "Epoch 9/30: 100%|██████████| 281/281 [01:23<00:00,  3.38it/s]\n"
     ]
    },
    {
     "name": "stdout",
     "output_type": "stream",
     "text": [
      "Epoch 9/30\n",
      "Train Loss: 0.0393, Train Acc: 0.9887\n",
      "Val Loss: 0.1283, Val Acc: 0.9571\n"
     ]
    },
    {
     "name": "stderr",
     "output_type": "stream",
     "text": [
      "Epoch 10/30: 100%|██████████| 281/281 [01:22<00:00,  3.39it/s]\n"
     ]
    },
    {
     "name": "stdout",
     "output_type": "stream",
     "text": [
      "Epoch 10/30\n",
      "Train Loss: 0.0093, Train Acc: 0.9971\n",
      "Val Loss: 0.0682, Val Acc: 0.9703\n"
     ]
    },
    {
     "name": "stderr",
     "output_type": "stream",
     "text": [
      "Epoch 11/30: 100%|██████████| 281/281 [01:22<00:00,  3.39it/s]\n"
     ]
    },
    {
     "name": "stdout",
     "output_type": "stream",
     "text": [
      "Epoch 11/30\n",
      "Train Loss: 0.0042, Train Acc: 0.9991\n",
      "Val Loss: 0.0821, Val Acc: 0.9742\n"
     ]
    },
    {
     "name": "stderr",
     "output_type": "stream",
     "text": [
      "Epoch 12/30: 100%|██████████| 281/281 [01:23<00:00,  3.39it/s]\n"
     ]
    },
    {
     "name": "stdout",
     "output_type": "stream",
     "text": [
      "Epoch 12/30\n",
      "Train Loss: 0.0028, Train Acc: 0.9997\n",
      "Val Loss: 0.0800, Val Acc: 0.9750\n"
     ]
    },
    {
     "name": "stderr",
     "output_type": "stream",
     "text": [
      "Epoch 13/30: 100%|██████████| 281/281 [01:22<00:00,  3.39it/s]\n"
     ]
    },
    {
     "name": "stdout",
     "output_type": "stream",
     "text": [
      "Epoch 13/30\n",
      "Train Loss: 0.0032, Train Acc: 0.9992\n",
      "Val Loss: 0.0679, Val Acc: 0.9789\n"
     ]
    },
    {
     "name": "stderr",
     "output_type": "stream",
     "text": [
      "Epoch 14/30: 100%|██████████| 281/281 [01:23<00:00,  3.35it/s]\n"
     ]
    },
    {
     "name": "stdout",
     "output_type": "stream",
     "text": [
      "Epoch 14/30\n",
      "Train Loss: 0.0020, Train Acc: 0.9998\n",
      "Val Loss: 0.0624, Val Acc: 0.9797\n"
     ]
    },
    {
     "name": "stderr",
     "output_type": "stream",
     "text": [
      "Epoch 15/30: 100%|██████████| 281/281 [01:23<00:00,  3.37it/s]\n"
     ]
    },
    {
     "name": "stdout",
     "output_type": "stream",
     "text": [
      "Epoch 15/30\n",
      "Train Loss: 0.0032, Train Acc: 0.9992\n",
      "Val Loss: 0.0629, Val Acc: 0.9813\n"
     ]
    },
    {
     "name": "stderr",
     "output_type": "stream",
     "text": [
      "Epoch 16/30: 100%|██████████| 281/281 [01:22<00:00,  3.39it/s]\n"
     ]
    },
    {
     "name": "stdout",
     "output_type": "stream",
     "text": [
      "Epoch 16/30\n",
      "Train Loss: 0.0027, Train Acc: 0.9996\n",
      "Val Loss: 0.0745, Val Acc: 0.9766\n"
     ]
    },
    {
     "name": "stderr",
     "output_type": "stream",
     "text": [
      "Epoch 17/30: 100%|██████████| 281/281 [01:22<00:00,  3.42it/s]\n"
     ]
    },
    {
     "name": "stdout",
     "output_type": "stream",
     "text": [
      "Epoch 17/30\n",
      "Train Loss: 0.0018, Train Acc: 0.9997\n",
      "Val Loss: 0.0906, Val Acc: 0.9719\n"
     ]
    },
    {
     "name": "stderr",
     "output_type": "stream",
     "text": [
      "Epoch 18/30: 100%|██████████| 281/281 [01:22<00:00,  3.41it/s]\n"
     ]
    },
    {
     "name": "stdout",
     "output_type": "stream",
     "text": [
      "Epoch 18/30\n",
      "Train Loss: 0.0022, Train Acc: 0.9997\n",
      "Val Loss: 0.0779, Val Acc: 0.9774\n"
     ]
    },
    {
     "name": "stderr",
     "output_type": "stream",
     "text": [
      "Epoch 19/30: 100%|██████████| 281/281 [01:26<00:00,  3.27it/s]\n"
     ]
    },
    {
     "name": "stdout",
     "output_type": "stream",
     "text": [
      "Epoch 19/30\n",
      "Train Loss: 0.0015, Train Acc: 0.9999\n",
      "Val Loss: 0.0676, Val Acc: 0.9797\n",
      "Early stopping after 19 epochs\n"
     ]
    }
   ],
   "source": [
    "criterion = nn.CrossEntropyLoss()\n",
    "optimizer = optim.Adam(model.parameters(), lr=0.0001)\n",
    "scheduler = optim.lr_scheduler.ReduceLROnPlateau(optimizer, mode='min', factor=0.1, patience=3)\n",
    "model = train_model_with_early_stopping(\n",
    "    model=model,\n",
    "    train_loader=train_loader,\n",
    "    val_loader=val_loader,\n",
    "    optimizer=optimizer,\n",
    "    criterion=criterion,\n",
    "    scheduler=scheduler,\n",
    "    num_epochs=30,\n",
    "    device=device\n",
    ")"
   ]
  },
  {
   "cell_type": "code",
   "execution_count": 18,
   "id": "6bd926d7-71c7-4de6-9de3-206208f2aa83",
   "metadata": {},
   "outputs": [
    {
     "name": "stdout",
     "output_type": "stream",
     "text": [
      "Test Accuracy: 0.9742\n",
      "Classification Report:\n",
      "              precision    recall  f1-score   support\n",
      "\n",
      "     Class 0     0.9716    0.9520    0.9617       646\n",
      "     Class 1     1.0000    1.0000    1.0000       640\n",
      "     Class 2     0.9768    0.9875    0.9821       640\n",
      "     Class 3     0.9485    0.9575    0.9530       635\n",
      "\n",
      "    accuracy                         0.9742      2561\n",
      "   macro avg     0.9742    0.9742    0.9742      2561\n",
      "weighted avg     0.9743    0.9742    0.9742      2561\n",
      "\n",
      "AUC Score: 0.9984\n"
     ]
    }
   ],
   "source": [
    "test_accuracy, classification_report_str, auc_score = test_model(model, test_loader, num_classes=4, device='cuda')\n",
    "\n",
    "print(f'Test Accuracy: {test_accuracy:.4f}')\n",
    "print('Classification Report:')\n",
    "print(classification_report_str)\n",
    "print(f'AUC Score: {auc_score:.4f}')"
   ]
  },
  {
   "cell_type": "markdown",
   "id": "054691c0-a8eb-491b-85ce-7cb06121a33c",
   "metadata": {},
   "source": [
    "<h1>EfficientNetB2</h1>"
   ]
  },
  {
   "cell_type": "code",
   "execution_count": 19,
   "id": "0a86141a-0cff-4177-9a65-6f4616718cba",
   "metadata": {},
   "outputs": [
    {
     "name": "stderr",
     "output_type": "stream",
     "text": [
      "C:\\Users\\User\\anaconda3\\envs\\torch\\Lib\\site-packages\\huggingface_hub\\file_download.py:159: UserWarning: `huggingface_hub` cache-system uses symlinks by default to efficiently store duplicated files but your machine does not support them in C:\\Users\\User\\.cache\\huggingface\\hub\\models--timm--efficientnet_b2.ra_in1k. Caching files will still work but in a degraded version that might require more space on your disk. This warning can be disabled by setting the `HF_HUB_DISABLE_SYMLINKS_WARNING` environment variable. For more details, see https://huggingface.co/docs/huggingface_hub/how-to-cache#limitations.\n",
      "To support symlinks on Windows, you either need to activate Developer Mode or to run Python as an administrator. In order to see activate developer mode, see this article: https://docs.microsoft.com/en-us/windows/apps/get-started/enable-your-device-for-development\n",
      "  warnings.warn(message)\n"
     ]
    }
   ],
   "source": [
    "import timm\n",
    "from torch.utils.data import DataLoader\n",
    "from torch import nn, optim\n",
    "from tqdm import tqdm\n",
    "\n",
    "model = timm.create_model(\"efficientnet_b2\", pretrained=True, num_classes=4)\n",
    "model = model.to('cuda')"
   ]
  },
  {
   "cell_type": "code",
   "execution_count": 20,
   "id": "b057f3e0-b892-43d8-b4a9-a3366edeb1e5",
   "metadata": {},
   "outputs": [
    {
     "name": "stderr",
     "output_type": "stream",
     "text": [
      "Epoch 1/30: 100%|██████████| 281/281 [00:55<00:00,  5.06it/s]\n"
     ]
    },
    {
     "name": "stdout",
     "output_type": "stream",
     "text": [
      "Epoch 1/30\n",
      "Train Loss: 0.8975, Train Acc: 0.6998\n",
      "Val Loss: 0.4334, Val Acc: 0.8392\n"
     ]
    },
    {
     "name": "stderr",
     "output_type": "stream",
     "text": [
      "Epoch 2/30: 100%|██████████| 281/281 [00:56<00:00,  5.00it/s]\n"
     ]
    },
    {
     "name": "stdout",
     "output_type": "stream",
     "text": [
      "Epoch 2/30\n",
      "Train Loss: 0.2139, Train Acc: 0.9178\n",
      "Val Loss: 0.2995, Val Acc: 0.8821\n"
     ]
    },
    {
     "name": "stderr",
     "output_type": "stream",
     "text": [
      "Epoch 3/30: 100%|██████████| 281/281 [00:56<00:00,  4.94it/s]\n"
     ]
    },
    {
     "name": "stdout",
     "output_type": "stream",
     "text": [
      "Epoch 3/30\n",
      "Train Loss: 0.0849, Train Acc: 0.9700\n",
      "Val Loss: 0.2956, Val Acc: 0.8985\n"
     ]
    },
    {
     "name": "stderr",
     "output_type": "stream",
     "text": [
      "Epoch 4/30: 100%|██████████| 281/281 [00:53<00:00,  5.23it/s]\n"
     ]
    },
    {
     "name": "stdout",
     "output_type": "stream",
     "text": [
      "Epoch 4/30\n",
      "Train Loss: 0.0382, Train Acc: 0.9880\n",
      "Val Loss: 0.2556, Val Acc: 0.9173\n"
     ]
    },
    {
     "name": "stderr",
     "output_type": "stream",
     "text": [
      "Epoch 5/30: 100%|██████████| 281/281 [00:53<00:00,  5.25it/s]\n"
     ]
    },
    {
     "name": "stdout",
     "output_type": "stream",
     "text": [
      "Epoch 5/30\n",
      "Train Loss: 0.0714, Train Acc: 0.9743\n",
      "Val Loss: 0.2139, Val Acc: 0.9165\n"
     ]
    },
    {
     "name": "stderr",
     "output_type": "stream",
     "text": [
      "Epoch 6/30: 100%|██████████| 281/281 [00:54<00:00,  5.14it/s]\n"
     ]
    },
    {
     "name": "stdout",
     "output_type": "stream",
     "text": [
      "Epoch 6/30\n",
      "Train Loss: 0.0346, Train Acc: 0.9867\n",
      "Val Loss: 0.2516, Val Acc: 0.9360\n"
     ]
    },
    {
     "name": "stderr",
     "output_type": "stream",
     "text": [
      "Epoch 7/30: 100%|██████████| 281/281 [00:53<00:00,  5.21it/s]\n"
     ]
    },
    {
     "name": "stdout",
     "output_type": "stream",
     "text": [
      "Epoch 7/30\n",
      "Train Loss: 0.0586, Train Acc: 0.9780\n",
      "Val Loss: 0.3365, Val Acc: 0.9016\n"
     ]
    },
    {
     "name": "stderr",
     "output_type": "stream",
     "text": [
      "Epoch 8/30: 100%|██████████| 281/281 [00:53<00:00,  5.26it/s]\n"
     ]
    },
    {
     "name": "stdout",
     "output_type": "stream",
     "text": [
      "Epoch 8/30\n",
      "Train Loss: 0.0644, Train Acc: 0.9767\n",
      "Val Loss: 0.2552, Val Acc: 0.9266\n"
     ]
    },
    {
     "name": "stderr",
     "output_type": "stream",
     "text": [
      "Epoch 9/30: 100%|██████████| 281/281 [00:53<00:00,  5.25it/s]\n"
     ]
    },
    {
     "name": "stdout",
     "output_type": "stream",
     "text": [
      "Epoch 9/30\n",
      "Train Loss: 0.0481, Train Acc: 0.9846\n",
      "Val Loss: 0.2035, Val Acc: 0.9493\n"
     ]
    },
    {
     "name": "stderr",
     "output_type": "stream",
     "text": [
      "Epoch 10/30: 100%|██████████| 281/281 [00:53<00:00,  5.25it/s]\n"
     ]
    },
    {
     "name": "stdout",
     "output_type": "stream",
     "text": [
      "Epoch 10/30\n",
      "Train Loss: 0.0548, Train Acc: 0.9813\n",
      "Val Loss: 0.1740, Val Acc: 0.9524\n"
     ]
    },
    {
     "name": "stderr",
     "output_type": "stream",
     "text": [
      "Epoch 11/30: 100%|██████████| 281/281 [00:53<00:00,  5.24it/s]\n"
     ]
    },
    {
     "name": "stdout",
     "output_type": "stream",
     "text": [
      "Epoch 11/30\n",
      "Train Loss: 0.0196, Train Acc: 0.9942\n",
      "Val Loss: 0.1541, Val Acc: 0.9602\n"
     ]
    },
    {
     "name": "stderr",
     "output_type": "stream",
     "text": [
      "Epoch 12/30: 100%|██████████| 281/281 [00:53<00:00,  5.24it/s]\n"
     ]
    },
    {
     "name": "stdout",
     "output_type": "stream",
     "text": [
      "Epoch 12/30\n",
      "Train Loss: 0.0267, Train Acc: 0.9906\n",
      "Val Loss: 0.1240, Val Acc: 0.9594\n"
     ]
    },
    {
     "name": "stderr",
     "output_type": "stream",
     "text": [
      "Epoch 13/30: 100%|██████████| 281/281 [00:53<00:00,  5.24it/s]\n"
     ]
    },
    {
     "name": "stdout",
     "output_type": "stream",
     "text": [
      "Epoch 13/30\n",
      "Train Loss: 0.0166, Train Acc: 0.9933\n",
      "Val Loss: 0.1459, Val Acc: 0.9633\n"
     ]
    },
    {
     "name": "stderr",
     "output_type": "stream",
     "text": [
      "Epoch 14/30: 100%|██████████| 281/281 [00:53<00:00,  5.24it/s]\n"
     ]
    },
    {
     "name": "stdout",
     "output_type": "stream",
     "text": [
      "Epoch 14/30\n",
      "Train Loss: 0.0133, Train Acc: 0.9956\n",
      "Val Loss: 0.1246, Val Acc: 0.9680\n"
     ]
    },
    {
     "name": "stderr",
     "output_type": "stream",
     "text": [
      "Epoch 15/30: 100%|██████████| 281/281 [00:53<00:00,  5.24it/s]\n"
     ]
    },
    {
     "name": "stdout",
     "output_type": "stream",
     "text": [
      "Epoch 15/30\n",
      "Train Loss: 0.0507, Train Acc: 0.9819\n",
      "Val Loss: 0.1278, Val Acc: 0.9711\n"
     ]
    },
    {
     "name": "stderr",
     "output_type": "stream",
     "text": [
      "Epoch 16/30: 100%|██████████| 281/281 [00:53<00:00,  5.24it/s]\n"
     ]
    },
    {
     "name": "stdout",
     "output_type": "stream",
     "text": [
      "Epoch 16/30\n",
      "Train Loss: 0.0126, Train Acc: 0.9958\n",
      "Val Loss: 0.1679, Val Acc: 0.9610\n"
     ]
    },
    {
     "name": "stderr",
     "output_type": "stream",
     "text": [
      "Epoch 17/30: 100%|██████████| 281/281 [00:52<00:00,  5.32it/s]\n"
     ]
    },
    {
     "name": "stdout",
     "output_type": "stream",
     "text": [
      "Epoch 17/30\n",
      "Train Loss: 0.0134, Train Acc: 0.9963\n",
      "Val Loss: 0.1343, Val Acc: 0.9703\n",
      "Early stopping after 17 epochs\n"
     ]
    }
   ],
   "source": [
    "criterion = nn.CrossEntropyLoss()\n",
    "optimizer = optim.Adam(model.parameters(), lr=0.0001)\n",
    "scheduler = optim.lr_scheduler.ReduceLROnPlateau(optimizer, mode='min', factor=0.1, patience=3)\n",
    "model = train_model_with_early_stopping(\n",
    "    model=model,\n",
    "    train_loader=train_loader,\n",
    "    val_loader=val_loader,\n",
    "    optimizer=optimizer,\n",
    "    criterion=criterion,\n",
    "    scheduler=scheduler,\n",
    "    num_epochs=30,\n",
    "    device=device\n",
    ")"
   ]
  },
  {
   "cell_type": "code",
   "execution_count": 21,
   "id": "86e13911-cb9c-40be-ae02-1a6a2cf20714",
   "metadata": {},
   "outputs": [
    {
     "name": "stdout",
     "output_type": "stream",
     "text": [
      "Test Accuracy: 0.9668\n",
      "Classification Report:\n",
      "              precision    recall  f1-score   support\n",
      "\n",
      "     Class 0     0.9552    0.9567    0.9559       646\n",
      "     Class 1     1.0000    1.0000    1.0000       640\n",
      "     Class 2     0.9647    0.9828    0.9737       640\n",
      "     Class 3     0.9469    0.9276    0.9372       635\n",
      "\n",
      "    accuracy                         0.9668      2561\n",
      "   macro avg     0.9667    0.9668    0.9667      2561\n",
      "weighted avg     0.9667    0.9668    0.9667      2561\n",
      "\n",
      "AUC Score: 0.9972\n"
     ]
    }
   ],
   "source": [
    "test_accuracy, classification_report_str, auc_score = test_model(model, test_loader, num_classes=4, device='cuda')\n",
    "\n",
    "print(f'Test Accuracy: {test_accuracy:.4f}')\n",
    "print('Classification Report:')\n",
    "print(classification_report_str)\n",
    "print(f'AUC Score: {auc_score:.4f}')"
   ]
  },
  {
   "cell_type": "markdown",
   "id": "c2aa2127-82cf-4be2-b3a8-fdb0e61565ca",
   "metadata": {},
   "source": [
    "<h1>VGG16</h1>"
   ]
  },
  {
   "cell_type": "code",
   "execution_count": 18,
   "id": "64c16707-a99c-4b82-8fe0-2af8b9cb3b67",
   "metadata": {},
   "outputs": [
    {
     "data": {
      "text/plain": [
       "VGG(\n",
       "  (features): Sequential(\n",
       "    (0): Conv2d(3, 64, kernel_size=(3, 3), stride=(1, 1), padding=(1, 1))\n",
       "    (1): ReLU(inplace=True)\n",
       "    (2): Conv2d(64, 64, kernel_size=(3, 3), stride=(1, 1), padding=(1, 1))\n",
       "    (3): ReLU(inplace=True)\n",
       "    (4): MaxPool2d(kernel_size=2, stride=2, padding=0, dilation=1, ceil_mode=False)\n",
       "    (5): Conv2d(64, 128, kernel_size=(3, 3), stride=(1, 1), padding=(1, 1))\n",
       "    (6): ReLU(inplace=True)\n",
       "    (7): Conv2d(128, 128, kernel_size=(3, 3), stride=(1, 1), padding=(1, 1))\n",
       "    (8): ReLU(inplace=True)\n",
       "    (9): MaxPool2d(kernel_size=2, stride=2, padding=0, dilation=1, ceil_mode=False)\n",
       "    (10): Conv2d(128, 256, kernel_size=(3, 3), stride=(1, 1), padding=(1, 1))\n",
       "    (11): ReLU(inplace=True)\n",
       "    (12): Conv2d(256, 256, kernel_size=(3, 3), stride=(1, 1), padding=(1, 1))\n",
       "    (13): ReLU(inplace=True)\n",
       "    (14): Conv2d(256, 256, kernel_size=(3, 3), stride=(1, 1), padding=(1, 1))\n",
       "    (15): ReLU(inplace=True)\n",
       "    (16): MaxPool2d(kernel_size=2, stride=2, padding=0, dilation=1, ceil_mode=False)\n",
       "    (17): Conv2d(256, 512, kernel_size=(3, 3), stride=(1, 1), padding=(1, 1))\n",
       "    (18): ReLU(inplace=True)\n",
       "    (19): Conv2d(512, 512, kernel_size=(3, 3), stride=(1, 1), padding=(1, 1))\n",
       "    (20): ReLU(inplace=True)\n",
       "    (21): Conv2d(512, 512, kernel_size=(3, 3), stride=(1, 1), padding=(1, 1))\n",
       "    (22): ReLU(inplace=True)\n",
       "    (23): MaxPool2d(kernel_size=2, stride=2, padding=0, dilation=1, ceil_mode=False)\n",
       "    (24): Conv2d(512, 512, kernel_size=(3, 3), stride=(1, 1), padding=(1, 1))\n",
       "    (25): ReLU(inplace=True)\n",
       "    (26): Conv2d(512, 512, kernel_size=(3, 3), stride=(1, 1), padding=(1, 1))\n",
       "    (27): ReLU(inplace=True)\n",
       "    (28): Conv2d(512, 512, kernel_size=(3, 3), stride=(1, 1), padding=(1, 1))\n",
       "    (29): ReLU(inplace=True)\n",
       "    (30): MaxPool2d(kernel_size=2, stride=2, padding=0, dilation=1, ceil_mode=False)\n",
       "  )\n",
       "  (avgpool): AdaptiveAvgPool2d(output_size=(7, 7))\n",
       "  (classifier): Sequential(\n",
       "    (0): Linear(in_features=25088, out_features=4096, bias=True)\n",
       "    (1): ReLU(inplace=True)\n",
       "    (2): Dropout(p=0.5, inplace=False)\n",
       "    (3): Linear(in_features=4096, out_features=4096, bias=True)\n",
       "    (4): ReLU(inplace=True)\n",
       "    (5): Dropout(p=0.5, inplace=False)\n",
       "    (6): Linear(in_features=4096, out_features=4, bias=True)\n",
       "  )\n",
       ")"
      ]
     },
     "execution_count": 18,
     "metadata": {},
     "output_type": "execute_result"
    }
   ],
   "source": [
    "model = models.vgg16(pretrained=True)\n",
    "model.classifier[6] = nn.Linear(in_features=model.classifier[6].in_features, out_features=4)    \n",
    "model.to(device)"
   ]
  },
  {
   "cell_type": "code",
   "execution_count": 21,
   "id": "8684d4b9-0be2-4cef-9af7-cb0aac9b788d",
   "metadata": {},
   "outputs": [
    {
     "name": "stderr",
     "output_type": "stream",
     "text": [
      "Epoch 1/30: 100%|██████████| 281/281 [02:03<00:00,  2.27it/s]\n"
     ]
    },
    {
     "name": "stdout",
     "output_type": "stream",
     "text": [
      "Epoch 1/30\n",
      "Train Loss: 0.7511, Train Acc: 0.6443\n",
      "Val Loss: 0.5449, Val Acc: 0.7400\n"
     ]
    },
    {
     "name": "stderr",
     "output_type": "stream",
     "text": [
      "Epoch 2/30: 100%|██████████| 281/281 [02:00<00:00,  2.32it/s]\n"
     ]
    },
    {
     "name": "stdout",
     "output_type": "stream",
     "text": [
      "Epoch 2/30\n",
      "Train Loss: 0.4379, Train Acc: 0.8022\n",
      "Val Loss: 0.3652, Val Acc: 0.8517\n"
     ]
    },
    {
     "name": "stderr",
     "output_type": "stream",
     "text": [
      "Epoch 3/30: 100%|██████████| 281/281 [02:00<00:00,  2.33it/s]\n"
     ]
    },
    {
     "name": "stdout",
     "output_type": "stream",
     "text": [
      "Epoch 3/30\n",
      "Train Loss: 0.2428, Train Acc: 0.9020\n",
      "Val Loss: 0.2827, Val Acc: 0.8891\n"
     ]
    },
    {
     "name": "stderr",
     "output_type": "stream",
     "text": [
      "Epoch 4/30: 100%|██████████| 281/281 [02:00<00:00,  2.32it/s]\n"
     ]
    },
    {
     "name": "stdout",
     "output_type": "stream",
     "text": [
      "Epoch 4/30\n",
      "Train Loss: 0.1094, Train Acc: 0.9577\n",
      "Val Loss: 0.2670, Val Acc: 0.9110\n"
     ]
    },
    {
     "name": "stderr",
     "output_type": "stream",
     "text": [
      "Epoch 5/30: 100%|██████████| 281/281 [01:58<00:00,  2.36it/s]\n"
     ]
    },
    {
     "name": "stdout",
     "output_type": "stream",
     "text": [
      "Epoch 5/30\n",
      "Train Loss: 0.1110, Train Acc: 0.9650\n",
      "Val Loss: 0.1412, Val Acc: 0.9454\n"
     ]
    },
    {
     "name": "stderr",
     "output_type": "stream",
     "text": [
      "Epoch 6/30: 100%|██████████| 281/281 [01:52<00:00,  2.50it/s]\n"
     ]
    },
    {
     "name": "stdout",
     "output_type": "stream",
     "text": [
      "Epoch 6/30\n",
      "Train Loss: 0.0464, Train Acc: 0.9835\n",
      "Val Loss: 0.1957, Val Acc: 0.9430\n"
     ]
    },
    {
     "name": "stderr",
     "output_type": "stream",
     "text": [
      "Epoch 7/30: 100%|██████████| 281/281 [01:52<00:00,  2.50it/s]\n"
     ]
    },
    {
     "name": "stdout",
     "output_type": "stream",
     "text": [
      "Epoch 7/30\n",
      "Train Loss: 0.0361, Train Acc: 0.9866\n",
      "Val Loss: 0.0997, Val Acc: 0.9641\n"
     ]
    },
    {
     "name": "stderr",
     "output_type": "stream",
     "text": [
      "Epoch 8/30: 100%|██████████| 281/281 [01:52<00:00,  2.50it/s]\n"
     ]
    },
    {
     "name": "stdout",
     "output_type": "stream",
     "text": [
      "Epoch 8/30\n",
      "Train Loss: 0.0371, Train Acc: 0.9877\n",
      "Val Loss: 0.0885, Val Acc: 0.9664\n"
     ]
    },
    {
     "name": "stderr",
     "output_type": "stream",
     "text": [
      "Epoch 9/30: 100%|██████████| 281/281 [01:52<00:00,  2.50it/s]\n"
     ]
    },
    {
     "name": "stdout",
     "output_type": "stream",
     "text": [
      "Epoch 9/30\n",
      "Train Loss: 0.0462, Train Acc: 0.9843\n",
      "Val Loss: 0.1689, Val Acc: 0.9430\n"
     ]
    },
    {
     "name": "stderr",
     "output_type": "stream",
     "text": [
      "Epoch 10/30: 100%|██████████| 281/281 [01:52<00:00,  2.50it/s]\n"
     ]
    },
    {
     "name": "stdout",
     "output_type": "stream",
     "text": [
      "Epoch 10/30\n",
      "Train Loss: 0.0210, Train Acc: 0.9925\n",
      "Val Loss: 0.2251, Val Acc: 0.9407\n"
     ]
    },
    {
     "name": "stderr",
     "output_type": "stream",
     "text": [
      "Epoch 11/30: 100%|██████████| 281/281 [01:52<00:00,  2.50it/s]\n"
     ]
    },
    {
     "name": "stdout",
     "output_type": "stream",
     "text": [
      "Epoch 11/30\n",
      "Train Loss: 0.0877, Train Acc: 0.9694\n",
      "Val Loss: 0.1483, Val Acc: 0.9555\n"
     ]
    },
    {
     "name": "stderr",
     "output_type": "stream",
     "text": [
      "Epoch 12/30: 100%|██████████| 281/281 [01:52<00:00,  2.50it/s]\n"
     ]
    },
    {
     "name": "stdout",
     "output_type": "stream",
     "text": [
      "Epoch 12/30\n",
      "Train Loss: 0.0106, Train Acc: 0.9963\n",
      "Val Loss: 0.1269, Val Acc: 0.9633\n"
     ]
    },
    {
     "name": "stderr",
     "output_type": "stream",
     "text": [
      "Epoch 13/30: 100%|██████████| 281/281 [01:52<00:00,  2.50it/s]\n"
     ]
    },
    {
     "name": "stdout",
     "output_type": "stream",
     "text": [
      "Epoch 13/30\n",
      "Train Loss: 0.0018, Train Acc: 0.9994\n",
      "Val Loss: 0.0669, Val Acc: 0.9820\n"
     ]
    },
    {
     "name": "stderr",
     "output_type": "stream",
     "text": [
      "Epoch 14/30: 100%|██████████| 281/281 [01:52<00:00,  2.50it/s]\n"
     ]
    },
    {
     "name": "stdout",
     "output_type": "stream",
     "text": [
      "Epoch 14/30\n",
      "Train Loss: 0.0001, Train Acc: 1.0000\n",
      "Val Loss: 0.0639, Val Acc: 0.9820\n"
     ]
    },
    {
     "name": "stderr",
     "output_type": "stream",
     "text": [
      "Epoch 15/30: 100%|██████████| 281/281 [01:52<00:00,  2.50it/s]\n"
     ]
    },
    {
     "name": "stdout",
     "output_type": "stream",
     "text": [
      "Epoch 15/30\n",
      "Train Loss: 0.0001, Train Acc: 1.0000\n",
      "Val Loss: 0.0640, Val Acc: 0.9820\n"
     ]
    },
    {
     "name": "stderr",
     "output_type": "stream",
     "text": [
      "Epoch 16/30: 100%|██████████| 281/281 [01:52<00:00,  2.50it/s]\n"
     ]
    },
    {
     "name": "stdout",
     "output_type": "stream",
     "text": [
      "Epoch 16/30\n",
      "Train Loss: 0.0001, Train Acc: 1.0000\n",
      "Val Loss: 0.0622, Val Acc: 0.9820\n"
     ]
    },
    {
     "name": "stderr",
     "output_type": "stream",
     "text": [
      "Epoch 17/30: 100%|██████████| 281/281 [01:54<00:00,  2.45it/s]\n"
     ]
    },
    {
     "name": "stdout",
     "output_type": "stream",
     "text": [
      "Epoch 17/30\n",
      "Train Loss: 0.0001, Train Acc: 1.0000\n",
      "Val Loss: 0.0607, Val Acc: 0.9836\n"
     ]
    },
    {
     "name": "stderr",
     "output_type": "stream",
     "text": [
      "Epoch 18/30: 100%|██████████| 281/281 [02:02<00:00,  2.29it/s]\n"
     ]
    },
    {
     "name": "stdout",
     "output_type": "stream",
     "text": [
      "Epoch 18/30\n",
      "Train Loss: 0.0001, Train Acc: 1.0000\n",
      "Val Loss: 0.0592, Val Acc: 0.9844\n"
     ]
    },
    {
     "name": "stderr",
     "output_type": "stream",
     "text": [
      "Epoch 19/30: 100%|██████████| 281/281 [02:02<00:00,  2.30it/s]\n"
     ]
    },
    {
     "name": "stdout",
     "output_type": "stream",
     "text": [
      "Epoch 19/30\n",
      "Train Loss: 0.0000, Train Acc: 1.0000\n",
      "Val Loss: 0.0594, Val Acc: 0.9852\n"
     ]
    },
    {
     "name": "stderr",
     "output_type": "stream",
     "text": [
      "Epoch 20/30: 100%|██████████| 281/281 [02:01<00:00,  2.32it/s]\n"
     ]
    },
    {
     "name": "stdout",
     "output_type": "stream",
     "text": [
      "Epoch 20/30\n",
      "Train Loss: 0.0000, Train Acc: 1.0000\n",
      "Val Loss: 0.0589, Val Acc: 0.9852\n"
     ]
    },
    {
     "name": "stderr",
     "output_type": "stream",
     "text": [
      "Epoch 21/30: 100%|██████████| 281/281 [01:56<00:00,  2.40it/s]\n"
     ]
    },
    {
     "name": "stdout",
     "output_type": "stream",
     "text": [
      "Epoch 21/30\n",
      "Train Loss: 0.0000, Train Acc: 1.0000\n",
      "Val Loss: 0.0587, Val Acc: 0.9852\n"
     ]
    },
    {
     "name": "stderr",
     "output_type": "stream",
     "text": [
      "Epoch 22/30: 100%|██████████| 281/281 [01:52<00:00,  2.50it/s]\n"
     ]
    },
    {
     "name": "stdout",
     "output_type": "stream",
     "text": [
      "Epoch 22/30\n",
      "Train Loss: 0.0000, Train Acc: 1.0000\n",
      "Val Loss: 0.0586, Val Acc: 0.9852\n"
     ]
    },
    {
     "name": "stderr",
     "output_type": "stream",
     "text": [
      "Epoch 23/30: 100%|██████████| 281/281 [01:52<00:00,  2.50it/s]\n"
     ]
    },
    {
     "name": "stdout",
     "output_type": "stream",
     "text": [
      "Epoch 23/30\n",
      "Train Loss: 0.0000, Train Acc: 1.0000\n",
      "Val Loss: 0.0628, Val Acc: 0.9852\n"
     ]
    },
    {
     "name": "stderr",
     "output_type": "stream",
     "text": [
      "Epoch 24/30: 100%|██████████| 281/281 [01:52<00:00,  2.50it/s]\n"
     ]
    },
    {
     "name": "stdout",
     "output_type": "stream",
     "text": [
      "Epoch 24/30\n",
      "Train Loss: 0.0000, Train Acc: 1.0000\n",
      "Val Loss: 0.0602, Val Acc: 0.9859\n"
     ]
    },
    {
     "name": "stderr",
     "output_type": "stream",
     "text": [
      "Epoch 25/30: 100%|██████████| 281/281 [01:52<00:00,  2.50it/s]\n"
     ]
    },
    {
     "name": "stdout",
     "output_type": "stream",
     "text": [
      "Epoch 25/30\n",
      "Train Loss: 0.0000, Train Acc: 1.0000\n",
      "Val Loss: 0.0596, Val Acc: 0.9852\n"
     ]
    },
    {
     "name": "stderr",
     "output_type": "stream",
     "text": [
      "Epoch 26/30: 100%|██████████| 281/281 [01:52<00:00,  2.50it/s]\n"
     ]
    },
    {
     "name": "stdout",
     "output_type": "stream",
     "text": [
      "Epoch 26/30\n",
      "Train Loss: 0.0000, Train Acc: 1.0000\n",
      "Val Loss: 0.0597, Val Acc: 0.9859\n"
     ]
    },
    {
     "name": "stderr",
     "output_type": "stream",
     "text": [
      "Epoch 27/30: 100%|██████████| 281/281 [01:52<00:00,  2.50it/s]\n"
     ]
    },
    {
     "name": "stdout",
     "output_type": "stream",
     "text": [
      "Epoch 27/30\n",
      "Train Loss: 0.0000, Train Acc: 1.0000\n",
      "Val Loss: 0.0598, Val Acc: 0.9859\n",
      "Early stopping after 27 epochs\n"
     ]
    }
   ],
   "source": [
    "criterion = nn.CrossEntropyLoss()\n",
    "optimizer = optim.Adam(model.parameters(), lr=0.0001)\n",
    "scheduler = optim.lr_scheduler.ReduceLROnPlateau(optimizer, mode='min', factor=0.1, patience=3)\n",
    "model = train_model_with_early_stopping(\n",
    "    model=model,\n",
    "    train_loader=train_loader,\n",
    "    val_loader=val_loader,\n",
    "    optimizer=optimizer,\n",
    "    criterion=criterion,\n",
    "    scheduler=scheduler,\n",
    "    num_epochs=30,\n",
    "    device=device\n",
    ")"
   ]
  },
  {
   "cell_type": "code",
   "execution_count": 22,
   "id": "88c9c790-2dd6-4086-ae50-766328e9970d",
   "metadata": {},
   "outputs": [
    {
     "name": "stdout",
     "output_type": "stream",
     "text": [
      "Test Accuracy: 0.9820\n",
      "Classification Report:\n",
      "              precision    recall  f1-score   support\n",
      "\n",
      "     Class 0     0.9798    0.9783    0.9791       646\n",
      "     Class 1     1.0000    1.0000    1.0000       640\n",
      "     Class 2     0.9752    0.9844    0.9798       640\n",
      "     Class 3     0.9730    0.9654    0.9692       635\n",
      "\n",
      "    accuracy                         0.9820      2561\n",
      "   macro avg     0.9820    0.9820    0.9820      2561\n",
      "weighted avg     0.9820    0.9820    0.9820      2561\n",
      "\n",
      "AUC Score: 0.9991\n"
     ]
    }
   ],
   "source": [
    "test_accuracy, classification_report_str, auc_score = test_model(model, test_loader, num_classes=4, device='cuda')\n",
    "\n",
    "print(f'Test Accuracy: {test_accuracy:.4f}')\n",
    "print('Classification Report:')\n",
    "print(classification_report_str)\n",
    "print(f'AUC Score: {auc_score:.4f}')"
   ]
  },
  {
   "cell_type": "markdown",
   "id": "833e9089-d18f-49ab-9dc0-5790d709d50a",
   "metadata": {},
   "source": [
    "<h1>CNN</h1>"
   ]
  },
  {
   "cell_type": "code",
   "execution_count": 16,
   "id": "363c6f11-5f82-45b9-903c-8914cba5173c",
   "metadata": {},
   "outputs": [],
   "source": [
    "import torch\n",
    "import torch.nn as nn\n",
    "import torch.nn.functional as F\n",
    "\n",
    "class CustomCNN(nn.Module):\n",
    "    def __init__(self, num_classes=4):\n",
    "        super(CustomCNN, self).__init__()\n",
    "        \n",
    "        # First convolutional block\n",
    "        self.conv1 = nn.Conv2d(in_channels=3, out_channels=32, kernel_size=3, padding=1)\n",
    "        self.relu1 = nn.ReLU()\n",
    "        self.maxpool1 = nn.MaxPool2d(kernel_size=2, stride=2)\n",
    "        self.batchnorm1 = nn.BatchNorm2d(32)\n",
    "        \n",
    "        # Second convolutional block\n",
    "        self.conv2 = nn.Conv2d(in_channels=32, out_channels=64, kernel_size=3, padding=1)\n",
    "        self.relu2 = nn.ReLU()\n",
    "        self.maxpool2 = nn.MaxPool2d(kernel_size=2, stride=2)\n",
    "        self.batchnorm2 = nn.BatchNorm2d(64)\n",
    "        \n",
    "        # Third convolutional block\n",
    "        self.conv3 = nn.Conv2d(in_channels=64, out_channels=128, kernel_size=3, padding=1)\n",
    "        self.relu3 = nn.ReLU()\n",
    "        self.maxpool3 = nn.MaxPool2d(kernel_size=2, stride=2)\n",
    "        self.batchnorm3 = nn.BatchNorm2d(128)\n",
    "\n",
    "        # Fully connected layers\n",
    "        self.flatten = nn.Flatten()\n",
    "        self.dropout1 = nn.Dropout(0.5)\n",
    "        self.fc1 = nn.Linear(128 * 28 * 28, 128)  # Corrected input size\n",
    "        self.relu4 = nn.ReLU()\n",
    "        \n",
    "        self.dropout2 = nn.Dropout(0.5)\n",
    "        self.fc2 = nn.Linear(128, num_classes)\n",
    "        \n",
    "        self.softmax = nn.Softmax(dim=1)\n",
    "    \n",
    "    def forward(self, x):\n",
    "        # First conv block\n",
    "        x = self.conv1(x)\n",
    "        x = self.relu1(x)\n",
    "        x = self.maxpool1(x)\n",
    "        x = self.batchnorm1(x)\n",
    "        \n",
    "        # Second conv block\n",
    "        x = self.conv2(x)\n",
    "        x = self.relu2(x)\n",
    "        x = self.maxpool2(x)\n",
    "        x = self.batchnorm2(x)\n",
    "        \n",
    "        # Third conv block\n",
    "        x = self.conv3(x)\n",
    "        x = self.relu3(x)\n",
    "        x = self.maxpool3(x)\n",
    "        x = self.batchnorm3(x)\n",
    "        \n",
    "        # Fully connected layers\n",
    "        x = self.flatten(x)\n",
    "        x = self.dropout1(x)\n",
    "        x = self.fc1(x)\n",
    "        x = self.relu4(x)\n",
    "        \n",
    "        x = self.dropout2(x)\n",
    "        x = self.fc2(x)\n",
    "        \n",
    "        # Softmax output\n",
    "        x = self.softmax(x)\n",
    "        \n",
    "        return x\n",
    "\n",
    "# Instantiate the model\n",
    "model = CustomCNN(num_classes=4).to(device)"
   ]
  },
  {
   "cell_type": "code",
   "execution_count": 17,
   "id": "783275ad-0c17-4b16-9176-d63e6794ded0",
   "metadata": {},
   "outputs": [
    {
     "name": "stderr",
     "output_type": "stream",
     "text": [
      "Epoch 1/50: 100%|██████████| 281/281 [00:21<00:00, 13.01it/s]\n"
     ]
    },
    {
     "name": "stdout",
     "output_type": "stream",
     "text": [
      "Epoch 1/50\n",
      "Train Loss: 1.1557, Train Acc: 0.5780\n",
      "Val Loss: 1.0682, Val Acc: 0.6690\n"
     ]
    },
    {
     "name": "stderr",
     "output_type": "stream",
     "text": [
      "Epoch 2/50: 100%|██████████| 281/281 [00:19<00:00, 14.65it/s]\n"
     ]
    },
    {
     "name": "stdout",
     "output_type": "stream",
     "text": [
      "Epoch 2/50\n",
      "Train Loss: 1.0408, Train Acc: 0.6974\n",
      "Val Loss: 0.9743, Val Acc: 0.7627\n"
     ]
    },
    {
     "name": "stderr",
     "output_type": "stream",
     "text": [
      "Epoch 3/50: 100%|██████████| 281/281 [00:19<00:00, 14.77it/s]\n"
     ]
    },
    {
     "name": "stdout",
     "output_type": "stream",
     "text": [
      "Epoch 3/50\n",
      "Train Loss: 1.0070, Train Acc: 0.7298\n",
      "Val Loss: 0.9573, Val Acc: 0.7830\n"
     ]
    },
    {
     "name": "stderr",
     "output_type": "stream",
     "text": [
      "Epoch 4/50: 100%|██████████| 281/281 [00:19<00:00, 14.45it/s]\n"
     ]
    },
    {
     "name": "stdout",
     "output_type": "stream",
     "text": [
      "Epoch 4/50\n",
      "Train Loss: 0.9347, Train Acc: 0.8049\n",
      "Val Loss: 0.8879, Val Acc: 0.8610\n"
     ]
    },
    {
     "name": "stderr",
     "output_type": "stream",
     "text": [
      "Epoch 5/50: 100%|██████████| 281/281 [00:19<00:00, 14.73it/s]\n"
     ]
    },
    {
     "name": "stdout",
     "output_type": "stream",
     "text": [
      "Epoch 5/50\n",
      "Train Loss: 0.8658, Train Acc: 0.8800\n",
      "Val Loss: 0.8385, Val Acc: 0.9087\n"
     ]
    },
    {
     "name": "stderr",
     "output_type": "stream",
     "text": [
      "Epoch 6/50: 100%|██████████| 281/281 [00:18<00:00, 14.94it/s]\n"
     ]
    },
    {
     "name": "stdout",
     "output_type": "stream",
     "text": [
      "Epoch 6/50\n",
      "Train Loss: 0.8230, Train Acc: 0.9241\n",
      "Val Loss: 0.8252, Val Acc: 0.9219\n"
     ]
    },
    {
     "name": "stderr",
     "output_type": "stream",
     "text": [
      "Epoch 7/50: 100%|██████████| 281/281 [00:18<00:00, 14.88it/s]\n"
     ]
    },
    {
     "name": "stdout",
     "output_type": "stream",
     "text": [
      "Epoch 7/50\n",
      "Train Loss: 0.7966, Train Acc: 0.9514\n",
      "Val Loss: 0.7884, Val Acc: 0.9617\n"
     ]
    },
    {
     "name": "stderr",
     "output_type": "stream",
     "text": [
      "Epoch 8/50: 100%|██████████| 281/281 [00:18<00:00, 14.93it/s]\n"
     ]
    },
    {
     "name": "stdout",
     "output_type": "stream",
     "text": [
      "Epoch 8/50\n",
      "Train Loss: 0.7815, Train Acc: 0.9676\n",
      "Val Loss: 0.7771, Val Acc: 0.9688\n"
     ]
    },
    {
     "name": "stderr",
     "output_type": "stream",
     "text": [
      "Epoch 9/50: 100%|██████████| 281/281 [00:18<00:00, 14.93it/s]\n"
     ]
    },
    {
     "name": "stdout",
     "output_type": "stream",
     "text": [
      "Epoch 9/50\n",
      "Train Loss: 0.7721, Train Acc: 0.9759\n",
      "Val Loss: 0.7698, Val Acc: 0.9766\n"
     ]
    },
    {
     "name": "stderr",
     "output_type": "stream",
     "text": [
      "Epoch 10/50: 100%|██████████| 281/281 [00:18<00:00, 14.85it/s]\n"
     ]
    },
    {
     "name": "stdout",
     "output_type": "stream",
     "text": [
      "Epoch 10/50\n",
      "Train Loss: 0.7678, Train Acc: 0.9795\n",
      "Val Loss: 0.7643, Val Acc: 0.9813\n"
     ]
    },
    {
     "name": "stderr",
     "output_type": "stream",
     "text": [
      "Epoch 11/50: 100%|██████████| 281/281 [00:19<00:00, 14.76it/s]\n"
     ]
    },
    {
     "name": "stdout",
     "output_type": "stream",
     "text": [
      "Epoch 11/50\n",
      "Train Loss: 0.7630, Train Acc: 0.9840\n",
      "Val Loss: 0.7621, Val Acc: 0.9844\n"
     ]
    },
    {
     "name": "stderr",
     "output_type": "stream",
     "text": [
      "Epoch 12/50: 100%|██████████| 281/281 [00:18<00:00, 14.87it/s]\n"
     ]
    },
    {
     "name": "stdout",
     "output_type": "stream",
     "text": [
      "Epoch 12/50\n",
      "Train Loss: 0.7583, Train Acc: 0.9887\n",
      "Val Loss: 0.7609, Val Acc: 0.9844\n"
     ]
    },
    {
     "name": "stderr",
     "output_type": "stream",
     "text": [
      "Epoch 13/50: 100%|██████████| 281/281 [00:19<00:00, 14.78it/s]\n"
     ]
    },
    {
     "name": "stdout",
     "output_type": "stream",
     "text": [
      "Epoch 13/50\n",
      "Train Loss: 0.7552, Train Acc: 0.9915\n",
      "Val Loss: 0.7592, Val Acc: 0.9867\n"
     ]
    },
    {
     "name": "stderr",
     "output_type": "stream",
     "text": [
      "Epoch 14/50: 100%|██████████| 281/281 [00:18<00:00, 14.79it/s]\n"
     ]
    },
    {
     "name": "stdout",
     "output_type": "stream",
     "text": [
      "Epoch 14/50\n",
      "Train Loss: 0.7537, Train Acc: 0.9926\n",
      "Val Loss: 0.7590, Val Acc: 0.9852\n"
     ]
    },
    {
     "name": "stderr",
     "output_type": "stream",
     "text": [
      "Epoch 15/50: 100%|██████████| 281/281 [00:19<00:00, 14.78it/s]\n"
     ]
    },
    {
     "name": "stdout",
     "output_type": "stream",
     "text": [
      "Epoch 15/50\n",
      "Train Loss: 0.7643, Train Acc: 0.9821\n",
      "Val Loss: 0.7669, Val Acc: 0.9789\n"
     ]
    },
    {
     "name": "stderr",
     "output_type": "stream",
     "text": [
      "Epoch 16/50: 100%|██████████| 281/281 [00:18<00:00, 14.82it/s]\n"
     ]
    },
    {
     "name": "stdout",
     "output_type": "stream",
     "text": [
      "Epoch 16/50\n",
      "Train Loss: 0.7553, Train Acc: 0.9901\n",
      "Val Loss: 0.7622, Val Acc: 0.9820\n"
     ]
    },
    {
     "name": "stderr",
     "output_type": "stream",
     "text": [
      "Epoch 17/50: 100%|██████████| 281/281 [00:18<00:00, 14.80it/s]\n"
     ]
    },
    {
     "name": "stdout",
     "output_type": "stream",
     "text": [
      "Epoch 17/50\n",
      "Train Loss: 0.7537, Train Acc: 0.9922\n",
      "Val Loss: 0.7652, Val Acc: 0.9805\n"
     ]
    },
    {
     "name": "stderr",
     "output_type": "stream",
     "text": [
      "Epoch 18/50: 100%|██████████| 281/281 [00:18<00:00, 14.83it/s]\n"
     ]
    },
    {
     "name": "stdout",
     "output_type": "stream",
     "text": [
      "Epoch 18/50\n",
      "Train Loss: 0.7603, Train Acc: 0.9852\n",
      "Val Loss: 0.7628, Val Acc: 0.9820\n"
     ]
    },
    {
     "name": "stderr",
     "output_type": "stream",
     "text": [
      "Epoch 19/50: 100%|██████████| 281/281 [00:18<00:00, 14.94it/s]\n"
     ]
    },
    {
     "name": "stdout",
     "output_type": "stream",
     "text": [
      "Epoch 19/50\n",
      "Train Loss: 0.7494, Train Acc: 0.9952\n",
      "Val Loss: 0.7583, Val Acc: 0.9852\n"
     ]
    },
    {
     "name": "stderr",
     "output_type": "stream",
     "text": [
      "Epoch 20/50: 100%|██████████| 281/281 [00:17<00:00, 16.13it/s]\n"
     ]
    },
    {
     "name": "stdout",
     "output_type": "stream",
     "text": [
      "Epoch 20/50\n",
      "Train Loss: 0.7476, Train Acc: 0.9969\n",
      "Val Loss: 0.7568, Val Acc: 0.9867\n"
     ]
    },
    {
     "name": "stderr",
     "output_type": "stream",
     "text": [
      "Epoch 21/50: 100%|██████████| 281/281 [00:17<00:00, 16.09it/s]\n"
     ]
    },
    {
     "name": "stdout",
     "output_type": "stream",
     "text": [
      "Epoch 21/50\n",
      "Train Loss: 0.7478, Train Acc: 0.9968\n",
      "Val Loss: 0.7580, Val Acc: 0.9867\n"
     ]
    },
    {
     "name": "stderr",
     "output_type": "stream",
     "text": [
      "Epoch 22/50: 100%|██████████| 281/281 [00:17<00:00, 16.15it/s]\n"
     ]
    },
    {
     "name": "stdout",
     "output_type": "stream",
     "text": [
      "Epoch 22/50\n",
      "Train Loss: 0.7460, Train Acc: 0.9985\n",
      "Val Loss: 0.7578, Val Acc: 0.9859\n"
     ]
    },
    {
     "name": "stderr",
     "output_type": "stream",
     "text": [
      "Epoch 23/50: 100%|██████████| 281/281 [00:17<00:00, 16.15it/s]\n"
     ]
    },
    {
     "name": "stdout",
     "output_type": "stream",
     "text": [
      "Epoch 23/50\n",
      "Train Loss: 0.7466, Train Acc: 0.9979\n",
      "Val Loss: 0.7572, Val Acc: 0.9875\n"
     ]
    },
    {
     "name": "stderr",
     "output_type": "stream",
     "text": [
      "Epoch 24/50: 100%|██████████| 281/281 [00:17<00:00, 16.04it/s]\n"
     ]
    },
    {
     "name": "stdout",
     "output_type": "stream",
     "text": [
      "Epoch 24/50\n",
      "Train Loss: 0.7469, Train Acc: 0.9975\n",
      "Val Loss: 0.7572, Val Acc: 0.9859\n"
     ]
    },
    {
     "name": "stderr",
     "output_type": "stream",
     "text": [
      "Epoch 25/50: 100%|██████████| 281/281 [00:17<00:00, 16.16it/s]\n"
     ]
    },
    {
     "name": "stdout",
     "output_type": "stream",
     "text": [
      "Epoch 25/50\n",
      "Train Loss: 0.7460, Train Acc: 0.9984\n",
      "Val Loss: 0.7571, Val Acc: 0.9859\n",
      "Early stopping after 25 epochs\n"
     ]
    }
   ],
   "source": [
    "criterion = nn.CrossEntropyLoss()\n",
    "optimizer = optim.Adam(model.parameters(), lr=0.0001)\n",
    "scheduler = optim.lr_scheduler.ReduceLROnPlateau(optimizer, mode='min', factor=0.1, patience=3)\n",
    "model = train_model_with_early_stopping(\n",
    "    model=model,\n",
    "    train_loader=train_loader,\n",
    "    val_loader=val_loader,\n",
    "    optimizer=optimizer,\n",
    "    criterion=criterion,\n",
    "    scheduler=scheduler,\n",
    "    num_epochs=50,\n",
    "    device=device\n",
    ")"
   ]
  },
  {
   "cell_type": "code",
   "execution_count": 18,
   "id": "0e4a33c1-34b8-48ca-bf1a-425c2d4ba9ff",
   "metadata": {},
   "outputs": [
    {
     "name": "stdout",
     "output_type": "stream",
     "text": [
      "Test Accuracy: 0.9906\n",
      "Classification Report:\n",
      "              precision    recall  f1-score   support\n",
      "\n",
      "     Class 0     0.9862    0.9938    0.9900       646\n",
      "     Class 1     1.0000    1.0000    1.0000       640\n",
      "     Class 2     0.9922    0.9891    0.9906       640\n",
      "     Class 3     0.9842    0.9795    0.9818       635\n",
      "\n",
      "    accuracy                         0.9906      2561\n",
      "   macro avg     0.9906    0.9906    0.9906      2561\n",
      "weighted avg     0.9906    0.9906    0.9906      2561\n",
      "\n",
      "AUC Score: 0.9997\n"
     ]
    }
   ],
   "source": [
    "test_accuracy, classification_report_str, auc_score = test_model(model, test_loader, num_classes=4, device='cuda')\n",
    "\n",
    "print(f'Test Accuracy: {test_accuracy:.4f}')\n",
    "print('Classification Report:')\n",
    "print(classification_report_str)\n",
    "print(f'AUC Score: {auc_score:.4f}')"
   ]
  },
  {
   "cell_type": "markdown",
   "id": "c6a4ea68-cd76-477f-a23e-f6642852b6a3",
   "metadata": {},
   "source": [
    "<h1>EfficientNet-B2+VGG16 Ensemble</h1>"
   ]
  },
  {
   "cell_type": "code",
   "execution_count": 24,
   "id": "38a66f2a-8d7b-448c-9570-ed222a8b2405",
   "metadata": {},
   "outputs": [
    {
     "data": {
      "text/plain": [
       "==================================================================================================================================\n",
       "Layer (type (var_name))                            Input Shape          Output Shape         Param #              Trainable\n",
       "==================================================================================================================================\n",
       "EfficientNet (EfficientNet)                        [32, 3, 224, 224]    [32, 1408]           --                   True\n",
       "├─Conv2d (conv_stem)                               [32, 3, 224, 224]    [32, 32, 112, 112]   864                  True\n",
       "├─BatchNormAct2d (bn1)                             [32, 32, 112, 112]   [32, 32, 112, 112]   64                   True\n",
       "│    └─Identity (drop)                             [32, 32, 112, 112]   [32, 32, 112, 112]   --                   --\n",
       "│    └─SiLU (act)                                  [32, 32, 112, 112]   [32, 32, 112, 112]   --                   --\n",
       "├─Sequential (blocks)                              [32, 32, 112, 112]   [32, 352, 7, 7]      --                   True\n",
       "│    └─Sequential (0)                              [32, 32, 112, 112]   [32, 16, 112, 112]   --                   True\n",
       "│    │    └─DepthwiseSeparableConv (0)             [32, 32, 112, 112]   [32, 16, 112, 112]   1,448                True\n",
       "│    │    └─DepthwiseSeparableConv (1)             [32, 16, 112, 112]   [32, 16, 112, 112]   612                  True\n",
       "│    └─Sequential (1)                              [32, 16, 112, 112]   [32, 24, 56, 56]     --                   True\n",
       "│    │    └─InvertedResidual (0)                   [32, 16, 112, 112]   [32, 24, 56, 56]     6,004                True\n",
       "│    │    └─InvertedResidual (1)                   [32, 24, 56, 56]     [32, 24, 56, 56]     10,710               True\n",
       "│    │    └─InvertedResidual (2)                   [32, 24, 56, 56]     [32, 24, 56, 56]     10,710               True\n",
       "│    └─Sequential (2)                              [32, 24, 56, 56]     [32, 48, 28, 28]     --                   True\n",
       "│    │    └─InvertedResidual (0)                   [32, 24, 56, 56]     [32, 48, 28, 28]     16,518               True\n",
       "│    │    └─InvertedResidual (1)                   [32, 48, 28, 28]     [32, 48, 28, 28]     43,308               True\n",
       "│    │    └─InvertedResidual (2)                   [32, 48, 28, 28]     [32, 48, 28, 28]     43,308               True\n",
       "│    └─Sequential (3)                              [32, 48, 28, 28]     [32, 88, 14, 14]     --                   True\n",
       "│    │    └─InvertedResidual (0)                   [32, 48, 28, 28]     [32, 88, 14, 14]     50,300               True\n",
       "│    │    └─InvertedResidual (1)                   [32, 88, 14, 14]     [32, 88, 14, 14]     123,750              True\n",
       "│    │    └─InvertedResidual (2)                   [32, 88, 14, 14]     [32, 88, 14, 14]     123,750              True\n",
       "│    │    └─InvertedResidual (3)                   [32, 88, 14, 14]     [32, 88, 14, 14]     123,750              True\n",
       "│    └─Sequential (4)                              [32, 88, 14, 14]     [32, 120, 14, 14]    --                   True\n",
       "│    │    └─InvertedResidual (0)                   [32, 88, 14, 14]     [32, 120, 14, 14]    149,158              True\n",
       "│    │    └─InvertedResidual (1)                   [32, 120, 14, 14]    [32, 120, 14, 14]    237,870              True\n",
       "│    │    └─InvertedResidual (2)                   [32, 120, 14, 14]    [32, 120, 14, 14]    237,870              True\n",
       "│    │    └─InvertedResidual (3)                   [32, 120, 14, 14]    [32, 120, 14, 14]    237,870              True\n",
       "│    └─Sequential (5)                              [32, 120, 14, 14]    [32, 208, 7, 7]      --                   True\n",
       "│    │    └─InvertedResidual (0)                   [32, 120, 14, 14]    [32, 208, 7, 7]      301,406              True\n",
       "│    │    └─InvertedResidual (1)                   [32, 208, 7, 7]      [32, 208, 7, 7]      686,868              True\n",
       "│    │    └─InvertedResidual (2)                   [32, 208, 7, 7]      [32, 208, 7, 7]      686,868              True\n",
       "│    │    └─InvertedResidual (3)                   [32, 208, 7, 7]      [32, 208, 7, 7]      686,868              True\n",
       "│    │    └─InvertedResidual (4)                   [32, 208, 7, 7]      [32, 208, 7, 7]      686,868              True\n",
       "│    └─Sequential (6)                              [32, 208, 7, 7]      [32, 352, 7, 7]      --                   True\n",
       "│    │    └─InvertedResidual (0)                   [32, 208, 7, 7]      [32, 352, 7, 7]      846,900              True\n",
       "│    │    └─InvertedResidual (1)                   [32, 352, 7, 7]      [32, 352, 7, 7]      1,888,920            True\n",
       "├─Conv2d (conv_head)                               [32, 352, 7, 7]      [32, 1408, 7, 7]     495,616              True\n",
       "├─BatchNormAct2d (bn2)                             [32, 1408, 7, 7]     [32, 1408, 7, 7]     2,816                True\n",
       "│    └─Identity (drop)                             [32, 1408, 7, 7]     [32, 1408, 7, 7]     --                   --\n",
       "│    └─SiLU (act)                                  [32, 1408, 7, 7]     [32, 1408, 7, 7]     --                   --\n",
       "├─SelectAdaptivePool2d (global_pool)               [32, 1408, 7, 7]     [32, 1408]           --                   --\n",
       "│    └─AdaptiveAvgPool2d (pool)                    [32, 1408, 7, 7]     [32, 1408, 1, 1]     --                   --\n",
       "│    └─Flatten (flatten)                           [32, 1408, 1, 1]     [32, 1408]           --                   --\n",
       "├─Identity (classifier)                            [32, 1408]           [32, 1408]           --                   --\n",
       "==================================================================================================================================\n",
       "Total params: 7,700,994\n",
       "Trainable params: 7,700,994\n",
       "Non-trainable params: 0\n",
       "Total mult-adds (Units.GIGABYTES): 21.04\n",
       "==================================================================================================================================\n",
       "Input size (MB): 19.27\n",
       "Forward/backward pass size (MB): 2510.74\n",
       "Params size (MB): 30.53\n",
       "Estimated Total Size (MB): 2560.54\n",
       "=================================================================================================================================="
      ]
     },
     "execution_count": 24,
     "metadata": {},
     "output_type": "execute_result"
    }
   ],
   "source": [
    "from torchinfo import summary\n",
    "import timm\n",
    "from torchvision import models\n",
    "model = timm.create_model(\"efficientnet_b2\", pretrained=True)\n",
    "model.classifier = nn.Identity()\n",
    "summary(model=model, \n",
    "        input_size=(32, 3, 224, 224),  \n",
    "        col_names=[\"input_size\", \"output_size\", \"num_params\", \"trainable\"],\n",
    "        col_width=20,\n",
    "        row_settings=[\"var_names\"]\n",
    ")"
   ]
  },
  {
   "cell_type": "code",
   "execution_count": 26,
   "id": "4a1b3b84-fbe1-4372-bed4-798c2439b9fb",
   "metadata": {},
   "outputs": [
    {
     "data": {
      "text/plain": [
       "========================================================================================================================\n",
       "Layer (type (var_name))                  Input Shape          Output Shape         Param #              Trainable\n",
       "========================================================================================================================\n",
       "VGG (VGG)                                [32, 3, 224, 224]    [32, 25088]          --                   True\n",
       "├─Sequential (features)                  [32, 3, 224, 224]    [32, 512, 7, 7]      --                   True\n",
       "│    └─Conv2d (0)                        [32, 3, 224, 224]    [32, 64, 224, 224]   1,792                True\n",
       "│    └─ReLU (1)                          [32, 64, 224, 224]   [32, 64, 224, 224]   --                   --\n",
       "│    └─Conv2d (2)                        [32, 64, 224, 224]   [32, 64, 224, 224]   36,928               True\n",
       "│    └─ReLU (3)                          [32, 64, 224, 224]   [32, 64, 224, 224]   --                   --\n",
       "│    └─MaxPool2d (4)                     [32, 64, 224, 224]   [32, 64, 112, 112]   --                   --\n",
       "│    └─Conv2d (5)                        [32, 64, 112, 112]   [32, 128, 112, 112]  73,856               True\n",
       "│    └─ReLU (6)                          [32, 128, 112, 112]  [32, 128, 112, 112]  --                   --\n",
       "│    └─Conv2d (7)                        [32, 128, 112, 112]  [32, 128, 112, 112]  147,584              True\n",
       "│    └─ReLU (8)                          [32, 128, 112, 112]  [32, 128, 112, 112]  --                   --\n",
       "│    └─MaxPool2d (9)                     [32, 128, 112, 112]  [32, 128, 56, 56]    --                   --\n",
       "│    └─Conv2d (10)                       [32, 128, 56, 56]    [32, 256, 56, 56]    295,168              True\n",
       "│    └─ReLU (11)                         [32, 256, 56, 56]    [32, 256, 56, 56]    --                   --\n",
       "│    └─Conv2d (12)                       [32, 256, 56, 56]    [32, 256, 56, 56]    590,080              True\n",
       "│    └─ReLU (13)                         [32, 256, 56, 56]    [32, 256, 56, 56]    --                   --\n",
       "│    └─Conv2d (14)                       [32, 256, 56, 56]    [32, 256, 56, 56]    590,080              True\n",
       "│    └─ReLU (15)                         [32, 256, 56, 56]    [32, 256, 56, 56]    --                   --\n",
       "│    └─MaxPool2d (16)                    [32, 256, 56, 56]    [32, 256, 28, 28]    --                   --\n",
       "│    └─Conv2d (17)                       [32, 256, 28, 28]    [32, 512, 28, 28]    1,180,160            True\n",
       "│    └─ReLU (18)                         [32, 512, 28, 28]    [32, 512, 28, 28]    --                   --\n",
       "│    └─Conv2d (19)                       [32, 512, 28, 28]    [32, 512, 28, 28]    2,359,808            True\n",
       "│    └─ReLU (20)                         [32, 512, 28, 28]    [32, 512, 28, 28]    --                   --\n",
       "│    └─Conv2d (21)                       [32, 512, 28, 28]    [32, 512, 28, 28]    2,359,808            True\n",
       "│    └─ReLU (22)                         [32, 512, 28, 28]    [32, 512, 28, 28]    --                   --\n",
       "│    └─MaxPool2d (23)                    [32, 512, 28, 28]    [32, 512, 14, 14]    --                   --\n",
       "│    └─Conv2d (24)                       [32, 512, 14, 14]    [32, 512, 14, 14]    2,359,808            True\n",
       "│    └─ReLU (25)                         [32, 512, 14, 14]    [32, 512, 14, 14]    --                   --\n",
       "│    └─Conv2d (26)                       [32, 512, 14, 14]    [32, 512, 14, 14]    2,359,808            True\n",
       "│    └─ReLU (27)                         [32, 512, 14, 14]    [32, 512, 14, 14]    --                   --\n",
       "│    └─Conv2d (28)                       [32, 512, 14, 14]    [32, 512, 14, 14]    2,359,808            True\n",
       "│    └─ReLU (29)                         [32, 512, 14, 14]    [32, 512, 14, 14]    --                   --\n",
       "│    └─MaxPool2d (30)                    [32, 512, 14, 14]    [32, 512, 7, 7]      --                   --\n",
       "├─AdaptiveAvgPool2d (avgpool)            [32, 512, 7, 7]      [32, 512, 7, 7]      --                   --\n",
       "├─Identity (classifier)                  [32, 25088]          [32, 25088]          --                   --\n",
       "========================================================================================================================\n",
       "Total params: 14,714,688\n",
       "Trainable params: 14,714,688\n",
       "Non-trainable params: 0\n",
       "Total mult-adds (Units.GIGABYTES): 491.53\n",
       "========================================================================================================================\n",
       "Input size (MB): 19.27\n",
       "Forward/backward pass size (MB): 3468.17\n",
       "Params size (MB): 58.86\n",
       "Estimated Total Size (MB): 3546.29\n",
       "========================================================================================================================"
      ]
     },
     "execution_count": 26,
     "metadata": {},
     "output_type": "execute_result"
    }
   ],
   "source": [
    "model = models.vgg16(pretrained=True)\n",
    "model.classifier = nn.Identity()\n",
    "summary(model=model, \n",
    "        input_size=(32, 3, 224, 224),  \n",
    "        col_names=[\"input_size\", \"output_size\", \"num_params\", \"trainable\"],\n",
    "        col_width=20,\n",
    "        row_settings=[\"var_names\"]\n",
    ")"
   ]
  },
  {
   "cell_type": "code",
   "execution_count": 28,
   "id": "b9fd2267-5548-4304-a791-a362710b8760",
   "metadata": {},
   "outputs": [],
   "source": [
    "import torch\n",
    "import torch.nn as nn\n",
    "import timm\n",
    "from torchvision import models\n",
    "\n",
    "class EnsembleModel(nn.Module):\n",
    "    def __init__(self, num_classes=4):\n",
    "        super(EnsembleModel, self).__init__()\n",
    "        \n",
    "        # VGG16 model without classifier\n",
    "        self.vgg16 = models.vgg16(pretrained=True)\n",
    "        self.vgg16.classifier = nn.Identity() \n",
    "        \n",
    "        # EfficientNet-B2 model without classifier\n",
    "        self.efficientnet = timm.create_model(\"efficientnet_b2\", pretrained=True)\n",
    "        self.efficientnet.classifier = nn.Identity()  # Remove the classifier\n",
    "        \n",
    "        # Adaptive pooling to match the output sizes\n",
    "        self.adaptive_pool = nn.AdaptiveAvgPool2d((7, 7))\n",
    "        \n",
    "        # Fully connected layers\n",
    "        self.dropout1 = nn.Dropout(0.5)\n",
    "        self.flatten = nn.Flatten()\n",
    "        self.bn1 = nn.BatchNorm1d(7 * 7 * (512 + 1408))  # Concatenating VGG16 (512) + EfficientNet-B2 (1408)\n",
    "        self.fc1 = nn.Linear(7 * 7 * (512 + 1408), 256)\n",
    "        self.bn2 = nn.BatchNorm1d(256)\n",
    "        self.relu = nn.ReLU()\n",
    "        self.dropout2 = nn.Dropout(0.5)\n",
    "        self.bn3 = nn.BatchNorm1d(256)\n",
    "        self.fc2 = nn.Linear(256, 64)\n",
    "        self.bn4 = nn.BatchNorm1d(64)\n",
    "        self.fc3 = nn.Linear(64, num_classes)\n",
    "\n",
    "    def forward(self, x):\n",
    "        # VGG16 feature extraction\n",
    "        vgg_features = self.vgg16.features(x)  # Extract features using VGG16\n",
    "        vgg_features = self.adaptive_pool(vgg_features)\n",
    "        \n",
    "        # EfficientNet-B2 feature extraction\n",
    "        efficientnet_features = self.efficientnet.forward_features(x)  # Extract features using EfficientNet-B2\n",
    "        efficientnet_features = self.adaptive_pool(efficientnet_features)\n",
    "        \n",
    "        # Concatenate features along the channel dimension\n",
    "        combined_features = torch.cat((vgg_features, efficientnet_features), dim=1)\n",
    "        \n",
    "        # Process combined features\n",
    "        x = self.dropout1(combined_features)\n",
    "        x = self.flatten(x)\n",
    "        x = self.bn1(x)\n",
    "        x = self.fc1(x)\n",
    "        x = self.bn2(x)\n",
    "        x = self.relu(x)\n",
    "        x = self.dropout2(x)\n",
    "        x = self.bn3(x)\n",
    "        x = self.fc2(x)\n",
    "        x = self.bn4(x)\n",
    "        x = self.relu(x)\n",
    "        x = self.fc3(x)\n",
    "        \n",
    "        return x\n",
    "\n",
    "def create_model(num_classes=4):\n",
    "    return EnsembleModel(num_classes)\n",
    "\n",
    "model = create_model(num_classes=4).to(device)\n"
   ]
  },
  {
   "cell_type": "code",
   "execution_count": 29,
   "id": "52196bb9-1052-46ca-a895-aa00e827ad61",
   "metadata": {},
   "outputs": [
    {
     "name": "stderr",
     "output_type": "stream",
     "text": [
      "Epoch 1/50: 100%|██████████| 281/281 [02:40<00:00,  1.75it/s]\n"
     ]
    },
    {
     "name": "stdout",
     "output_type": "stream",
     "text": [
      "Epoch 1/50\n",
      "Train Loss: 0.7619, Train Acc: 0.7059\n",
      "Val Loss: 0.4922, Val Acc: 0.8314\n"
     ]
    },
    {
     "name": "stderr",
     "output_type": "stream",
     "text": [
      "Epoch 2/50: 100%|██████████| 281/281 [02:40<00:00,  1.75it/s]\n"
     ]
    },
    {
     "name": "stdout",
     "output_type": "stream",
     "text": [
      "Epoch 2/50\n",
      "Train Loss: 0.3639, Train Acc: 0.8999\n",
      "Val Loss: 0.2568, Val Acc: 0.9290\n"
     ]
    },
    {
     "name": "stderr",
     "output_type": "stream",
     "text": [
      "Epoch 3/50: 100%|██████████| 281/281 [02:41<00:00,  1.74it/s]\n"
     ]
    },
    {
     "name": "stdout",
     "output_type": "stream",
     "text": [
      "Epoch 3/50\n",
      "Train Loss: 0.1793, Train Acc: 0.9643\n",
      "Val Loss: 0.6284, Val Acc: 0.8275\n"
     ]
    },
    {
     "name": "stderr",
     "output_type": "stream",
     "text": [
      "Epoch 4/50: 100%|██████████| 281/281 [02:40<00:00,  1.75it/s]\n"
     ]
    },
    {
     "name": "stdout",
     "output_type": "stream",
     "text": [
      "Epoch 4/50\n",
      "Train Loss: 0.1177, Train Acc: 0.9780\n",
      "Val Loss: 0.1215, Val Acc: 0.9586\n"
     ]
    },
    {
     "name": "stderr",
     "output_type": "stream",
     "text": [
      "Epoch 5/50: 100%|██████████| 281/281 [02:40<00:00,  1.75it/s]\n"
     ]
    },
    {
     "name": "stdout",
     "output_type": "stream",
     "text": [
      "Epoch 5/50\n",
      "Train Loss: 0.0906, Train Acc: 0.9810\n",
      "Val Loss: 0.0934, Val Acc: 0.9727\n"
     ]
    },
    {
     "name": "stderr",
     "output_type": "stream",
     "text": [
      "Epoch 6/50: 100%|██████████| 281/281 [02:40<00:00,  1.75it/s]\n"
     ]
    },
    {
     "name": "stdout",
     "output_type": "stream",
     "text": [
      "Epoch 6/50\n",
      "Train Loss: 0.0648, Train Acc: 0.9863\n",
      "Val Loss: 0.0794, Val Acc: 0.9750\n"
     ]
    },
    {
     "name": "stderr",
     "output_type": "stream",
     "text": [
      "Epoch 7/50: 100%|██████████| 281/281 [02:36<00:00,  1.79it/s]\n"
     ]
    },
    {
     "name": "stdout",
     "output_type": "stream",
     "text": [
      "Epoch 7/50\n",
      "Train Loss: 0.0578, Train Acc: 0.9877\n",
      "Val Loss: 0.0924, Val Acc: 0.9711\n"
     ]
    },
    {
     "name": "stderr",
     "output_type": "stream",
     "text": [
      "Epoch 8/50: 100%|██████████| 281/281 [02:28<00:00,  1.90it/s]\n"
     ]
    },
    {
     "name": "stdout",
     "output_type": "stream",
     "text": [
      "Epoch 8/50\n",
      "Train Loss: 0.0494, Train Acc: 0.9895\n",
      "Val Loss: 0.0776, Val Acc: 0.9781\n"
     ]
    },
    {
     "name": "stderr",
     "output_type": "stream",
     "text": [
      "Epoch 9/50: 100%|██████████| 281/281 [02:27<00:00,  1.90it/s]\n"
     ]
    },
    {
     "name": "stdout",
     "output_type": "stream",
     "text": [
      "Epoch 9/50\n",
      "Train Loss: 0.0363, Train Acc: 0.9919\n",
      "Val Loss: 0.1229, Val Acc: 0.9602\n"
     ]
    },
    {
     "name": "stderr",
     "output_type": "stream",
     "text": [
      "Epoch 10/50: 100%|██████████| 281/281 [02:27<00:00,  1.90it/s]\n"
     ]
    },
    {
     "name": "stdout",
     "output_type": "stream",
     "text": [
      "Epoch 10/50\n",
      "Train Loss: 0.0749, Train Acc: 0.9755\n",
      "Val Loss: 0.0867, Val Acc: 0.9696\n"
     ]
    },
    {
     "name": "stderr",
     "output_type": "stream",
     "text": [
      "Epoch 11/50: 100%|██████████| 281/281 [02:28<00:00,  1.90it/s]\n"
     ]
    },
    {
     "name": "stdout",
     "output_type": "stream",
     "text": [
      "Epoch 11/50\n",
      "Train Loss: 0.0440, Train Acc: 0.9884\n",
      "Val Loss: 0.0688, Val Acc: 0.9805\n"
     ]
    },
    {
     "name": "stderr",
     "output_type": "stream",
     "text": [
      "Epoch 12/50: 100%|██████████| 281/281 [02:27<00:00,  1.90it/s]\n"
     ]
    },
    {
     "name": "stdout",
     "output_type": "stream",
     "text": [
      "Epoch 12/50\n",
      "Train Loss: 0.0261, Train Acc: 0.9946\n",
      "Val Loss: 0.0778, Val Acc: 0.9711\n"
     ]
    },
    {
     "name": "stderr",
     "output_type": "stream",
     "text": [
      "Epoch 13/50: 100%|██████████| 281/281 [02:27<00:00,  1.90it/s]\n"
     ]
    },
    {
     "name": "stdout",
     "output_type": "stream",
     "text": [
      "Epoch 13/50\n",
      "Train Loss: 0.0471, Train Acc: 0.9853\n",
      "Val Loss: 8.7738, Val Acc: 0.2506\n"
     ]
    },
    {
     "name": "stderr",
     "output_type": "stream",
     "text": [
      "Epoch 14/50: 100%|██████████| 281/281 [02:27<00:00,  1.90it/s]\n"
     ]
    },
    {
     "name": "stdout",
     "output_type": "stream",
     "text": [
      "Epoch 14/50\n",
      "Train Loss: 0.0748, Train Acc: 0.9775\n",
      "Val Loss: 0.0940, Val Acc: 0.9727\n"
     ]
    },
    {
     "name": "stderr",
     "output_type": "stream",
     "text": [
      "Epoch 15/50: 100%|██████████| 281/281 [02:27<00:00,  1.90it/s]\n"
     ]
    },
    {
     "name": "stdout",
     "output_type": "stream",
     "text": [
      "Epoch 15/50\n",
      "Train Loss: 0.0318, Train Acc: 0.9927\n",
      "Val Loss: 0.0749, Val Acc: 0.9766\n"
     ]
    },
    {
     "name": "stderr",
     "output_type": "stream",
     "text": [
      "Epoch 16/50: 100%|██████████| 281/281 [02:27<00:00,  1.90it/s]\n"
     ]
    },
    {
     "name": "stdout",
     "output_type": "stream",
     "text": [
      "Epoch 16/50\n",
      "Train Loss: 0.0235, Train Acc: 0.9953\n",
      "Val Loss: 0.0743, Val Acc: 0.9766\n",
      "Early stopping after 16 epochs\n"
     ]
    }
   ],
   "source": [
    "criterion = nn.CrossEntropyLoss()\n",
    "optimizer = optim.Adam(model.parameters(), lr=0.0001)\n",
    "scheduler = optim.lr_scheduler.ReduceLROnPlateau(optimizer, mode='min', factor=0.1, patience=3)\n",
    "model = train_model_with_early_stopping(\n",
    "    model=model,\n",
    "    train_loader=train_loader,\n",
    "    val_loader=val_loader,\n",
    "    optimizer=optimizer,\n",
    "    criterion=criterion,\n",
    "    scheduler=scheduler,\n",
    "    num_epochs=50,\n",
    "    device=device\n",
    ")"
   ]
  },
  {
   "cell_type": "code",
   "execution_count": 15,
   "id": "945b2333-1b27-4f76-80fd-f4a7ef22c16a",
   "metadata": {},
   "outputs": [],
   "source": [
    "from sklearn.metrics import classification_report, roc_auc_score, roc_curve, confusion_matrix\n",
    "import numpy as np\n",
    "\n",
    "def test_model(model, test_loader, num_classes, device='cuda'):\n",
    "    model.eval()\n",
    "    test_correct = 0\n",
    "    test_total = 0\n",
    "    all_preds = []\n",
    "    all_labels = []\n",
    "    all_probs = []  \n",
    "\n",
    "    with torch.no_grad():\n",
    "        for inputs, labels in test_loader:\n",
    "            inputs, labels = inputs.to(device), labels.to(device)\n",
    "            outputs = model(inputs)\n",
    "            _, predicted = outputs.max(1)  \n",
    "            test_total += labels.size(0)\n",
    "            test_correct += predicted.eq(labels).sum().item()\n",
    "\n",
    "            all_preds.extend(predicted.cpu().numpy())\n",
    "            all_labels.extend(labels.cpu().numpy())\n",
    "            all_probs.extend(outputs.softmax(dim=1).cpu().numpy())  \n",
    "\n",
    "    test_acc = test_correct / test_total\n",
    "    class_names = ['MildDemented', 'ModerateDemented', 'NonDemented', 'VeryMildDemented']\n",
    "\n",
    "    report = classification_report(all_labels, all_preds,digits=4, target_names= class_names)\n",
    "    \n",
    "    \n",
    "    if num_classes > 2:\n",
    "        auc_score = roc_auc_score(all_labels, all_probs, multi_class='ovr')\n",
    "    else:\n",
    "        auc_score = roc_auc_score(all_labels, [prob[1] for prob in all_probs])\n",
    "\n",
    "    return test_acc, report, auc_score, all_labels, all_preds"
   ]
  },
  {
   "cell_type": "code",
   "execution_count": 36,
   "id": "71e76fa5-57f2-4360-b632-fd20b289aa81",
   "metadata": {},
   "outputs": [
    {
     "name": "stdout",
     "output_type": "stream",
     "text": [
      "Test Accuracy: 0.9789\n",
      "Classification Report:\n",
      "                  precision    recall  f1-score   support\n",
      "\n",
      "    MildDemented     0.9752    0.9737    0.9744       646\n",
      "ModerateDemented     0.9984    1.0000    0.9992       640\n",
      "     NonDemented     0.9752    0.9812    0.9782       640\n",
      "VeryMildDemented     0.9667    0.9606    0.9637       635\n",
      "\n",
      "        accuracy                         0.9789      2561\n",
      "       macro avg     0.9789    0.9789    0.9789      2561\n",
      "    weighted avg     0.9789    0.9789    0.9789      2561\n",
      "\n",
      "AUC Score: 0.9984\n"
     ]
    },
    {
     "data": {
      "image/png": "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",
      "text/plain": [
       "<Figure size 800x600 with 2 Axes>"
      ]
     },
     "metadata": {},
     "output_type": "display_data"
    }
   ],
   "source": [
    "test_accuracy, classification_report_str, auc_score, true_labels, predictions = test_model(model, test_loader, num_classes=4, device='cuda')\n",
    "\n",
    "print(f'Test Accuracy: {test_accuracy:.4f}')\n",
    "print('Classification Report:')\n",
    "print(classification_report_str)\n",
    "print(f'AUC Score: {auc_score:.4f}')\n",
    "\n",
    "cm = confusion_matrix(true_labels, predictions)\n",
    "import matplotlib.pyplot as plt\n",
    "import seaborn as sns\n",
    "\n",
    "class_names = ['MildDemented', 'ModerateDemented', 'NonDemented', 'VeryMildDemented']\n",
    "plt.figure(figsize=(8, 6))\n",
    "sns.heatmap(cm, annot=True, cmap='Blues', fmt=\".0f\", xticklabels = class_names, yticklabels = class_names)\n",
    "plt.title('Confusion Matrix')\n",
    "plt.xlabel('Predicted Label')\n",
    "plt.ylabel('True Label')\n",
    "plt.show()"
   ]
  },
  {
   "cell_type": "markdown",
   "id": "cf53066d-6738-4d72-83db-7ca81434fa71",
   "metadata": {},
   "source": [
    "<h1>EfficientNet-B2+DenseNet-121 Ensemble</h1>"
   ]
  },
  {
   "cell_type": "code",
   "execution_count": 39,
   "id": "f4cf7641-1507-4860-afec-6e71ef86a562",
   "metadata": {},
   "outputs": [
    {
     "data": {
      "text/plain": [
       "=============================================================================================================================\n",
       "Layer (type (var_name))                       Input Shape          Output Shape         Param #              Trainable\n",
       "=============================================================================================================================\n",
       "DenseNet (DenseNet)                           [32, 3, 224, 224]    [32, 1024]           --                   True\n",
       "├─Sequential (features)                       [32, 3, 224, 224]    [32, 1024, 7, 7]     --                   True\n",
       "│    └─Conv2d (conv0)                         [32, 3, 224, 224]    [32, 64, 112, 112]   9,408                True\n",
       "│    └─BatchNormAct2d (norm0)                 [32, 64, 112, 112]   [32, 64, 112, 112]   128                  True\n",
       "│    │    └─Identity (drop)                   [32, 64, 112, 112]   [32, 64, 112, 112]   --                   --\n",
       "│    │    └─ReLU (act)                        [32, 64, 112, 112]   [32, 64, 112, 112]   --                   --\n",
       "│    └─MaxPool2d (pool0)                      [32, 64, 112, 112]   [32, 64, 56, 56]     --                   --\n",
       "│    └─DenseBlock (denseblock1)               [32, 64, 56, 56]     [32, 256, 56, 56]    --                   True\n",
       "│    │    └─DenseLayer (denselayer1)          [32, 64, 56, 56]     [32, 32, 56, 56]     45,440               True\n",
       "│    │    └─DenseLayer (denselayer2)          [32, 64, 56, 56]     [32, 32, 56, 56]     49,600               True\n",
       "│    │    └─DenseLayer (denselayer3)          [32, 64, 56, 56]     [32, 32, 56, 56]     53,760               True\n",
       "│    │    └─DenseLayer (denselayer4)          [32, 64, 56, 56]     [32, 32, 56, 56]     57,920               True\n",
       "│    │    └─DenseLayer (denselayer5)          [32, 64, 56, 56]     [32, 32, 56, 56]     62,080               True\n",
       "│    │    └─DenseLayer (denselayer6)          [32, 64, 56, 56]     [32, 32, 56, 56]     66,240               True\n",
       "│    └─DenseTransition (transition1)          [32, 256, 56, 56]    [32, 128, 28, 28]    --                   True\n",
       "│    │    └─BatchNormAct2d (norm)             [32, 256, 56, 56]    [32, 256, 56, 56]    512                  True\n",
       "│    │    └─Conv2d (conv)                     [32, 256, 56, 56]    [32, 128, 56, 56]    32,768               True\n",
       "│    │    └─AvgPool2d (pool)                  [32, 128, 56, 56]    [32, 128, 28, 28]    --                   --\n",
       "│    └─DenseBlock (denseblock2)               [32, 128, 28, 28]    [32, 512, 28, 28]    --                   True\n",
       "│    │    └─DenseLayer (denselayer1)          [32, 128, 28, 28]    [32, 32, 28, 28]     53,760               True\n",
       "│    │    └─DenseLayer (denselayer2)          [32, 128, 28, 28]    [32, 32, 28, 28]     57,920               True\n",
       "│    │    └─DenseLayer (denselayer3)          [32, 128, 28, 28]    [32, 32, 28, 28]     62,080               True\n",
       "│    │    └─DenseLayer (denselayer4)          [32, 128, 28, 28]    [32, 32, 28, 28]     66,240               True\n",
       "│    │    └─DenseLayer (denselayer5)          [32, 128, 28, 28]    [32, 32, 28, 28]     70,400               True\n",
       "│    │    └─DenseLayer (denselayer6)          [32, 128, 28, 28]    [32, 32, 28, 28]     74,560               True\n",
       "│    │    └─DenseLayer (denselayer7)          [32, 128, 28, 28]    [32, 32, 28, 28]     78,720               True\n",
       "│    │    └─DenseLayer (denselayer8)          [32, 128, 28, 28]    [32, 32, 28, 28]     82,880               True\n",
       "│    │    └─DenseLayer (denselayer9)          [32, 128, 28, 28]    [32, 32, 28, 28]     87,040               True\n",
       "│    │    └─DenseLayer (denselayer10)         [32, 128, 28, 28]    [32, 32, 28, 28]     91,200               True\n",
       "│    │    └─DenseLayer (denselayer11)         [32, 128, 28, 28]    [32, 32, 28, 28]     95,360               True\n",
       "│    │    └─DenseLayer (denselayer12)         [32, 128, 28, 28]    [32, 32, 28, 28]     99,520               True\n",
       "│    └─DenseTransition (transition2)          [32, 512, 28, 28]    [32, 256, 14, 14]    --                   True\n",
       "│    │    └─BatchNormAct2d (norm)             [32, 512, 28, 28]    [32, 512, 28, 28]    1,024                True\n",
       "│    │    └─Conv2d (conv)                     [32, 512, 28, 28]    [32, 256, 28, 28]    131,072              True\n",
       "│    │    └─AvgPool2d (pool)                  [32, 256, 28, 28]    [32, 256, 14, 14]    --                   --\n",
       "│    └─DenseBlock (denseblock3)               [32, 256, 14, 14]    [32, 1024, 14, 14]   --                   True\n",
       "│    │    └─DenseLayer (denselayer1)          [32, 256, 14, 14]    [32, 32, 14, 14]     70,400               True\n",
       "│    │    └─DenseLayer (denselayer2)          [32, 256, 14, 14]    [32, 32, 14, 14]     74,560               True\n",
       "│    │    └─DenseLayer (denselayer3)          [32, 256, 14, 14]    [32, 32, 14, 14]     78,720               True\n",
       "│    │    └─DenseLayer (denselayer4)          [32, 256, 14, 14]    [32, 32, 14, 14]     82,880               True\n",
       "│    │    └─DenseLayer (denselayer5)          [32, 256, 14, 14]    [32, 32, 14, 14]     87,040               True\n",
       "│    │    └─DenseLayer (denselayer6)          [32, 256, 14, 14]    [32, 32, 14, 14]     91,200               True\n",
       "│    │    └─DenseLayer (denselayer7)          [32, 256, 14, 14]    [32, 32, 14, 14]     95,360               True\n",
       "│    │    └─DenseLayer (denselayer8)          [32, 256, 14, 14]    [32, 32, 14, 14]     99,520               True\n",
       "│    │    └─DenseLayer (denselayer9)          [32, 256, 14, 14]    [32, 32, 14, 14]     103,680              True\n",
       "│    │    └─DenseLayer (denselayer10)         [32, 256, 14, 14]    [32, 32, 14, 14]     107,840              True\n",
       "│    │    └─DenseLayer (denselayer11)         [32, 256, 14, 14]    [32, 32, 14, 14]     112,000              True\n",
       "│    │    └─DenseLayer (denselayer12)         [32, 256, 14, 14]    [32, 32, 14, 14]     116,160              True\n",
       "│    │    └─DenseLayer (denselayer13)         [32, 256, 14, 14]    [32, 32, 14, 14]     120,320              True\n",
       "│    │    └─DenseLayer (denselayer14)         [32, 256, 14, 14]    [32, 32, 14, 14]     124,480              True\n",
       "│    │    └─DenseLayer (denselayer15)         [32, 256, 14, 14]    [32, 32, 14, 14]     128,640              True\n",
       "│    │    └─DenseLayer (denselayer16)         [32, 256, 14, 14]    [32, 32, 14, 14]     132,800              True\n",
       "│    │    └─DenseLayer (denselayer17)         [32, 256, 14, 14]    [32, 32, 14, 14]     136,960              True\n",
       "│    │    └─DenseLayer (denselayer18)         [32, 256, 14, 14]    [32, 32, 14, 14]     141,120              True\n",
       "│    │    └─DenseLayer (denselayer19)         [32, 256, 14, 14]    [32, 32, 14, 14]     145,280              True\n",
       "│    │    └─DenseLayer (denselayer20)         [32, 256, 14, 14]    [32, 32, 14, 14]     149,440              True\n",
       "│    │    └─DenseLayer (denselayer21)         [32, 256, 14, 14]    [32, 32, 14, 14]     153,600              True\n",
       "│    │    └─DenseLayer (denselayer22)         [32, 256, 14, 14]    [32, 32, 14, 14]     157,760              True\n",
       "│    │    └─DenseLayer (denselayer23)         [32, 256, 14, 14]    [32, 32, 14, 14]     161,920              True\n",
       "│    │    └─DenseLayer (denselayer24)         [32, 256, 14, 14]    [32, 32, 14, 14]     166,080              True\n",
       "│    └─DenseTransition (transition3)          [32, 1024, 14, 14]   [32, 512, 7, 7]      --                   True\n",
       "│    │    └─BatchNormAct2d (norm)             [32, 1024, 14, 14]   [32, 1024, 14, 14]   2,048                True\n",
       "│    │    └─Conv2d (conv)                     [32, 1024, 14, 14]   [32, 512, 14, 14]    524,288              True\n",
       "│    │    └─AvgPool2d (pool)                  [32, 512, 14, 14]    [32, 512, 7, 7]      --                   --\n",
       "│    └─DenseBlock (denseblock4)               [32, 512, 7, 7]      [32, 1024, 7, 7]     --                   True\n",
       "│    │    └─DenseLayer (denselayer1)          [32, 512, 7, 7]      [32, 32, 7, 7]       103,680              True\n",
       "│    │    └─DenseLayer (denselayer2)          [32, 512, 7, 7]      [32, 32, 7, 7]       107,840              True\n",
       "│    │    └─DenseLayer (denselayer3)          [32, 512, 7, 7]      [32, 32, 7, 7]       112,000              True\n",
       "│    │    └─DenseLayer (denselayer4)          [32, 512, 7, 7]      [32, 32, 7, 7]       116,160              True\n",
       "│    │    └─DenseLayer (denselayer5)          [32, 512, 7, 7]      [32, 32, 7, 7]       120,320              True\n",
       "│    │    └─DenseLayer (denselayer6)          [32, 512, 7, 7]      [32, 32, 7, 7]       124,480              True\n",
       "│    │    └─DenseLayer (denselayer7)          [32, 512, 7, 7]      [32, 32, 7, 7]       128,640              True\n",
       "│    │    └─DenseLayer (denselayer8)          [32, 512, 7, 7]      [32, 32, 7, 7]       132,800              True\n",
       "│    │    └─DenseLayer (denselayer9)          [32, 512, 7, 7]      [32, 32, 7, 7]       136,960              True\n",
       "│    │    └─DenseLayer (denselayer10)         [32, 512, 7, 7]      [32, 32, 7, 7]       141,120              True\n",
       "│    │    └─DenseLayer (denselayer11)         [32, 512, 7, 7]      [32, 32, 7, 7]       145,280              True\n",
       "│    │    └─DenseLayer (denselayer12)         [32, 512, 7, 7]      [32, 32, 7, 7]       149,440              True\n",
       "│    │    └─DenseLayer (denselayer13)         [32, 512, 7, 7]      [32, 32, 7, 7]       153,600              True\n",
       "│    │    └─DenseLayer (denselayer14)         [32, 512, 7, 7]      [32, 32, 7, 7]       157,760              True\n",
       "│    │    └─DenseLayer (denselayer15)         [32, 512, 7, 7]      [32, 32, 7, 7]       161,920              True\n",
       "│    │    └─DenseLayer (denselayer16)         [32, 512, 7, 7]      [32, 32, 7, 7]       166,080              True\n",
       "│    └─BatchNormAct2d (norm5)                 [32, 1024, 7, 7]     [32, 1024, 7, 7]     2,048                True\n",
       "│    │    └─Identity (drop)                   [32, 1024, 7, 7]     [32, 1024, 7, 7]     --                   --\n",
       "│    │    └─ReLU (act)                        [32, 1024, 7, 7]     [32, 1024, 7, 7]     --                   --\n",
       "├─SelectAdaptivePool2d (global_pool)          [32, 1024, 7, 7]     [32, 1024]           --                   --\n",
       "│    └─AdaptiveAvgPool2d (pool)               [32, 1024, 7, 7]     [32, 1024, 1, 1]     --                   --\n",
       "│    └─Flatten (flatten)                      [32, 1024, 1, 1]     [32, 1024]           --                   --\n",
       "├─Dropout (head_drop)                         [32, 1024]           [32, 1024]           --                   --\n",
       "├─Identity (classifier)                       [32, 1024]           [32, 1024]           --                   --\n",
       "=============================================================================================================================\n",
       "Total params: 6,953,856\n",
       "Trainable params: 6,953,856\n",
       "Non-trainable params: 0\n",
       "Total mult-adds (Units.GIGABYTES): 90.66\n",
       "=============================================================================================================================\n",
       "Input size (MB): 19.27\n",
       "Forward/backward pass size (MB): 1766.20\n",
       "Params size (MB): 27.48\n",
       "Estimated Total Size (MB): 1812.94\n",
       "============================================================================================================================="
      ]
     },
     "execution_count": 39,
     "metadata": {},
     "output_type": "execute_result"
    }
   ],
   "source": [
    "from torchinfo import summary\n",
    "import timm\n",
    "from torchvision import models\n",
    "model = timm.create_model(\"densenet121\", pretrained=True)\n",
    "model.classifier = nn.Identity()\n",
    "summary(model=model, \n",
    "        input_size=(32, 3, 224, 224),  \n",
    "        col_names=[\"input_size\", \"output_size\", \"num_params\", \"trainable\"],\n",
    "        col_width=20,\n",
    "        row_settings=[\"var_names\"]\n",
    ")"
   ]
  },
  {
   "cell_type": "code",
   "execution_count": 16,
   "id": "8f043dd5-de1f-453a-aa2d-911ce6521b2a",
   "metadata": {},
   "outputs": [
    {
     "name": "stderr",
     "output_type": "stream",
     "text": [
      "C:\\Users\\User\\AppData\\Roaming\\Python\\Python312\\site-packages\\tqdm\\auto.py:21: TqdmWarning: IProgress not found. Please update jupyter and ipywidgets. See https://ipywidgets.readthedocs.io/en/stable/user_install.html\n",
      "  from .autonotebook import tqdm as notebook_tqdm\n"
     ]
    }
   ],
   "source": [
    "import torch\n",
    "import torch.nn as nn\n",
    "import timm\n",
    "from torchvision import models\n",
    "\n",
    "class EnsembleModel(nn.Module):\n",
    "    def __init__(self, num_classes=4):\n",
    "        super(EnsembleModel, self).__init__()\n",
    "        \n",
    "        self.densenet = timm.create_model(\"densenet121\", pretrained=True)\n",
    "        self.densenet.classifier = nn.Identity() \n",
    "        \n",
    "        # EfficientNet-B2 model without classifier\n",
    "        self.efficientnet = timm.create_model(\"efficientnet_b2\", pretrained=True)\n",
    "        self.efficientnet.classifier = nn.Identity()  # Remove the classifier\n",
    "        \n",
    "        # Adaptive pooling to match the output sizes\n",
    "        self.adaptive_pool = nn.AdaptiveAvgPool2d((7, 7))\n",
    "        \n",
    "        # Fully connected layers\n",
    "        self.dropout1 = nn.Dropout(0.5)\n",
    "        self.flatten = nn.Flatten()\n",
    "        self.bn1 = nn.BatchNorm1d(7 * 7 * (1024 + 1408))  # Concatenating VGG16 (512) + EfficientNet-B2 (1408)\n",
    "        self.fc1 = nn.Linear(7 * 7 * (1024 + 1408), 256)\n",
    "        self.bn2 = nn.BatchNorm1d(256)\n",
    "        self.relu = nn.ReLU()\n",
    "        self.dropout2 = nn.Dropout(0.5)\n",
    "        self.bn3 = nn.BatchNorm1d(256)\n",
    "        self.fc2 = nn.Linear(256, 64)\n",
    "        self.bn4 = nn.BatchNorm1d(64)\n",
    "        self.fc3 = nn.Linear(64, num_classes)\n",
    "\n",
    "    def forward(self, x):\n",
    "        \n",
    "        densenet_features = self.densenet.forward_features(x)  # Extract features using VGG16\n",
    "        densenet_features = self.adaptive_pool(densenet_features)\n",
    "        \n",
    "        efficientnet_features = self.efficientnet.forward_features(x)  # Extract features using EfficientNet-B2\n",
    "        efficientnet_features = self.adaptive_pool(efficientnet_features)\n",
    "        \n",
    "        # Concatenate features along the channel dimension\n",
    "        combined_features = torch.cat((densenet_features, efficientnet_features), dim=1)\n",
    "        \n",
    "        # Process combined features\n",
    "        x = self.dropout1(combined_features)\n",
    "        x = self.flatten(x)\n",
    "        x = self.bn1(x)\n",
    "        x = self.fc1(x)\n",
    "        x = self.bn2(x)\n",
    "        x = self.relu(x)\n",
    "        x = self.dropout2(x)\n",
    "        x = self.bn3(x)\n",
    "        x = self.fc2(x)\n",
    "        x = self.bn4(x)\n",
    "        x = self.relu(x)\n",
    "        x = self.fc3(x)\n",
    "        \n",
    "        return x\n",
    "\n",
    "def create_model(num_classes=4):\n",
    "    return EnsembleModel(num_classes)\n",
    "\n",
    "model = create_model(num_classes=4).to(device)"
   ]
  },
  {
   "cell_type": "code",
   "execution_count": 17,
   "id": "4ac563f3-fb8d-4e9c-b8b5-e50dcf742d6b",
   "metadata": {},
   "outputs": [
    {
     "name": "stderr",
     "output_type": "stream",
     "text": [
      "Epoch 1/50: 100%|██████████| 281/281 [01:58<00:00,  2.37it/s]\n"
     ]
    },
    {
     "name": "stdout",
     "output_type": "stream",
     "text": [
      "Epoch 1/50\n",
      "Train Loss: 0.7907, Train Acc: 0.7003\n",
      "Val Loss: 2.5308, Val Acc: 0.4504\n"
     ]
    },
    {
     "name": "stderr",
     "output_type": "stream",
     "text": [
      "Epoch 2/50: 100%|██████████| 281/281 [01:58<00:00,  2.37it/s]\n"
     ]
    },
    {
     "name": "stdout",
     "output_type": "stream",
     "text": [
      "Epoch 2/50\n",
      "Train Loss: 0.4011, Train Acc: 0.8911\n",
      "Val Loss: 0.3568, Val Acc: 0.8876\n"
     ]
    },
    {
     "name": "stderr",
     "output_type": "stream",
     "text": [
      "Epoch 3/50: 100%|██████████| 281/281 [01:59<00:00,  2.35it/s]\n"
     ]
    },
    {
     "name": "stdout",
     "output_type": "stream",
     "text": [
      "Epoch 3/50\n",
      "Train Loss: 0.2114, Train Acc: 0.9558\n",
      "Val Loss: 0.3634, Val Acc: 0.8954\n"
     ]
    },
    {
     "name": "stderr",
     "output_type": "stream",
     "text": [
      "Epoch 4/50: 100%|██████████| 281/281 [01:59<00:00,  2.35it/s]\n"
     ]
    },
    {
     "name": "stdout",
     "output_type": "stream",
     "text": [
      "Epoch 4/50\n",
      "Train Loss: 0.1143, Train Acc: 0.9779\n",
      "Val Loss: 1.3353, Val Acc: 0.5504\n"
     ]
    },
    {
     "name": "stderr",
     "output_type": "stream",
     "text": [
      "Epoch 5/50: 100%|██████████| 281/281 [02:00<00:00,  2.34it/s]\n"
     ]
    },
    {
     "name": "stdout",
     "output_type": "stream",
     "text": [
      "Epoch 5/50\n",
      "Train Loss: 0.1483, Train Acc: 0.9596\n",
      "Val Loss: 0.1760, Val Acc: 0.9461\n"
     ]
    },
    {
     "name": "stderr",
     "output_type": "stream",
     "text": [
      "Epoch 6/50: 100%|██████████| 281/281 [01:55<00:00,  2.43it/s]\n"
     ]
    },
    {
     "name": "stdout",
     "output_type": "stream",
     "text": [
      "Epoch 6/50\n",
      "Train Loss: 0.0606, Train Acc: 0.9896\n",
      "Val Loss: 0.1814, Val Acc: 0.9391\n"
     ]
    },
    {
     "name": "stderr",
     "output_type": "stream",
     "text": [
      "Epoch 7/50: 100%|██████████| 281/281 [01:56<00:00,  2.41it/s]\n"
     ]
    },
    {
     "name": "stdout",
     "output_type": "stream",
     "text": [
      "Epoch 7/50\n",
      "Train Loss: 0.0588, Train Acc: 0.9877\n",
      "Val Loss: 0.1591, Val Acc: 0.9485\n"
     ]
    },
    {
     "name": "stderr",
     "output_type": "stream",
     "text": [
      "Epoch 8/50: 100%|██████████| 281/281 [01:59<00:00,  2.36it/s]\n"
     ]
    },
    {
     "name": "stdout",
     "output_type": "stream",
     "text": [
      "Epoch 8/50\n",
      "Train Loss: 0.0360, Train Acc: 0.9948\n",
      "Val Loss: 0.1575, Val Acc: 0.9469\n"
     ]
    },
    {
     "name": "stderr",
     "output_type": "stream",
     "text": [
      "Epoch 9/50: 100%|██████████| 281/281 [01:59<00:00,  2.36it/s]\n"
     ]
    },
    {
     "name": "stdout",
     "output_type": "stream",
     "text": [
      "Epoch 9/50\n",
      "Train Loss: 0.0466, Train Acc: 0.9884\n",
      "Val Loss: 0.1676, Val Acc: 0.9422\n"
     ]
    },
    {
     "name": "stderr",
     "output_type": "stream",
     "text": [
      "Epoch 10/50: 100%|██████████| 281/281 [01:58<00:00,  2.36it/s]\n"
     ]
    },
    {
     "name": "stdout",
     "output_type": "stream",
     "text": [
      "Epoch 10/50\n",
      "Train Loss: 0.0501, Train Acc: 0.9875\n",
      "Val Loss: 0.1642, Val Acc: 0.9477\n"
     ]
    },
    {
     "name": "stderr",
     "output_type": "stream",
     "text": [
      "Epoch 11/50: 100%|██████████| 281/281 [01:58<00:00,  2.38it/s]\n"
     ]
    },
    {
     "name": "stdout",
     "output_type": "stream",
     "text": [
      "Epoch 11/50\n",
      "Train Loss: 0.0625, Train Acc: 0.9825\n",
      "Val Loss: 0.1348, Val Acc: 0.9563\n"
     ]
    },
    {
     "name": "stderr",
     "output_type": "stream",
     "text": [
      "Epoch 12/50: 100%|██████████| 281/281 [01:57<00:00,  2.39it/s]\n"
     ]
    },
    {
     "name": "stdout",
     "output_type": "stream",
     "text": [
      "Epoch 12/50\n",
      "Train Loss: 0.0303, Train Acc: 0.9931\n",
      "Val Loss: 0.1063, Val Acc: 0.9696\n"
     ]
    },
    {
     "name": "stderr",
     "output_type": "stream",
     "text": [
      "Epoch 13/50: 100%|██████████| 281/281 [01:57<00:00,  2.39it/s]\n"
     ]
    },
    {
     "name": "stdout",
     "output_type": "stream",
     "text": [
      "Epoch 13/50\n",
      "Train Loss: 0.0241, Train Acc: 0.9944\n",
      "Val Loss: 0.1799, Val Acc: 0.9446\n"
     ]
    },
    {
     "name": "stderr",
     "output_type": "stream",
     "text": [
      "Epoch 14/50: 100%|██████████| 281/281 [01:59<00:00,  2.36it/s]\n"
     ]
    },
    {
     "name": "stdout",
     "output_type": "stream",
     "text": [
      "Epoch 14/50\n",
      "Train Loss: 0.0646, Train Acc: 0.9796\n",
      "Val Loss: 0.2065, Val Acc: 0.9313\n"
     ]
    },
    {
     "name": "stderr",
     "output_type": "stream",
     "text": [
      "Epoch 15/50: 100%|██████████| 281/281 [01:58<00:00,  2.38it/s]\n"
     ]
    },
    {
     "name": "stdout",
     "output_type": "stream",
     "text": [
      "Epoch 15/50\n",
      "Train Loss: 0.1019, Train Acc: 0.9652\n",
      "Val Loss: 0.1738, Val Acc: 0.9454\n"
     ]
    },
    {
     "name": "stderr",
     "output_type": "stream",
     "text": [
      "Epoch 16/50: 100%|██████████| 281/281 [01:59<00:00,  2.35it/s]\n"
     ]
    },
    {
     "name": "stdout",
     "output_type": "stream",
     "text": [
      "Epoch 16/50\n",
      "Train Loss: 0.0599, Train Acc: 0.9807\n",
      "Val Loss: 0.3578, Val Acc: 0.9415\n"
     ]
    },
    {
     "name": "stderr",
     "output_type": "stream",
     "text": [
      "Epoch 17/50: 100%|██████████| 281/281 [01:56<00:00,  2.41it/s]\n"
     ]
    },
    {
     "name": "stdout",
     "output_type": "stream",
     "text": [
      "Epoch 17/50\n",
      "Train Loss: 0.0313, Train Acc: 0.9917\n",
      "Val Loss: 0.1481, Val Acc: 0.9617\n",
      "Early stopping after 17 epochs\n"
     ]
    }
   ],
   "source": [
    "criterion = nn.CrossEntropyLoss()\n",
    "optimizer = optim.Adam(model.parameters(), lr=0.0001)\n",
    "scheduler = optim.lr_scheduler.ReduceLROnPlateau(optimizer, mode='min', factor=0.1, patience=3)\n",
    "model = train_model_with_early_stopping(\n",
    "    model=model,\n",
    "    train_loader=train_loader,\n",
    "    val_loader=val_loader,\n",
    "    optimizer=optimizer,\n",
    "    criterion=criterion,\n",
    "    scheduler=scheduler,\n",
    "    num_epochs=50,\n",
    "    device=device\n",
    ")"
   ]
  },
  {
   "cell_type": "code",
   "execution_count": 18,
   "id": "e2e2ceb2-5ac3-486c-8a7c-ebdd4ad8118f",
   "metadata": {},
   "outputs": [
    {
     "name": "stdout",
     "output_type": "stream",
     "text": [
      "Test Accuracy: 0.9582\n",
      "Classification Report:\n",
      "                  precision    recall  f1-score   support\n",
      "\n",
      "    MildDemented     0.9293    0.9567    0.9428       646\n",
      "ModerateDemented     0.9938    1.0000    0.9969       640\n",
      "     NonDemented     0.9670    0.9625    0.9648       640\n",
      "VeryMildDemented     0.9431    0.9134    0.9280       635\n",
      "\n",
      "        accuracy                         0.9582      2561\n",
      "       macro avg     0.9583    0.9581    0.9581      2561\n",
      "    weighted avg     0.9583    0.9582    0.9581      2561\n",
      "\n",
      "AUC Score: 0.9953\n"
     ]
    },
    {
     "data": {
      "image/png": "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",
      "text/plain": [
       "<Figure size 800x600 with 2 Axes>"
      ]
     },
     "metadata": {},
     "output_type": "display_data"
    }
   ],
   "source": [
    "test_accuracy, classification_report_str, auc_score, true_labels, predictions = test_model(model, test_loader, num_classes=4, device='cuda')\n",
    "\n",
    "print(f'Test Accuracy: {test_accuracy:.4f}')\n",
    "print('Classification Report:')\n",
    "print(classification_report_str)\n",
    "print(f'AUC Score: {auc_score:.4f}')\n",
    "\n",
    "cm = confusion_matrix(true_labels, predictions)\n",
    "import matplotlib.pyplot as plt\n",
    "import seaborn as sns\n",
    "\n",
    "class_names = ['MildDemented', 'ModerateDemented', 'NonDemented', 'VeryMildDemented']\n",
    "plt.figure(figsize=(8, 6))\n",
    "sns.heatmap(cm, annot=True, cmap='Blues', fmt=\".0f\", xticklabels = class_names, yticklabels = class_names)\n",
    "plt.title('Confusion Matrix')\n",
    "plt.xlabel('Predicted Label')\n",
    "plt.ylabel('True Label')\n",
    "plt.show()"
   ]
  },
  {
   "cell_type": "markdown",
   "id": "c35e0e96-4e88-47d2-b089-437b4c242b37",
   "metadata": {},
   "source": [
    "<h1>EfficientNet-B2+Xception</h1>"
   ]
  },
  {
   "cell_type": "code",
   "execution_count": 21,
   "id": "f1043299-90fd-4a74-8014-d197acb92ca6",
   "metadata": {},
   "outputs": [
    {
     "data": {
      "text/plain": [
       "========================================================================================================================\n",
       "Layer (type (var_name))                  Input Shape          Output Shape         Param #              Trainable\n",
       "========================================================================================================================\n",
       "Xception (Xception)                      [32, 3, 224, 224]    [32, 2048]           --                   True\n",
       "├─Conv2d (conv1)                         [32, 3, 224, 224]    [32, 32, 111, 111]   864                  True\n",
       "├─BatchNorm2d (bn1)                      [32, 32, 111, 111]   [32, 32, 111, 111]   64                   True\n",
       "├─ReLU (act1)                            [32, 32, 111, 111]   [32, 32, 111, 111]   --                   --\n",
       "├─Conv2d (conv2)                         [32, 32, 111, 111]   [32, 64, 109, 109]   18,432               True\n",
       "├─BatchNorm2d (bn2)                      [32, 64, 109, 109]   [32, 64, 109, 109]   128                  True\n",
       "├─ReLU (act2)                            [32, 64, 109, 109]   [32, 64, 109, 109]   --                   --\n",
       "├─Block (block1)                         [32, 64, 109, 109]   [32, 128, 55, 55]    --                   True\n",
       "│    └─Sequential (rep)                  [32, 64, 109, 109]   [32, 128, 55, 55]    --                   True\n",
       "│    │    └─SeparableConv2d (0)          [32, 64, 109, 109]   [32, 128, 109, 109]  8,768                True\n",
       "│    │    └─BatchNorm2d (1)              [32, 128, 109, 109]  [32, 128, 109, 109]  256                  True\n",
       "│    │    └─ReLU (2)                     [32, 128, 109, 109]  [32, 128, 109, 109]  --                   --\n",
       "│    │    └─SeparableConv2d (3)          [32, 128, 109, 109]  [32, 128, 109, 109]  17,536               True\n",
       "│    │    └─BatchNorm2d (4)              [32, 128, 109, 109]  [32, 128, 109, 109]  256                  True\n",
       "│    │    └─MaxPool2d (5)                [32, 128, 109, 109]  [32, 128, 55, 55]    --                   --\n",
       "│    └─Conv2d (skip)                     [32, 64, 109, 109]   [32, 128, 55, 55]    8,192                True\n",
       "│    └─BatchNorm2d (skipbn)              [32, 128, 55, 55]    [32, 128, 55, 55]    256                  True\n",
       "├─Block (block2)                         [32, 128, 55, 55]    [32, 256, 28, 28]    --                   True\n",
       "│    └─Sequential (rep)                  [32, 128, 55, 55]    [32, 256, 28, 28]    --                   True\n",
       "│    │    └─ReLU (0)                     [32, 128, 55, 55]    [32, 128, 55, 55]    --                   --\n",
       "│    │    └─SeparableConv2d (1)          [32, 128, 55, 55]    [32, 256, 55, 55]    33,920               True\n",
       "│    │    └─BatchNorm2d (2)              [32, 256, 55, 55]    [32, 256, 55, 55]    512                  True\n",
       "│    │    └─ReLU (3)                     [32, 256, 55, 55]    [32, 256, 55, 55]    --                   --\n",
       "│    │    └─SeparableConv2d (4)          [32, 256, 55, 55]    [32, 256, 55, 55]    67,840               True\n",
       "│    │    └─BatchNorm2d (5)              [32, 256, 55, 55]    [32, 256, 55, 55]    512                  True\n",
       "│    │    └─MaxPool2d (6)                [32, 256, 55, 55]    [32, 256, 28, 28]    --                   --\n",
       "│    └─Conv2d (skip)                     [32, 128, 55, 55]    [32, 256, 28, 28]    32,768               True\n",
       "│    └─BatchNorm2d (skipbn)              [32, 256, 28, 28]    [32, 256, 28, 28]    512                  True\n",
       "├─Block (block3)                         [32, 256, 28, 28]    [32, 728, 14, 14]    --                   True\n",
       "│    └─Sequential (rep)                  [32, 256, 28, 28]    [32, 728, 14, 14]    --                   True\n",
       "│    │    └─ReLU (0)                     [32, 256, 28, 28]    [32, 256, 28, 28]    --                   --\n",
       "│    │    └─SeparableConv2d (1)          [32, 256, 28, 28]    [32, 728, 28, 28]    188,672              True\n",
       "│    │    └─BatchNorm2d (2)              [32, 728, 28, 28]    [32, 728, 28, 28]    1,456                True\n",
       "│    │    └─ReLU (3)                     [32, 728, 28, 28]    [32, 728, 28, 28]    --                   --\n",
       "│    │    └─SeparableConv2d (4)          [32, 728, 28, 28]    [32, 728, 28, 28]    536,536              True\n",
       "│    │    └─BatchNorm2d (5)              [32, 728, 28, 28]    [32, 728, 28, 28]    1,456                True\n",
       "│    │    └─MaxPool2d (6)                [32, 728, 28, 28]    [32, 728, 14, 14]    --                   --\n",
       "│    └─Conv2d (skip)                     [32, 256, 28, 28]    [32, 728, 14, 14]    186,368              True\n",
       "│    └─BatchNorm2d (skipbn)              [32, 728, 14, 14]    [32, 728, 14, 14]    1,456                True\n",
       "├─Block (block4)                         [32, 728, 14, 14]    [32, 728, 14, 14]    --                   True\n",
       "│    └─Sequential (rep)                  [32, 728, 14, 14]    [32, 728, 14, 14]    --                   True\n",
       "│    │    └─ReLU (0)                     [32, 728, 14, 14]    [32, 728, 14, 14]    --                   --\n",
       "│    │    └─SeparableConv2d (1)          [32, 728, 14, 14]    [32, 728, 14, 14]    536,536              True\n",
       "│    │    └─BatchNorm2d (2)              [32, 728, 14, 14]    [32, 728, 14, 14]    1,456                True\n",
       "│    │    └─ReLU (3)                     [32, 728, 14, 14]    [32, 728, 14, 14]    --                   --\n",
       "│    │    └─SeparableConv2d (4)          [32, 728, 14, 14]    [32, 728, 14, 14]    536,536              True\n",
       "│    │    └─BatchNorm2d (5)              [32, 728, 14, 14]    [32, 728, 14, 14]    1,456                True\n",
       "│    │    └─ReLU (6)                     [32, 728, 14, 14]    [32, 728, 14, 14]    --                   --\n",
       "│    │    └─SeparableConv2d (7)          [32, 728, 14, 14]    [32, 728, 14, 14]    536,536              True\n",
       "│    │    └─BatchNorm2d (8)              [32, 728, 14, 14]    [32, 728, 14, 14]    1,456                True\n",
       "├─Block (block5)                         [32, 728, 14, 14]    [32, 728, 14, 14]    --                   True\n",
       "│    └─Sequential (rep)                  [32, 728, 14, 14]    [32, 728, 14, 14]    --                   True\n",
       "│    │    └─ReLU (0)                     [32, 728, 14, 14]    [32, 728, 14, 14]    --                   --\n",
       "│    │    └─SeparableConv2d (1)          [32, 728, 14, 14]    [32, 728, 14, 14]    536,536              True\n",
       "│    │    └─BatchNorm2d (2)              [32, 728, 14, 14]    [32, 728, 14, 14]    1,456                True\n",
       "│    │    └─ReLU (3)                     [32, 728, 14, 14]    [32, 728, 14, 14]    --                   --\n",
       "│    │    └─SeparableConv2d (4)          [32, 728, 14, 14]    [32, 728, 14, 14]    536,536              True\n",
       "│    │    └─BatchNorm2d (5)              [32, 728, 14, 14]    [32, 728, 14, 14]    1,456                True\n",
       "│    │    └─ReLU (6)                     [32, 728, 14, 14]    [32, 728, 14, 14]    --                   --\n",
       "│    │    └─SeparableConv2d (7)          [32, 728, 14, 14]    [32, 728, 14, 14]    536,536              True\n",
       "│    │    └─BatchNorm2d (8)              [32, 728, 14, 14]    [32, 728, 14, 14]    1,456                True\n",
       "├─Block (block6)                         [32, 728, 14, 14]    [32, 728, 14, 14]    --                   True\n",
       "│    └─Sequential (rep)                  [32, 728, 14, 14]    [32, 728, 14, 14]    --                   True\n",
       "│    │    └─ReLU (0)                     [32, 728, 14, 14]    [32, 728, 14, 14]    --                   --\n",
       "│    │    └─SeparableConv2d (1)          [32, 728, 14, 14]    [32, 728, 14, 14]    536,536              True\n",
       "│    │    └─BatchNorm2d (2)              [32, 728, 14, 14]    [32, 728, 14, 14]    1,456                True\n",
       "│    │    └─ReLU (3)                     [32, 728, 14, 14]    [32, 728, 14, 14]    --                   --\n",
       "│    │    └─SeparableConv2d (4)          [32, 728, 14, 14]    [32, 728, 14, 14]    536,536              True\n",
       "│    │    └─BatchNorm2d (5)              [32, 728, 14, 14]    [32, 728, 14, 14]    1,456                True\n",
       "│    │    └─ReLU (6)                     [32, 728, 14, 14]    [32, 728, 14, 14]    --                   --\n",
       "│    │    └─SeparableConv2d (7)          [32, 728, 14, 14]    [32, 728, 14, 14]    536,536              True\n",
       "│    │    └─BatchNorm2d (8)              [32, 728, 14, 14]    [32, 728, 14, 14]    1,456                True\n",
       "├─Block (block7)                         [32, 728, 14, 14]    [32, 728, 14, 14]    --                   True\n",
       "│    └─Sequential (rep)                  [32, 728, 14, 14]    [32, 728, 14, 14]    --                   True\n",
       "│    │    └─ReLU (0)                     [32, 728, 14, 14]    [32, 728, 14, 14]    --                   --\n",
       "│    │    └─SeparableConv2d (1)          [32, 728, 14, 14]    [32, 728, 14, 14]    536,536              True\n",
       "│    │    └─BatchNorm2d (2)              [32, 728, 14, 14]    [32, 728, 14, 14]    1,456                True\n",
       "│    │    └─ReLU (3)                     [32, 728, 14, 14]    [32, 728, 14, 14]    --                   --\n",
       "│    │    └─SeparableConv2d (4)          [32, 728, 14, 14]    [32, 728, 14, 14]    536,536              True\n",
       "│    │    └─BatchNorm2d (5)              [32, 728, 14, 14]    [32, 728, 14, 14]    1,456                True\n",
       "│    │    └─ReLU (6)                     [32, 728, 14, 14]    [32, 728, 14, 14]    --                   --\n",
       "│    │    └─SeparableConv2d (7)          [32, 728, 14, 14]    [32, 728, 14, 14]    536,536              True\n",
       "│    │    └─BatchNorm2d (8)              [32, 728, 14, 14]    [32, 728, 14, 14]    1,456                True\n",
       "├─Block (block8)                         [32, 728, 14, 14]    [32, 728, 14, 14]    --                   True\n",
       "│    └─Sequential (rep)                  [32, 728, 14, 14]    [32, 728, 14, 14]    --                   True\n",
       "│    │    └─ReLU (0)                     [32, 728, 14, 14]    [32, 728, 14, 14]    --                   --\n",
       "│    │    └─SeparableConv2d (1)          [32, 728, 14, 14]    [32, 728, 14, 14]    536,536              True\n",
       "│    │    └─BatchNorm2d (2)              [32, 728, 14, 14]    [32, 728, 14, 14]    1,456                True\n",
       "│    │    └─ReLU (3)                     [32, 728, 14, 14]    [32, 728, 14, 14]    --                   --\n",
       "│    │    └─SeparableConv2d (4)          [32, 728, 14, 14]    [32, 728, 14, 14]    536,536              True\n",
       "│    │    └─BatchNorm2d (5)              [32, 728, 14, 14]    [32, 728, 14, 14]    1,456                True\n",
       "│    │    └─ReLU (6)                     [32, 728, 14, 14]    [32, 728, 14, 14]    --                   --\n",
       "│    │    └─SeparableConv2d (7)          [32, 728, 14, 14]    [32, 728, 14, 14]    536,536              True\n",
       "│    │    └─BatchNorm2d (8)              [32, 728, 14, 14]    [32, 728, 14, 14]    1,456                True\n",
       "├─Block (block9)                         [32, 728, 14, 14]    [32, 728, 14, 14]    --                   True\n",
       "│    └─Sequential (rep)                  [32, 728, 14, 14]    [32, 728, 14, 14]    --                   True\n",
       "│    │    └─ReLU (0)                     [32, 728, 14, 14]    [32, 728, 14, 14]    --                   --\n",
       "│    │    └─SeparableConv2d (1)          [32, 728, 14, 14]    [32, 728, 14, 14]    536,536              True\n",
       "│    │    └─BatchNorm2d (2)              [32, 728, 14, 14]    [32, 728, 14, 14]    1,456                True\n",
       "│    │    └─ReLU (3)                     [32, 728, 14, 14]    [32, 728, 14, 14]    --                   --\n",
       "│    │    └─SeparableConv2d (4)          [32, 728, 14, 14]    [32, 728, 14, 14]    536,536              True\n",
       "│    │    └─BatchNorm2d (5)              [32, 728, 14, 14]    [32, 728, 14, 14]    1,456                True\n",
       "│    │    └─ReLU (6)                     [32, 728, 14, 14]    [32, 728, 14, 14]    --                   --\n",
       "│    │    └─SeparableConv2d (7)          [32, 728, 14, 14]    [32, 728, 14, 14]    536,536              True\n",
       "│    │    └─BatchNorm2d (8)              [32, 728, 14, 14]    [32, 728, 14, 14]    1,456                True\n",
       "├─Block (block10)                        [32, 728, 14, 14]    [32, 728, 14, 14]    --                   True\n",
       "│    └─Sequential (rep)                  [32, 728, 14, 14]    [32, 728, 14, 14]    --                   True\n",
       "│    │    └─ReLU (0)                     [32, 728, 14, 14]    [32, 728, 14, 14]    --                   --\n",
       "│    │    └─SeparableConv2d (1)          [32, 728, 14, 14]    [32, 728, 14, 14]    536,536              True\n",
       "│    │    └─BatchNorm2d (2)              [32, 728, 14, 14]    [32, 728, 14, 14]    1,456                True\n",
       "│    │    └─ReLU (3)                     [32, 728, 14, 14]    [32, 728, 14, 14]    --                   --\n",
       "│    │    └─SeparableConv2d (4)          [32, 728, 14, 14]    [32, 728, 14, 14]    536,536              True\n",
       "│    │    └─BatchNorm2d (5)              [32, 728, 14, 14]    [32, 728, 14, 14]    1,456                True\n",
       "│    │    └─ReLU (6)                     [32, 728, 14, 14]    [32, 728, 14, 14]    --                   --\n",
       "│    │    └─SeparableConv2d (7)          [32, 728, 14, 14]    [32, 728, 14, 14]    536,536              True\n",
       "│    │    └─BatchNorm2d (8)              [32, 728, 14, 14]    [32, 728, 14, 14]    1,456                True\n",
       "├─Block (block11)                        [32, 728, 14, 14]    [32, 728, 14, 14]    --                   True\n",
       "│    └─Sequential (rep)                  [32, 728, 14, 14]    [32, 728, 14, 14]    --                   True\n",
       "│    │    └─ReLU (0)                     [32, 728, 14, 14]    [32, 728, 14, 14]    --                   --\n",
       "│    │    └─SeparableConv2d (1)          [32, 728, 14, 14]    [32, 728, 14, 14]    536,536              True\n",
       "│    │    └─BatchNorm2d (2)              [32, 728, 14, 14]    [32, 728, 14, 14]    1,456                True\n",
       "│    │    └─ReLU (3)                     [32, 728, 14, 14]    [32, 728, 14, 14]    --                   --\n",
       "│    │    └─SeparableConv2d (4)          [32, 728, 14, 14]    [32, 728, 14, 14]    536,536              True\n",
       "│    │    └─BatchNorm2d (5)              [32, 728, 14, 14]    [32, 728, 14, 14]    1,456                True\n",
       "│    │    └─ReLU (6)                     [32, 728, 14, 14]    [32, 728, 14, 14]    --                   --\n",
       "│    │    └─SeparableConv2d (7)          [32, 728, 14, 14]    [32, 728, 14, 14]    536,536              True\n",
       "│    │    └─BatchNorm2d (8)              [32, 728, 14, 14]    [32, 728, 14, 14]    1,456                True\n",
       "├─Block (block12)                        [32, 728, 14, 14]    [32, 1024, 7, 7]     --                   True\n",
       "│    └─Sequential (rep)                  [32, 728, 14, 14]    [32, 1024, 7, 7]     --                   True\n",
       "│    │    └─ReLU (0)                     [32, 728, 14, 14]    [32, 728, 14, 14]    --                   --\n",
       "│    │    └─SeparableConv2d (1)          [32, 728, 14, 14]    [32, 728, 14, 14]    536,536              True\n",
       "│    │    └─BatchNorm2d (2)              [32, 728, 14, 14]    [32, 728, 14, 14]    1,456                True\n",
       "│    │    └─ReLU (3)                     [32, 728, 14, 14]    [32, 728, 14, 14]    --                   --\n",
       "│    │    └─SeparableConv2d (4)          [32, 728, 14, 14]    [32, 1024, 14, 14]   752,024              True\n",
       "│    │    └─BatchNorm2d (5)              [32, 1024, 14, 14]   [32, 1024, 14, 14]   2,048                True\n",
       "│    │    └─MaxPool2d (6)                [32, 1024, 14, 14]   [32, 1024, 7, 7]     --                   --\n",
       "│    └─Conv2d (skip)                     [32, 728, 14, 14]    [32, 1024, 7, 7]     745,472              True\n",
       "│    └─BatchNorm2d (skipbn)              [32, 1024, 7, 7]     [32, 1024, 7, 7]     2,048                True\n",
       "├─SeparableConv2d (conv3)                [32, 1024, 7, 7]     [32, 1536, 7, 7]     --                   True\n",
       "│    └─Conv2d (conv1)                    [32, 1024, 7, 7]     [32, 1024, 7, 7]     9,216                True\n",
       "│    └─Conv2d (pointwise)                [32, 1024, 7, 7]     [32, 1536, 7, 7]     1,572,864            True\n",
       "├─BatchNorm2d (bn3)                      [32, 1536, 7, 7]     [32, 1536, 7, 7]     3,072                True\n",
       "├─ReLU (act3)                            [32, 1536, 7, 7]     [32, 1536, 7, 7]     --                   --\n",
       "├─SeparableConv2d (conv4)                [32, 1536, 7, 7]     [32, 2048, 7, 7]     --                   True\n",
       "│    └─Conv2d (conv1)                    [32, 1536, 7, 7]     [32, 1536, 7, 7]     13,824               True\n",
       "│    └─Conv2d (pointwise)                [32, 1536, 7, 7]     [32, 2048, 7, 7]     3,145,728            True\n",
       "├─BatchNorm2d (bn4)                      [32, 2048, 7, 7]     [32, 2048, 7, 7]     4,096                True\n",
       "├─ReLU (act4)                            [32, 2048, 7, 7]     [32, 2048, 7, 7]     --                   --\n",
       "├─SelectAdaptivePool2d (global_pool)     [32, 2048, 7, 7]     [32, 2048]           --                   --\n",
       "│    └─AdaptiveAvgPool2d (pool)          [32, 2048, 7, 7]     [32, 2048, 1, 1]     --                   --\n",
       "│    └─Flatten (flatten)                 [32, 2048, 1, 1]     [32, 2048]           --                   --\n",
       "├─Identity (fc)                          [32, 2048]           [32, 2048]           --                   --\n",
       "========================================================================================================================\n",
       "Total params: 20,806,952\n",
       "Trainable params: 20,806,952\n",
       "Non-trainable params: 0\n",
       "Total mult-adds (Units.GIGABYTES): 145.63\n",
       "========================================================================================================================\n",
       "Input size (MB): 19.27\n",
       "Forward/backward pass size (MB): 8005.40\n",
       "Params size (MB): 83.23\n",
       "Estimated Total Size (MB): 8107.90\n",
       "========================================================================================================================"
      ]
     },
     "execution_count": 21,
     "metadata": {},
     "output_type": "execute_result"
    }
   ],
   "source": [
    "from torchinfo import summary\n",
    "import timm\n",
    "from torchvision import models\n",
    "model = timm.create_model(\"xception\", pretrained=True)\n",
    "model.fc = nn.Identity()\n",
    "summary(model=model, \n",
    "        input_size=(32, 3, 224, 224),  \n",
    "        col_names=[\"input_size\", \"output_size\", \"num_params\", \"trainable\"],\n",
    "        col_width=20,\n",
    "        row_settings=[\"var_names\"]\n",
    ")"
   ]
  },
  {
   "cell_type": "code",
   "execution_count": 16,
   "id": "eab5cc34-29c1-4731-95c5-5978ca902a5b",
   "metadata": {},
   "outputs": [
    {
     "name": "stderr",
     "output_type": "stream",
     "text": [
      "C:\\Users\\User\\AppData\\Roaming\\Python\\Python312\\site-packages\\tqdm\\auto.py:21: TqdmWarning: IProgress not found. Please update jupyter and ipywidgets. See https://ipywidgets.readthedocs.io/en/stable/user_install.html\n",
      "  from .autonotebook import tqdm as notebook_tqdm\n",
      "C:\\Users\\User\\anaconda3\\envs\\torch\\Lib\\site-packages\\timm\\models\\_factory.py:117: UserWarning: Mapping deprecated model name xception to current legacy_xception.\n",
      "  model = create_fn(\n"
     ]
    }
   ],
   "source": [
    "import torch\n",
    "import torch.nn as nn\n",
    "import timm\n",
    "from torchvision import models\n",
    "\n",
    "class EnsembleModel(nn.Module):\n",
    "    def __init__(self, num_classes=4):\n",
    "        super(EnsembleModel, self).__init__()\n",
    "        \n",
    "        self.xception = timm.create_model(\"xception\", pretrained=True)\n",
    "        self.xception.fc = nn.Identity() \n",
    "        \n",
    "        self.efficientnet = timm.create_model(\"efficientnet_b2\", pretrained=True)\n",
    "        self.efficientnet.classifier = nn.Identity()  # Remove the classifier\n",
    "        \n",
    "        self.adaptive_pool = nn.AdaptiveAvgPool2d((7, 7))\n",
    "        \n",
    "        # Fully connected layers\n",
    "        self.dropout1 = nn.Dropout(0.5)\n",
    "        self.flatten = nn.Flatten()\n",
    "        self.bn1 = nn.BatchNorm1d(7 * 7 * (2048 + 1408))  \n",
    "        self.fc1 = nn.Linear(7 * 7 * (2048 + 1408), 256)\n",
    "        self.bn2 = nn.BatchNorm1d(256)\n",
    "        self.relu = nn.ReLU()\n",
    "        self.dropout2 = nn.Dropout(0.5)\n",
    "        self.bn3 = nn.BatchNorm1d(256)\n",
    "        self.fc2 = nn.Linear(256, 64)\n",
    "        self.bn4 = nn.BatchNorm1d(64)\n",
    "        self.fc3 = nn.Linear(64, num_classes)\n",
    "\n",
    "    def forward(self, x):\n",
    "        \n",
    "        xception_features = self.xception.forward_features(x)  \n",
    "        xception_features = self.adaptive_pool(xception_features)\n",
    "        \n",
    "        efficientnet_features = self.efficientnet.forward_features(x)  \n",
    "        efficientnet_features = self.adaptive_pool(efficientnet_features)\n",
    "        \n",
    "        combined_features = torch.cat((xception_features, efficientnet_features), dim=1)\n",
    "        \n",
    "        x = self.dropout1(combined_features)\n",
    "        x = self.flatten(x)\n",
    "        x = self.bn1(x)\n",
    "        x = self.fc1(x)\n",
    "        x = self.bn2(x)\n",
    "        x = self.relu(x)\n",
    "        x = self.dropout2(x)\n",
    "        x = self.bn3(x)\n",
    "        x = self.fc2(x)\n",
    "        x = self.bn4(x)\n",
    "        x = self.relu(x)\n",
    "        x = self.fc3(x)\n",
    "        \n",
    "        return x\n",
    "\n",
    "def create_model(num_classes=4):\n",
    "    return EnsembleModel(num_classes)\n",
    "\n",
    "model = create_model(num_classes=4).to(device)"
   ]
  },
  {
   "cell_type": "code",
   "execution_count": 17,
   "id": "629f7096-bbb8-4bab-a966-6afae2ef862c",
   "metadata": {},
   "outputs": [
    {
     "name": "stderr",
     "output_type": "stream",
     "text": [
      "Epoch 1/50: 100%|██████████| 281/281 [02:16<00:00,  2.07it/s]\n"
     ]
    },
    {
     "name": "stdout",
     "output_type": "stream",
     "text": [
      "Epoch 1/50\n",
      "Train Loss: 0.7430, Train Acc: 0.7263\n",
      "Val Loss: 0.4937, Val Acc: 0.8337\n"
     ]
    },
    {
     "name": "stderr",
     "output_type": "stream",
     "text": [
      "Epoch 2/50: 100%|██████████| 281/281 [02:13<00:00,  2.11it/s]\n"
     ]
    },
    {
     "name": "stdout",
     "output_type": "stream",
     "text": [
      "Epoch 2/50\n",
      "Train Loss: 0.3415, Train Acc: 0.9104\n",
      "Val Loss: 0.3027, Val Acc: 0.8954\n"
     ]
    },
    {
     "name": "stderr",
     "output_type": "stream",
     "text": [
      "Epoch 3/50: 100%|██████████| 281/281 [02:13<00:00,  2.11it/s]\n"
     ]
    },
    {
     "name": "stdout",
     "output_type": "stream",
     "text": [
      "Epoch 3/50\n",
      "Train Loss: 0.1562, Train Acc: 0.9733\n",
      "Val Loss: 0.1788, Val Acc: 0.9454\n"
     ]
    },
    {
     "name": "stderr",
     "output_type": "stream",
     "text": [
      "Epoch 4/50: 100%|██████████| 281/281 [02:13<00:00,  2.11it/s]\n"
     ]
    },
    {
     "name": "stdout",
     "output_type": "stream",
     "text": [
      "Epoch 4/50\n",
      "Train Loss: 0.1130, Train Acc: 0.9763\n",
      "Val Loss: 0.1447, Val Acc: 0.9539\n"
     ]
    },
    {
     "name": "stderr",
     "output_type": "stream",
     "text": [
      "Epoch 5/50: 100%|██████████| 281/281 [02:13<00:00,  2.10it/s]\n"
     ]
    },
    {
     "name": "stdout",
     "output_type": "stream",
     "text": [
      "Epoch 5/50\n",
      "Train Loss: 0.1159, Train Acc: 0.9700\n",
      "Val Loss: 0.2433, Val Acc: 0.9110\n"
     ]
    },
    {
     "name": "stderr",
     "output_type": "stream",
     "text": [
      "Epoch 6/50: 100%|██████████| 281/281 [02:16<00:00,  2.06it/s]\n"
     ]
    },
    {
     "name": "stdout",
     "output_type": "stream",
     "text": [
      "Epoch 6/50\n",
      "Train Loss: 0.0805, Train Acc: 0.9829\n",
      "Val Loss: 0.1048, Val Acc: 0.9727\n"
     ]
    },
    {
     "name": "stderr",
     "output_type": "stream",
     "text": [
      "Epoch 7/50: 100%|██████████| 281/281 [02:15<00:00,  2.07it/s]\n"
     ]
    },
    {
     "name": "stdout",
     "output_type": "stream",
     "text": [
      "Epoch 7/50\n",
      "Train Loss: 0.0536, Train Acc: 0.9893\n",
      "Val Loss: 0.1196, Val Acc: 0.9602\n"
     ]
    },
    {
     "name": "stderr",
     "output_type": "stream",
     "text": [
      "Epoch 8/50: 100%|██████████| 281/281 [02:13<00:00,  2.10it/s]\n"
     ]
    },
    {
     "name": "stdout",
     "output_type": "stream",
     "text": [
      "Epoch 8/50\n",
      "Train Loss: 0.0464, Train Acc: 0.9909\n",
      "Val Loss: 0.0744, Val Acc: 0.9781\n"
     ]
    },
    {
     "name": "stderr",
     "output_type": "stream",
     "text": [
      "Epoch 9/50: 100%|██████████| 281/281 [02:13<00:00,  2.11it/s]\n"
     ]
    },
    {
     "name": "stdout",
     "output_type": "stream",
     "text": [
      "Epoch 9/50\n",
      "Train Loss: 0.0325, Train Acc: 0.9929\n",
      "Val Loss: 0.0914, Val Acc: 0.9727\n"
     ]
    },
    {
     "name": "stderr",
     "output_type": "stream",
     "text": [
      "Epoch 10/50: 100%|██████████| 281/281 [02:11<00:00,  2.13it/s]\n"
     ]
    },
    {
     "name": "stdout",
     "output_type": "stream",
     "text": [
      "Epoch 10/50\n",
      "Train Loss: 0.0409, Train Acc: 0.9901\n",
      "Val Loss: 0.1065, Val Acc: 0.9680\n"
     ]
    },
    {
     "name": "stderr",
     "output_type": "stream",
     "text": [
      "Epoch 11/50: 100%|██████████| 281/281 [02:02<00:00,  2.29it/s]\n"
     ]
    },
    {
     "name": "stdout",
     "output_type": "stream",
     "text": [
      "Epoch 11/50\n",
      "Train Loss: 0.0415, Train Acc: 0.9900\n",
      "Val Loss: 0.0849, Val Acc: 0.9742\n"
     ]
    },
    {
     "name": "stderr",
     "output_type": "stream",
     "text": [
      "Epoch 12/50: 100%|██████████| 281/281 [02:02<00:00,  2.29it/s]\n"
     ]
    },
    {
     "name": "stdout",
     "output_type": "stream",
     "text": [
      "Epoch 12/50\n",
      "Train Loss: 0.0459, Train Acc: 0.9875\n",
      "Val Loss: 0.0984, Val Acc: 0.9696\n"
     ]
    },
    {
     "name": "stderr",
     "output_type": "stream",
     "text": [
      "Epoch 13/50: 100%|██████████| 281/281 [02:02<00:00,  2.29it/s]\n"
     ]
    },
    {
     "name": "stdout",
     "output_type": "stream",
     "text": [
      "Epoch 13/50\n",
      "Train Loss: 0.0207, Train Acc: 0.9961\n",
      "Val Loss: 0.0547, Val Acc: 0.9828\n"
     ]
    },
    {
     "name": "stderr",
     "output_type": "stream",
     "text": [
      "Epoch 14/50: 100%|██████████| 281/281 [02:02<00:00,  2.29it/s]\n"
     ]
    },
    {
     "name": "stdout",
     "output_type": "stream",
     "text": [
      "Epoch 14/50\n",
      "Train Loss: 0.0153, Train Acc: 0.9975\n",
      "Val Loss: 0.0688, Val Acc: 0.9813\n"
     ]
    },
    {
     "name": "stderr",
     "output_type": "stream",
     "text": [
      "Epoch 15/50: 100%|██████████| 281/281 [02:02<00:00,  2.29it/s]\n"
     ]
    },
    {
     "name": "stdout",
     "output_type": "stream",
     "text": [
      "Epoch 15/50\n",
      "Train Loss: 0.0149, Train Acc: 0.9981\n",
      "Val Loss: 0.0553, Val Acc: 0.9844\n"
     ]
    },
    {
     "name": "stderr",
     "output_type": "stream",
     "text": [
      "Epoch 16/50: 100%|██████████| 281/281 [02:02<00:00,  2.29it/s]\n"
     ]
    },
    {
     "name": "stdout",
     "output_type": "stream",
     "text": [
      "Epoch 16/50\n",
      "Train Loss: 0.0140, Train Acc: 0.9979\n",
      "Val Loss: 0.0484, Val Acc: 0.9891\n"
     ]
    },
    {
     "name": "stderr",
     "output_type": "stream",
     "text": [
      "Epoch 17/50: 100%|██████████| 281/281 [02:02<00:00,  2.30it/s]\n"
     ]
    },
    {
     "name": "stdout",
     "output_type": "stream",
     "text": [
      "Epoch 17/50\n",
      "Train Loss: 0.0122, Train Acc: 0.9987\n",
      "Val Loss: 0.0422, Val Acc: 0.9891\n"
     ]
    },
    {
     "name": "stderr",
     "output_type": "stream",
     "text": [
      "Epoch 18/50: 100%|██████████| 281/281 [02:02<00:00,  2.29it/s]\n"
     ]
    },
    {
     "name": "stdout",
     "output_type": "stream",
     "text": [
      "Epoch 18/50\n",
      "Train Loss: 0.0117, Train Acc: 0.9981\n",
      "Val Loss: 0.0445, Val Acc: 0.9899\n"
     ]
    },
    {
     "name": "stderr",
     "output_type": "stream",
     "text": [
      "Epoch 19/50: 100%|██████████| 281/281 [02:04<00:00,  2.27it/s]\n"
     ]
    },
    {
     "name": "stdout",
     "output_type": "stream",
     "text": [
      "Epoch 19/50\n",
      "Train Loss: 0.0094, Train Acc: 0.9988\n",
      "Val Loss: 0.0514, Val Acc: 0.9836\n"
     ]
    },
    {
     "name": "stderr",
     "output_type": "stream",
     "text": [
      "Epoch 20/50: 100%|██████████| 281/281 [02:12<00:00,  2.11it/s]\n"
     ]
    },
    {
     "name": "stdout",
     "output_type": "stream",
     "text": [
      "Epoch 20/50\n",
      "Train Loss: 0.0111, Train Acc: 0.9984\n",
      "Val Loss: 0.0445, Val Acc: 0.9883\n"
     ]
    },
    {
     "name": "stderr",
     "output_type": "stream",
     "text": [
      "Epoch 21/50: 100%|██████████| 281/281 [02:12<00:00,  2.11it/s]\n"
     ]
    },
    {
     "name": "stdout",
     "output_type": "stream",
     "text": [
      "Epoch 21/50\n",
      "Train Loss: 0.0095, Train Acc: 0.9991\n",
      "Val Loss: 0.0502, Val Acc: 0.9859\n"
     ]
    },
    {
     "name": "stderr",
     "output_type": "stream",
     "text": [
      "Epoch 22/50: 100%|██████████| 281/281 [02:04<00:00,  2.25it/s]\n"
     ]
    },
    {
     "name": "stdout",
     "output_type": "stream",
     "text": [
      "Epoch 22/50\n",
      "Train Loss: 0.0106, Train Acc: 0.9988\n",
      "Val Loss: 0.0425, Val Acc: 0.9867\n",
      "Early stopping after 22 epochs\n"
     ]
    }
   ],
   "source": [
    "criterion = nn.CrossEntropyLoss()\n",
    "optimizer = optim.Adam(model.parameters(), lr=0.0001)\n",
    "scheduler = optim.lr_scheduler.ReduceLROnPlateau(optimizer, mode='min', factor=0.1, patience=3)\n",
    "model = train_model_with_early_stopping(\n",
    "    model=model,\n",
    "    train_loader=train_loader,\n",
    "    val_loader=val_loader,\n",
    "    optimizer=optimizer,\n",
    "    criterion=criterion,\n",
    "    scheduler=scheduler,\n",
    "    num_epochs=50,\n",
    "    device=device\n",
    ")"
   ]
  },
  {
   "cell_type": "code",
   "execution_count": 18,
   "id": "c980f0f2-e160-4544-8fc8-c7f1c6a03bd0",
   "metadata": {},
   "outputs": [
    {
     "name": "stdout",
     "output_type": "stream",
     "text": [
      "Test Accuracy: 0.9863\n",
      "Classification Report:\n",
      "                  precision    recall  f1-score   support\n",
      "\n",
      "    MildDemented     0.9844    0.9752    0.9798       646\n",
      "ModerateDemented     1.0000    1.0000    1.0000       640\n",
      "     NonDemented     0.9953    0.9891    0.9922       640\n",
      "VeryMildDemented     0.9659    0.9811    0.9734       635\n",
      "\n",
      "        accuracy                         0.9863      2561\n",
      "       macro avg     0.9864    0.9863    0.9863      2561\n",
      "    weighted avg     0.9864    0.9863    0.9864      2561\n",
      "\n",
      "AUC Score: 0.9996\n"
     ]
    },
    {
     "data": {
      "image/png": "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",
      "text/plain": [
       "<Figure size 800x600 with 2 Axes>"
      ]
     },
     "metadata": {},
     "output_type": "display_data"
    }
   ],
   "source": [
    "test_accuracy, classification_report_str, auc_score, true_labels, predictions = test_model(model, test_loader, num_classes=4, device='cuda')\n",
    "\n",
    "print(f'Test Accuracy: {test_accuracy:.4f}')\n",
    "print('Classification Report:')\n",
    "print(classification_report_str)\n",
    "print(f'AUC Score: {auc_score:.4f}')\n",
    "\n",
    "cm = confusion_matrix(true_labels, predictions)\n",
    "import matplotlib.pyplot as plt\n",
    "import seaborn as sns\n",
    "\n",
    "class_names = ['MildDemented', 'ModerateDemented', 'NonDemented', 'VeryMildDemented']\n",
    "plt.figure(figsize=(8, 6))\n",
    "sns.heatmap(cm, annot=True, cmap='Blues', fmt=\".0f\", xticklabels = class_names, yticklabels = class_names)\n",
    "plt.title('Confusion Matrix')\n",
    "plt.xlabel('Predicted Label')\n",
    "plt.ylabel('True Label')\n",
    "plt.show()"
   ]
  },
  {
   "cell_type": "markdown",
   "id": "4e9e6db9-7e5f-41b7-a78d-82d53238d675",
   "metadata": {},
   "source": [
    "<h1>VGG16+DenseNet-121</h1>"
   ]
  },
  {
   "cell_type": "code",
   "execution_count": 15,
   "id": "322dd14d-b397-40e4-8c54-9231dcab949a",
   "metadata": {},
   "outputs": [
    {
     "name": "stderr",
     "output_type": "stream",
     "text": [
      "C:\\Users\\User\\AppData\\Roaming\\Python\\Python312\\site-packages\\tqdm\\auto.py:21: TqdmWarning: IProgress not found. Please update jupyter and ipywidgets. See https://ipywidgets.readthedocs.io/en/stable/user_install.html\n",
      "  from .autonotebook import tqdm as notebook_tqdm\n",
      "C:\\Users\\User\\anaconda3\\envs\\torch\\Lib\\site-packages\\torchvision\\models\\_utils.py:208: UserWarning: The parameter 'pretrained' is deprecated since 0.13 and may be removed in the future, please use 'weights' instead.\n",
      "  warnings.warn(\n",
      "C:\\Users\\User\\anaconda3\\envs\\torch\\Lib\\site-packages\\torchvision\\models\\_utils.py:223: UserWarning: Arguments other than a weight enum or `None` for 'weights' are deprecated since 0.13 and may be removed in the future. The current behavior is equivalent to passing `weights=VGG16_Weights.IMAGENET1K_V1`. You can also use `weights=VGG16_Weights.DEFAULT` to get the most up-to-date weights.\n",
      "  warnings.warn(msg)\n"
     ]
    }
   ],
   "source": [
    "import torch\n",
    "import torch.nn as nn\n",
    "import timm\n",
    "from torchvision import models\n",
    "\n",
    "class EnsembleModel(nn.Module):\n",
    "    def __init__(self, num_classes=4):\n",
    "        super(EnsembleModel, self).__init__()\n",
    "        \n",
    "        self.vgg16 = models.vgg16(pretrained=True)\n",
    "        self.vgg16.classifier = nn.Identity() \n",
    "        \n",
    "        self.densenet = timm.create_model(\"densenet121\", pretrained=True)\n",
    "        self.densenet.classifier = nn.Identity() \n",
    "        \n",
    "        self.adaptive_pool = nn.AdaptiveAvgPool2d((7, 7))\n",
    "        \n",
    "        self.dropout1 = nn.Dropout(0.5)\n",
    "        self.flatten = nn.Flatten()\n",
    "        self.bn1 = nn.BatchNorm1d(7 * 7 * (512 + 1024))  \n",
    "        self.fc1 = nn.Linear(7 * 7 * (512 + 1024), 256)\n",
    "        self.bn2 = nn.BatchNorm1d(256)\n",
    "        self.relu = nn.ReLU()\n",
    "        self.dropout2 = nn.Dropout(0.5)\n",
    "        self.bn3 = nn.BatchNorm1d(256)\n",
    "        self.fc2 = nn.Linear(256, 64)\n",
    "        self.bn4 = nn.BatchNorm1d(64)\n",
    "        self.fc3 = nn.Linear(64, num_classes)\n",
    "\n",
    "    def forward(self, x):\n",
    "        # VGG16 feature extraction\n",
    "        vgg_features = self.vgg16.features(x)  \n",
    "        vgg_features = self.adaptive_pool(vgg_features)\n",
    "        \n",
    "        densenet_features = self.densenet.forward_features(x)  \n",
    "        densenet_features = self.adaptive_pool(densenet_features)\n",
    "        \n",
    "        combined_features = torch.cat((vgg_features, densenet_features), dim=1)\n",
    "        \n",
    "        x = self.dropout1(combined_features)\n",
    "        x = self.flatten(x)\n",
    "        x = self.bn1(x)\n",
    "        x = self.fc1(x)\n",
    "        x = self.bn2(x)\n",
    "        x = self.relu(x)\n",
    "        x = self.dropout2(x)\n",
    "        x = self.bn3(x)\n",
    "        x = self.fc2(x)\n",
    "        x = self.bn4(x)\n",
    "        x = self.relu(x)\n",
    "        x = self.fc3(x)\n",
    "        \n",
    "        return x\n",
    "\n",
    "def create_model(num_classes=4):\n",
    "    return EnsembleModel(num_classes)\n",
    "\n",
    "model = create_model(num_classes=4).to(device)"
   ]
  },
  {
   "cell_type": "code",
   "execution_count": 16,
   "id": "5bceb3cd-46c2-4232-9110-930ac25d84cd",
   "metadata": {},
   "outputs": [
    {
     "name": "stderr",
     "output_type": "stream",
     "text": [
      "Epoch 1/50: 100%|██████████| 281/281 [02:56<00:00,  1.59it/s]\n"
     ]
    },
    {
     "name": "stdout",
     "output_type": "stream",
     "text": [
      "Epoch 1/50\n",
      "Train Loss: 0.8998, Train Acc: 0.6493\n",
      "Val Loss: 21.9835, Val Acc: 0.2537\n"
     ]
    },
    {
     "name": "stderr",
     "output_type": "stream",
     "text": [
      "Epoch 2/50: 100%|██████████| 281/281 [02:53<00:00,  1.62it/s]\n"
     ]
    },
    {
     "name": "stdout",
     "output_type": "stream",
     "text": [
      "Epoch 2/50\n",
      "Train Loss: 0.6753, Train Acc: 0.7345\n",
      "Val Loss: 1.2636, Val Acc: 0.6011\n"
     ]
    },
    {
     "name": "stderr",
     "output_type": "stream",
     "text": [
      "Epoch 3/50: 100%|██████████| 281/281 [02:53<00:00,  1.62it/s]\n"
     ]
    },
    {
     "name": "stdout",
     "output_type": "stream",
     "text": [
      "Epoch 3/50\n",
      "Train Loss: 0.6128, Train Acc: 0.7522\n",
      "Val Loss: 1.5051, Val Acc: 0.5878\n"
     ]
    },
    {
     "name": "stderr",
     "output_type": "stream",
     "text": [
      "Epoch 4/50: 100%|██████████| 281/281 [02:55<00:00,  1.61it/s]\n"
     ]
    },
    {
     "name": "stdout",
     "output_type": "stream",
     "text": [
      "Epoch 4/50\n",
      "Train Loss: 0.5407, Train Acc: 0.7838\n",
      "Val Loss: 2.1339, Val Acc: 0.5917\n"
     ]
    },
    {
     "name": "stderr",
     "output_type": "stream",
     "text": [
      "Epoch 5/50: 100%|██████████| 281/281 [02:53<00:00,  1.62it/s]\n"
     ]
    },
    {
     "name": "stdout",
     "output_type": "stream",
     "text": [
      "Epoch 5/50\n",
      "Train Loss: 0.5090, Train Acc: 0.7962\n",
      "Val Loss: 4.9804, Val Acc: 0.3489\n"
     ]
    },
    {
     "name": "stderr",
     "output_type": "stream",
     "text": [
      "Epoch 6/50: 100%|██████████| 281/281 [02:54<00:00,  1.61it/s]\n"
     ]
    },
    {
     "name": "stdout",
     "output_type": "stream",
     "text": [
      "Epoch 6/50\n",
      "Train Loss: 0.4761, Train Acc: 0.8065\n",
      "Val Loss: 1.3677, Val Acc: 0.6550\n"
     ]
    },
    {
     "name": "stderr",
     "output_type": "stream",
     "text": [
      "Epoch 7/50: 100%|██████████| 281/281 [02:55<00:00,  1.60it/s]\n"
     ]
    },
    {
     "name": "stdout",
     "output_type": "stream",
     "text": [
      "Epoch 7/50\n",
      "Train Loss: 0.4237, Train Acc: 0.8294\n",
      "Val Loss: 0.6709, Val Acc: 0.7814\n"
     ]
    },
    {
     "name": "stderr",
     "output_type": "stream",
     "text": [
      "Epoch 8/50: 100%|██████████| 281/281 [02:54<00:00,  1.61it/s]\n"
     ]
    },
    {
     "name": "stdout",
     "output_type": "stream",
     "text": [
      "Epoch 8/50\n",
      "Train Loss: 0.3886, Train Acc: 0.8495\n",
      "Val Loss: 0.6521, Val Acc: 0.7970\n"
     ]
    },
    {
     "name": "stderr",
     "output_type": "stream",
     "text": [
      "Epoch 9/50: 100%|██████████| 281/281 [02:55<00:00,  1.60it/s]\n"
     ]
    },
    {
     "name": "stdout",
     "output_type": "stream",
     "text": [
      "Epoch 9/50\n",
      "Train Loss: 0.3657, Train Acc: 0.8605\n",
      "Val Loss: 0.6151, Val Acc: 0.8080\n"
     ]
    },
    {
     "name": "stderr",
     "output_type": "stream",
     "text": [
      "Epoch 10/50: 100%|██████████| 281/281 [02:52<00:00,  1.62it/s]\n"
     ]
    },
    {
     "name": "stdout",
     "output_type": "stream",
     "text": [
      "Epoch 10/50\n",
      "Train Loss: 0.3367, Train Acc: 0.8762\n",
      "Val Loss: 0.6598, Val Acc: 0.8017\n"
     ]
    },
    {
     "name": "stderr",
     "output_type": "stream",
     "text": [
      "Epoch 11/50: 100%|██████████| 281/281 [02:53<00:00,  1.62it/s]\n"
     ]
    },
    {
     "name": "stdout",
     "output_type": "stream",
     "text": [
      "Epoch 11/50\n",
      "Train Loss: 0.3271, Train Acc: 0.8849\n",
      "Val Loss: 0.5893, Val Acc: 0.8189\n"
     ]
    },
    {
     "name": "stderr",
     "output_type": "stream",
     "text": [
      "Epoch 12/50: 100%|██████████| 281/281 [02:54<00:00,  1.61it/s]\n"
     ]
    },
    {
     "name": "stdout",
     "output_type": "stream",
     "text": [
      "Epoch 12/50\n",
      "Train Loss: 0.3121, Train Acc: 0.8914\n",
      "Val Loss: 0.6208, Val Acc: 0.8197\n"
     ]
    },
    {
     "name": "stderr",
     "output_type": "stream",
     "text": [
      "Epoch 13/50: 100%|██████████| 281/281 [02:51<00:00,  1.64it/s]\n"
     ]
    },
    {
     "name": "stdout",
     "output_type": "stream",
     "text": [
      "Epoch 13/50\n",
      "Train Loss: 0.2923, Train Acc: 0.8991\n",
      "Val Loss: 0.6473, Val Acc: 0.8033\n"
     ]
    },
    {
     "name": "stderr",
     "output_type": "stream",
     "text": [
      "Epoch 14/50: 100%|██████████| 281/281 [02:50<00:00,  1.64it/s]\n"
     ]
    },
    {
     "name": "stdout",
     "output_type": "stream",
     "text": [
      "Epoch 14/50\n",
      "Train Loss: 0.2793, Train Acc: 0.9039\n",
      "Val Loss: 0.7282, Val Acc: 0.8033\n"
     ]
    },
    {
     "name": "stderr",
     "output_type": "stream",
     "text": [
      "Epoch 15/50: 100%|██████████| 281/281 [02:39<00:00,  1.76it/s]\n"
     ]
    },
    {
     "name": "stdout",
     "output_type": "stream",
     "text": [
      "Epoch 15/50\n",
      "Train Loss: 0.2645, Train Acc: 0.9131\n",
      "Val Loss: 0.6308, Val Acc: 0.8165\n"
     ]
    },
    {
     "name": "stderr",
     "output_type": "stream",
     "text": [
      "Epoch 16/50: 100%|██████████| 281/281 [02:40<00:00,  1.75it/s]\n"
     ]
    },
    {
     "name": "stdout",
     "output_type": "stream",
     "text": [
      "Epoch 16/50\n",
      "Train Loss: 0.2590, Train Acc: 0.9134\n",
      "Val Loss: 0.5717, Val Acc: 0.8165\n"
     ]
    },
    {
     "name": "stderr",
     "output_type": "stream",
     "text": [
      "Epoch 17/50: 100%|██████████| 281/281 [02:39<00:00,  1.76it/s]\n"
     ]
    },
    {
     "name": "stdout",
     "output_type": "stream",
     "text": [
      "Epoch 17/50\n",
      "Train Loss: 0.2584, Train Acc: 0.9135\n",
      "Val Loss: 0.5944, Val Acc: 0.8205\n"
     ]
    },
    {
     "name": "stderr",
     "output_type": "stream",
     "text": [
      "Epoch 18/50: 100%|██████████| 281/281 [02:40<00:00,  1.76it/s]\n"
     ]
    },
    {
     "name": "stdout",
     "output_type": "stream",
     "text": [
      "Epoch 18/50\n",
      "Train Loss: 0.2623, Train Acc: 0.9130\n",
      "Val Loss: 0.5477, Val Acc: 0.8228\n"
     ]
    },
    {
     "name": "stderr",
     "output_type": "stream",
     "text": [
      "Epoch 19/50: 100%|██████████| 281/281 [02:39<00:00,  1.76it/s]\n"
     ]
    },
    {
     "name": "stdout",
     "output_type": "stream",
     "text": [
      "Epoch 19/50\n",
      "Train Loss: 0.2563, Train Acc: 0.9184\n",
      "Val Loss: 0.6000, Val Acc: 0.8173\n"
     ]
    },
    {
     "name": "stderr",
     "output_type": "stream",
     "text": [
      "Epoch 20/50: 100%|██████████| 281/281 [02:39<00:00,  1.76it/s]\n"
     ]
    },
    {
     "name": "stdout",
     "output_type": "stream",
     "text": [
      "Epoch 20/50\n",
      "Train Loss: 0.2498, Train Acc: 0.9173\n",
      "Val Loss: 0.5484, Val Acc: 0.8345\n"
     ]
    },
    {
     "name": "stderr",
     "output_type": "stream",
     "text": [
      "Epoch 21/50: 100%|██████████| 281/281 [02:40<00:00,  1.76it/s]\n"
     ]
    },
    {
     "name": "stdout",
     "output_type": "stream",
     "text": [
      "Epoch 21/50\n",
      "Train Loss: 0.2477, Train Acc: 0.9140\n",
      "Val Loss: 0.6460, Val Acc: 0.8205\n"
     ]
    },
    {
     "name": "stderr",
     "output_type": "stream",
     "text": [
      "Epoch 22/50: 100%|██████████| 281/281 [02:39<00:00,  1.76it/s]\n"
     ]
    },
    {
     "name": "stdout",
     "output_type": "stream",
     "text": [
      "Epoch 22/50\n",
      "Train Loss: 0.2454, Train Acc: 0.9192\n",
      "Val Loss: 0.6176, Val Acc: 0.8197\n"
     ]
    },
    {
     "name": "stderr",
     "output_type": "stream",
     "text": [
      "Epoch 23/50: 100%|██████████| 281/281 [02:39<00:00,  1.76it/s]\n"
     ]
    },
    {
     "name": "stdout",
     "output_type": "stream",
     "text": [
      "Epoch 23/50\n",
      "Train Loss: 0.2404, Train Acc: 0.9210\n",
      "Val Loss: 0.5588, Val Acc: 0.8290\n",
      "Early stopping after 23 epochs\n"
     ]
    }
   ],
   "source": [
    "criterion = nn.CrossEntropyLoss()\n",
    "optimizer = optim.Adam(model.parameters(), lr=0.0001)\n",
    "scheduler = optim.lr_scheduler.ReduceLROnPlateau(optimizer, mode='min', factor=0.1, patience=3)\n",
    "model = train_model_with_early_stopping(\n",
    "    model=model,\n",
    "    train_loader=train_loader,\n",
    "    val_loader=val_loader,\n",
    "    optimizer=optimizer,\n",
    "    criterion=criterion,\n",
    "    scheduler=scheduler,\n",
    "    num_epochs=50,\n",
    "    device=device\n",
    ")"
   ]
  },
  {
   "cell_type": "code",
   "execution_count": 19,
   "id": "6f3d46c7-6aff-4c04-b1f8-4c882b7c3638",
   "metadata": {},
   "outputs": [
    {
     "name": "stdout",
     "output_type": "stream",
     "text": [
      "Test Accuracy: 0.8274\n",
      "Classification Report:\n",
      "                  precision    recall  f1-score   support\n",
      "\n",
      "    MildDemented     0.7724    0.8142    0.7928       646\n",
      "ModerateDemented     0.9568    0.9688    0.9627       640\n",
      "     NonDemented     0.8320    0.8203    0.8261       640\n",
      "VeryMildDemented     0.7454    0.7055    0.7249       635\n",
      "\n",
      "        accuracy                         0.8274      2561\n",
      "       macro avg     0.8267    0.8272    0.8266      2561\n",
      "    weighted avg     0.8267    0.8274    0.8268      2561\n",
      "\n",
      "AUC Score: 0.9400\n"
     ]
    },
    {
     "data": {
      "image/png": "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",
      "text/plain": [
       "<Figure size 800x600 with 2 Axes>"
      ]
     },
     "metadata": {},
     "output_type": "display_data"
    }
   ],
   "source": [
    "test_accuracy, classification_report_str, auc_score, true_labels, predictions = test_model(model, test_loader, num_classes=4, device='cuda')\n",
    "\n",
    "print(f'Test Accuracy: {test_accuracy:.4f}')\n",
    "print('Classification Report:')\n",
    "print(classification_report_str)\n",
    "print(f'AUC Score: {auc_score:.4f}')\n",
    "\n",
    "cm = confusion_matrix(true_labels, predictions)\n",
    "import matplotlib.pyplot as plt\n",
    "import seaborn as sns\n",
    "\n",
    "class_names = ['MildDemented', 'ModerateDemented', 'NonDemented', 'VeryMildDemented']\n",
    "plt.figure(figsize=(8, 6))\n",
    "sns.heatmap(cm, annot=True, cmap='Blues', fmt=\".0f\", xticklabels = class_names, yticklabels = class_names)\n",
    "plt.title('Confusion Matrix')\n",
    "plt.xlabel('Predicted Label')\n",
    "plt.ylabel('True Label')\n",
    "plt.show()"
   ]
  },
  {
   "cell_type": "markdown",
   "id": "3c895a90-c0a5-45a7-a1d2-c938cb70e1e7",
   "metadata": {},
   "source": [
    "<h1>Xception+DenseNet-121</h1>"
   ]
  },
  {
   "cell_type": "code",
   "execution_count": 16,
   "id": "25014904-16f9-421a-8127-ab87ffb6fbc7",
   "metadata": {},
   "outputs": [
    {
     "name": "stderr",
     "output_type": "stream",
     "text": [
      "C:\\Users\\User\\AppData\\Roaming\\Python\\Python312\\site-packages\\tqdm\\auto.py:21: TqdmWarning: IProgress not found. Please update jupyter and ipywidgets. See https://ipywidgets.readthedocs.io/en/stable/user_install.html\n",
      "  from .autonotebook import tqdm as notebook_tqdm\n",
      "C:\\Users\\User\\anaconda3\\envs\\torch\\Lib\\site-packages\\timm\\models\\_factory.py:117: UserWarning: Mapping deprecated model name xception to current legacy_xception.\n",
      "  model = create_fn(\n"
     ]
    }
   ],
   "source": [
    "import torch\n",
    "import torch.nn as nn\n",
    "import timm\n",
    "from torchvision import models\n",
    "\n",
    "class EnsembleModel(nn.Module):\n",
    "    def __init__(self, num_classes=4):\n",
    "        super(EnsembleModel, self).__init__()\n",
    "        \n",
    "        self.xception = timm.create_model(\"xception\", pretrained=True)\n",
    "        self.xception.fc = nn.Identity() \n",
    "        \n",
    "        self.densenet = timm.create_model(\"densenet121\", pretrained=True)\n",
    "        self.densenet.classifier = nn.Identity()\n",
    "        \n",
    "        self.adaptive_pool = nn.AdaptiveAvgPool2d((7, 7))\n",
    "        \n",
    "        # Fully connected layers\n",
    "        self.dropout1 = nn.Dropout(0.5)\n",
    "        self.flatten = nn.Flatten()\n",
    "        self.bn1 = nn.BatchNorm1d(7 * 7 * (2048 + 1024))  \n",
    "        self.fc1 = nn.Linear(7 * 7 * (2048 + 1024), 256)\n",
    "        self.bn2 = nn.BatchNorm1d(256)\n",
    "        self.relu = nn.ReLU()\n",
    "        self.dropout2 = nn.Dropout(0.5)\n",
    "        self.bn3 = nn.BatchNorm1d(256)\n",
    "        self.fc2 = nn.Linear(256, 64)\n",
    "        self.bn4 = nn.BatchNorm1d(64)\n",
    "        self.fc3 = nn.Linear(64, num_classes)\n",
    "\n",
    "    def forward(self, x):\n",
    "        \n",
    "        xception_features = self.xception.forward_features(x)  \n",
    "        xception_features = self.adaptive_pool(xception_features)\n",
    "        \n",
    "        densenet_features = self.densenet.forward_features(x)  \n",
    "        densenet_features = self.adaptive_pool(densenet_features)\n",
    "        \n",
    "        combined_features = torch.cat((xception_features, densenet_features), dim=1)\n",
    "        \n",
    "        x = self.dropout1(combined_features)\n",
    "        x = self.flatten(x)\n",
    "        x = self.bn1(x)\n",
    "        x = self.fc1(x)\n",
    "        x = self.bn2(x)\n",
    "        x = self.relu(x)\n",
    "        x = self.dropout2(x)\n",
    "        x = self.bn3(x)\n",
    "        x = self.fc2(x)\n",
    "        x = self.bn4(x)\n",
    "        x = self.relu(x)\n",
    "        x = self.fc3(x)\n",
    "        \n",
    "        return x\n",
    "\n",
    "def create_model(num_classes=4):\n",
    "    return EnsembleModel(num_classes)\n",
    "\n",
    "model = create_model(num_classes=4).to(device)"
   ]
  },
  {
   "cell_type": "code",
   "execution_count": 17,
   "id": "01a1f1a7-7128-42b2-a3eb-ace4da11ff18",
   "metadata": {},
   "outputs": [
    {
     "name": "stderr",
     "output_type": "stream",
     "text": [
      "Epoch 1/50: 100%|██████████| 281/281 [02:30<00:00,  1.87it/s]\n"
     ]
    },
    {
     "name": "stdout",
     "output_type": "stream",
     "text": [
      "Epoch 1/50\n",
      "Train Loss: 0.7182, Train Acc: 0.7281\n",
      "Val Loss: 0.8449, Val Acc: 0.6823\n"
     ]
    },
    {
     "name": "stderr",
     "output_type": "stream",
     "text": [
      "Epoch 2/50: 100%|██████████| 281/281 [02:26<00:00,  1.92it/s]\n"
     ]
    },
    {
     "name": "stdout",
     "output_type": "stream",
     "text": [
      "Epoch 2/50\n",
      "Train Loss: 0.3370, Train Acc: 0.9039\n",
      "Val Loss: 0.2854, Val Acc: 0.9118\n"
     ]
    },
    {
     "name": "stderr",
     "output_type": "stream",
     "text": [
      "Epoch 3/50: 100%|██████████| 281/281 [02:28<00:00,  1.90it/s]\n"
     ]
    },
    {
     "name": "stdout",
     "output_type": "stream",
     "text": [
      "Epoch 3/50\n",
      "Train Loss: 0.1550, Train Acc: 0.9697\n",
      "Val Loss: 0.4485, Val Acc: 0.8368\n"
     ]
    },
    {
     "name": "stderr",
     "output_type": "stream",
     "text": [
      "Epoch 4/50: 100%|██████████| 281/281 [02:28<00:00,  1.89it/s]\n"
     ]
    },
    {
     "name": "stdout",
     "output_type": "stream",
     "text": [
      "Epoch 4/50\n",
      "Train Loss: 0.1025, Train Acc: 0.9800\n",
      "Val Loss: 0.1821, Val Acc: 0.9399\n"
     ]
    },
    {
     "name": "stderr",
     "output_type": "stream",
     "text": [
      "Epoch 5/50: 100%|██████████| 281/281 [02:28<00:00,  1.89it/s]\n"
     ]
    },
    {
     "name": "stdout",
     "output_type": "stream",
     "text": [
      "Epoch 5/50\n",
      "Train Loss: 0.1082, Train Acc: 0.9730\n",
      "Val Loss: 0.1097, Val Acc: 0.9696\n"
     ]
    },
    {
     "name": "stderr",
     "output_type": "stream",
     "text": [
      "Epoch 6/50: 100%|██████████| 281/281 [02:28<00:00,  1.89it/s]\n"
     ]
    },
    {
     "name": "stdout",
     "output_type": "stream",
     "text": [
      "Epoch 6/50\n",
      "Train Loss: 0.0644, Train Acc: 0.9863\n",
      "Val Loss: 0.1459, Val Acc: 0.9469\n"
     ]
    },
    {
     "name": "stderr",
     "output_type": "stream",
     "text": [
      "Epoch 7/50: 100%|██████████| 281/281 [02:28<00:00,  1.89it/s]\n"
     ]
    },
    {
     "name": "stdout",
     "output_type": "stream",
     "text": [
      "Epoch 7/50\n",
      "Train Loss: 0.0547, Train Acc: 0.9884\n",
      "Val Loss: 0.1200, Val Acc: 0.9586\n"
     ]
    },
    {
     "name": "stderr",
     "output_type": "stream",
     "text": [
      "Epoch 8/50: 100%|██████████| 281/281 [02:28<00:00,  1.89it/s]\n"
     ]
    },
    {
     "name": "stdout",
     "output_type": "stream",
     "text": [
      "Epoch 8/50\n",
      "Train Loss: 0.0485, Train Acc: 0.9878\n",
      "Val Loss: 0.1204, Val Acc: 0.9586\n"
     ]
    },
    {
     "name": "stderr",
     "output_type": "stream",
     "text": [
      "Epoch 9/50: 100%|██████████| 281/281 [02:28<00:00,  1.89it/s]\n"
     ]
    },
    {
     "name": "stdout",
     "output_type": "stream",
     "text": [
      "Epoch 9/50\n",
      "Train Loss: 0.0542, Train Acc: 0.9856\n",
      "Val Loss: 0.1198, Val Acc: 0.9641\n"
     ]
    },
    {
     "name": "stderr",
     "output_type": "stream",
     "text": [
      "Epoch 10/50: 100%|██████████| 281/281 [02:26<00:00,  1.92it/s]\n"
     ]
    },
    {
     "name": "stdout",
     "output_type": "stream",
     "text": [
      "Epoch 10/50\n",
      "Train Loss: 0.0241, Train Acc: 0.9958\n",
      "Val Loss: 0.1076, Val Acc: 0.9688\n"
     ]
    },
    {
     "name": "stderr",
     "output_type": "stream",
     "text": [
      "Epoch 11/50: 100%|██████████| 281/281 [02:23<00:00,  1.96it/s]\n"
     ]
    },
    {
     "name": "stdout",
     "output_type": "stream",
     "text": [
      "Epoch 11/50\n",
      "Train Loss: 0.0183, Train Acc: 0.9980\n",
      "Val Loss: 0.0890, Val Acc: 0.9727\n"
     ]
    },
    {
     "name": "stderr",
     "output_type": "stream",
     "text": [
      "Epoch 12/50: 100%|██████████| 281/281 [02:29<00:00,  1.88it/s]\n"
     ]
    },
    {
     "name": "stdout",
     "output_type": "stream",
     "text": [
      "Epoch 12/50\n",
      "Train Loss: 0.0199, Train Acc: 0.9977\n",
      "Val Loss: 0.0659, Val Acc: 0.9766\n"
     ]
    },
    {
     "name": "stderr",
     "output_type": "stream",
     "text": [
      "Epoch 13/50: 100%|██████████| 281/281 [02:29<00:00,  1.88it/s]\n"
     ]
    },
    {
     "name": "stdout",
     "output_type": "stream",
     "text": [
      "Epoch 13/50\n",
      "Train Loss: 0.0154, Train Acc: 0.9990\n",
      "Val Loss: 0.0845, Val Acc: 0.9735\n"
     ]
    },
    {
     "name": "stderr",
     "output_type": "stream",
     "text": [
      "Epoch 14/50: 100%|██████████| 281/281 [02:32<00:00,  1.85it/s]\n"
     ]
    },
    {
     "name": "stdout",
     "output_type": "stream",
     "text": [
      "Epoch 14/50\n",
      "Train Loss: 0.0147, Train Acc: 0.9992\n",
      "Val Loss: 0.0642, Val Acc: 0.9766\n"
     ]
    },
    {
     "name": "stderr",
     "output_type": "stream",
     "text": [
      "Epoch 15/50: 100%|██████████| 281/281 [02:29<00:00,  1.88it/s]\n"
     ]
    },
    {
     "name": "stdout",
     "output_type": "stream",
     "text": [
      "Epoch 15/50\n",
      "Train Loss: 0.0155, Train Acc: 0.9990\n",
      "Val Loss: 0.0829, Val Acc: 0.9735\n"
     ]
    },
    {
     "name": "stderr",
     "output_type": "stream",
     "text": [
      "Epoch 16/50: 100%|██████████| 281/281 [02:28<00:00,  1.89it/s]\n"
     ]
    },
    {
     "name": "stdout",
     "output_type": "stream",
     "text": [
      "Epoch 16/50\n",
      "Train Loss: 0.0149, Train Acc: 0.9991\n",
      "Val Loss: 0.0854, Val Acc: 0.9742\n"
     ]
    },
    {
     "name": "stderr",
     "output_type": "stream",
     "text": [
      "Epoch 17/50: 100%|██████████| 281/281 [02:30<00:00,  1.87it/s]\n"
     ]
    },
    {
     "name": "stdout",
     "output_type": "stream",
     "text": [
      "Epoch 17/50\n",
      "Train Loss: 0.0123, Train Acc: 0.9992\n",
      "Val Loss: 0.0713, Val Acc: 0.9766\n"
     ]
    },
    {
     "name": "stderr",
     "output_type": "stream",
     "text": [
      "Epoch 18/50: 100%|██████████| 281/281 [02:28<00:00,  1.89it/s]\n"
     ]
    },
    {
     "name": "stdout",
     "output_type": "stream",
     "text": [
      "Epoch 18/50\n",
      "Train Loss: 0.0120, Train Acc: 0.9994\n",
      "Val Loss: 0.0651, Val Acc: 0.9781\n"
     ]
    },
    {
     "name": "stderr",
     "output_type": "stream",
     "text": [
      "Epoch 19/50: 100%|██████████| 281/281 [02:32<00:00,  1.84it/s]\n"
     ]
    },
    {
     "name": "stdout",
     "output_type": "stream",
     "text": [
      "Epoch 19/50\n",
      "Train Loss: 0.0112, Train Acc: 0.9997\n",
      "Val Loss: 0.0650, Val Acc: 0.9789\n",
      "Early stopping after 19 epochs\n"
     ]
    }
   ],
   "source": [
    "criterion = nn.CrossEntropyLoss()\n",
    "optimizer = optim.Adam(model.parameters(), lr=0.0001)\n",
    "scheduler = optim.lr_scheduler.ReduceLROnPlateau(optimizer, mode='min', factor=0.1, patience=3)\n",
    "model = train_model_with_early_stopping(\n",
    "    model=model,\n",
    "    train_loader=train_loader,\n",
    "    val_loader=val_loader,\n",
    "    optimizer=optimizer,\n",
    "    criterion=criterion,\n",
    "    scheduler=scheduler,\n",
    "    num_epochs=50,\n",
    "    device=device\n",
    ")"
   ]
  },
  {
   "cell_type": "code",
   "execution_count": 18,
   "id": "a8bd94e7-c52c-4e38-a619-6ffa6aee389f",
   "metadata": {},
   "outputs": [
    {
     "name": "stdout",
     "output_type": "stream",
     "text": [
      "Test Accuracy: 0.9828\n",
      "Classification Report:\n",
      "                  precision    recall  f1-score   support\n",
      "\n",
      "    MildDemented     0.9739    0.9830    0.9784       646\n",
      "ModerateDemented     1.0000    1.0000    1.0000       640\n",
      "     NonDemented     0.9905    0.9812    0.9859       640\n",
      "VeryMildDemented     0.9669    0.9669    0.9669       635\n",
      "\n",
      "        accuracy                         0.9828      2561\n",
      "       macro avg     0.9828    0.9828    0.9828      2561\n",
      "    weighted avg     0.9829    0.9828    0.9828      2561\n",
      "\n",
      "AUC Score: 0.9989\n"
     ]
    },
    {
     "data": {
      "image/png": "iVBORw0KGgoAAAANSUhEUgAAAwYAAAIjCAYAAAC50AzlAAAAP3RFWHRTb2Z0d2FyZQBNYXRwbG90bGliIHZlcnNpb24zLjkuMS5wb3N0MSwgaHR0cHM6Ly9tYXRwbG90bGliLm9yZy8kixA/AAAACXBIWXMAAA9hAAAPYQGoP6dpAACBpElEQVR4nOzdeVxN+f8H8Nct7XWLtKIioYylhiH7EhnLWJrBCEXWKVs0xtgqlJ0x1jEURsNYZwbD2I1E9q0YIjFKRCVtdM/vD7/O13XDvelW3NdzHufxmPs5n/M5n3Nu9zrv+/58zpEIgiCAiIiIiIg0mlZZd4CIiIiIiMoeAwMiIiIiImJgQEREREREDAyIiIiIiAgMDIiIiIiICAwMiIiIiIgIDAyIiIiIiAgMDIiIiIiICAwMiIiIiIgIDAyIiOg1N27cQMeOHWFqagqJRIKdO3eWaPuJiYmQSCSIjIws0XY/ZG3atEGbNm3KuhtEpOEYGBARlUMJCQkYPnw4atSoAX19fUilUjRv3hw//PADcnJy1LpvHx8fXL58GbNmzcKGDRvQqFEjte6vNPn6+kIikUAqlRZ5Hm/cuAGJRAKJRIL58+er3P79+/cRHByMCxculEBviYhKV4Wy7gAREcnbvXs3vvrqK+jp6WHgwIH45JNPkJ+fj+PHjyMoKAhXr17FTz/9pJZ95+TkICYmBpMnT0ZAQIBa9mFvb4+cnBzo6Oiopf13qVChArKzs/Hnn3+id+/ecus2btwIfX195ObmFqvt+/fvIyQkBA4ODmjYsKHS2/3999/F2h8RUUliYEBEVI7cvn0bffv2hb29PQ4dOgQbGxtxnb+/P27evIndu3erbf8PHz4EAJiZmaltHxKJBPr6+mpr/1309PTQvHlz/PrrrwqBQVRUFLp06YJt27aVSl+ys7NhaGgIXV3dUtkfEdHbcCgREVE5MnfuXGRlZWHNmjVyQUGhmjVrYsyYMeLrFy9eYMaMGXB0dISenh4cHBzw/fffIy8vT247BwcHdO3aFcePH8dnn30GfX191KhRA+vXrxfrBAcHw97eHgAQFBQEiUQCBwcHAC+H4BT+/6uCg4MhkUjkyvbv348WLVrAzMwMxsbGqF27Nr7//ntx/ZvmGBw6dAgtW7aEkZERzMzM0L17d8THxxe5v5s3b8LX1xdmZmYwNTXFoEGDkJ2d/eYT+5p+/frhr7/+Qnp6ulh2+vRp3LhxA/369VOo//jxY0yYMAH16tWDsbExpFIpPv/8c1y8eFGsc+TIETRu3BgAMGjQIHFIUuFxtmnTBp988gnOnj2LVq1awdDQUDwvr88x8PHxgb6+vsLxe3p6omLFirh//77Sx0pEpCwGBkRE5ciff/6JGjVqoFmzZkrVHzJkCKZNmwY3NzcsWrQIrVu3Rnh4OPr27atQ9+bNm/jyyy/RoUMHLFiwABUrVoSvry+uXr0KAOjVqxcWLVoEAPj666+xYcMGLF68WKX+X716FV27dkVeXh5CQ0OxYMECfPHFF4iOjn7rdgcOHICnpydSU1MRHByMwMBAnDhxAs2bN0diYqJC/d69e+Pp06cIDw9H7969ERkZiZCQEKX72atXL0gkEmzfvl0si4qKQp06deDm5qZQ/9atW9i5cye6du2KhQsXIigoCJcvX0br1q3Fi3RnZ2eEhoYCAIYNG4YNGzZgw4YNaNWqldhOWloaPv/8czRs2BCLFy9G27Zti+zfDz/8AAsLC/j4+KCgoAAAsGrVKvz999/48ccfYWtrq/SxEhEpTSAionIhIyNDACB0795dqfoXLlwQAAhDhgyRK58wYYIAQDh06JBYZm9vLwAQjh07JpalpqYKenp6wvjx48Wy27dvCwCEefPmybXp4+Mj2NvbK/Rh+vTpwqv/lCxatEgAIDx8+PCN/S7cR0REhFjWsGFDwdLSUkhLSxPLLl68KGhpaQkDBw5U2N/gwYPl2uzZs6dgbm7+xn2+ehxGRkaCIAjCl19+KbRv314QBEEoKCgQrK2thZCQkCLPQW5urlBQUKBwHHp6ekJoaKhYdvr0aYVjK9S6dWsBgLBy5coi17Vu3VqubN++fQIAYebMmcKtW7cEY2NjoUePHu88RiKi4mLGgIionMjMzAQAmJiYKFV/z549AIDAwEC58vHjxwOAwlwEFxcXtGzZUnxtYWGB2rVr49atW8Xu8+sK5yb8/vvvkMlkSm2TnJyMCxcuwNfXF5UqVRLL69evjw4dOojH+aoRI0bIvW7ZsiXS0tLEc6iMfv364ciRI0hJScGhQ4eQkpJS5DAi4OW8BC2tl/9kFhQUIC0tTRwmde7cOaX3qaenh0GDBilVt2PHjhg+fDhCQ0PRq1cv6OvrY9WqVUrvi4hIVQwMiIjKCalUCgB4+vSpUvXv3LkDLS0t1KxZU67c2toaZmZmuHPnjly5nZ2dQhsVK1bEkydPitljRX369EHz5s0xZMgQWFlZoW/fvvjtt9/eGiQU9rN27doK65ydnfHo0SM8e/ZMrvz1Y6lYsSIAqHQsnTt3homJCTZv3oyNGzeicePGCueykEwmw6JFi+Dk5AQ9PT1UrlwZFhYWuHTpEjIyMpTeZ5UqVVSaaDx//nxUqlQJFy5cwJIlS2Bpaan0tkREqmJgQERUTkilUtja2uLKlSsqbff65N830dbWLrJcEIRi76Nw/HshAwMDHDt2DAcOHMCAAQNw6dIl9OnTBx06dFCo+z7e51gK6enpoVevXli3bh127NjxxmwBAISFhSEwMBCtWrXCL7/8gn379mH//v2oW7eu0pkR4OX5UcX58+eRmpoKALh8+bJK2xIRqYqBARFROdK1a1ckJCQgJibmnXXt7e0hk8lw48YNufIHDx4gPT1dvMNQSahYsaLcHXwKvZ6VAAAtLS20b98eCxcuRFxcHGbNmoVDhw7h8OHDRbZd2M/r168rrLt27RoqV64MIyOj9zuAN+jXrx/Onz+Pp0+fFjlhu9DWrVvRtm1brFmzBn379kXHjh3h4eGhcE6UDdKU8ezZMwwaNAguLi4YNmwY5s6di9OnT5dY+0REr2NgQERUjnz77bcwMjLCkCFD8ODBA4X1CQkJ+OGHHwC8HAoDQOHOQQsXLgQAdOnSpcT65ejoiIyMDFy6dEksS05Oxo4dO+TqPX78WGHbwgd9vX4L1UI2NjZo2LAh1q1bJ3ehfeXKFfz999/icapD27ZtMWPGDCxduhTW1tZvrKetra2QjdiyZQv+++8/ubLCAKaoIEpVEydORFJSEtatW4eFCxfCwcEBPj4+bzyPRETviw84IyIqRxwdHREVFYU+ffrA2dlZ7snHJ06cwJYtW+Dr6wsAaNCgAXx8fPDTTz8hPT0drVu3RmxsLNatW4cePXq88VaYxdG3b19MnDgRPXv2xOjRo5GdnY0VK1agVq1acpNvQ0NDcezYMXTp0gX29vZITU3F8uXLUbVqVbRo0eKN7c+bNw+ff/453N3d4efnh5ycHPz4448wNTVFcHBwiR3H67S0tDBlypR31uvatStCQ0MxaNAgNGvWDJcvX8bGjRtRo0YNuXqOjo4wMzPDypUrYWJiAiMjIzRp0gTVq1dXqV+HDh3C8uXLMX36dPH2qREREWjTpg2mTp2KuXPnqtQeEZEymDEgIipnvvjiC1y6dAlffvklfv/9d/j7++O7775DYmIiFixYgCVLloh1f/75Z4SEhOD06dMYO3YsDh06hEmTJmHTpk0l2idzc3Ps2LEDhoaG+Pbbb7Fu3TqEh4ejW7duCn23s7PD2rVr4e/vj2XLlqFVq1Y4dOgQTE1N39i+h4cH9u7dC3Nzc0ybNg3z589H06ZNER0drfJFtTp8//33GD9+PPbt24cxY8bg3Llz2L17N6pVqyZXT0dHB+vWrYO2tjZGjBiBr7/+GkePHlVpX0+fPsXgwYPh6uqKyZMni+UtW7bEmDFjsGDBApw8ebJEjouI6FUSQZWZWkRERERE9FFixoCIiIiIiBgYEBERERERAwMiIiIiIgIDAyIiIiIiAgMDIiIiIiICAwMiIiIiIgIDAyIiIiIiAp98TB8JA7fRZd0FKkVPYpe8uxIRfZAKZHy8kiYx0pWU2b4NXAPU2n7O+aVqbV8dmDEgIiIiIiJmDIiIiIhIA0n4+/jrGBgQERERkeaRlN0wpvKKoRIRERERETFjQEREREQaiEOJFPCMEBERERERMwZEREREpIE4x0ABMwZERERERMSMARERERFpIM4xUMAzQkREREREzBgQERERkQbiHAMFDAyIiIiISPNwKJECnhEiIiIiImLGgIiIiIg0EIcSKWDGgIiIiIiImDEgIiIiIg3EOQYKeEaIiIiIiIgZAyIiIiLSQJxjoIAZAyIiIiIiYsaAiIiIiDQQ5xgoYGBARERERJqHQ4kUMFQiIiIiIiJmDIiIiIhIA3EokQKeESIiIiIiYmBARERERBpIoqXeRQX//fcf+vfvD3NzcxgYGKBevXo4c+aMuF4QBEybNg02NjYwMDCAh4cHbty4IdfG48eP4e3tDalUCjMzM/j5+SErK0ulfjAwICIiIiIqI0+ePEHz5s2ho6ODv/76C3FxcViwYAEqVqwo1pk7dy6WLFmClStX4tSpUzAyMoKnpydyc3PFOt7e3rh69Sr279+PXbt24dixYxg2bJhKfZEIgiCU2JERlREDt9Fl3QUqRU9il5R1F4hITQpkvCzRJEa6ZXdnIIO2M9Tafs7hqUrV++677xAdHY1//vmnyPWCIMDW1hbjx4/HhAkTAAAZGRmwsrJCZGQk+vbti/j4eLi4uOD06dNo1KgRAGDv3r3o3Lkz7t27B1tbW6X6wowBEREREVEJy8vLQ2ZmptySl5enUO+PP/5Ao0aN8NVXX8HS0hKurq5YvXq1uP727dtISUmBh4eHWGZqaoomTZogJiYGABATEwMzMzMxKAAADw8PaGlp4dSpU0r3mYEBEREREWkeNc8xCA8Ph6mpqdwSHh6u0I1bt25hxYoVcHJywr59+zBy5EiMHj0a69atAwCkpKQAAKysrOS2s7KyEtelpKTA0tJSbn2FChVQqVIlsY4yeLtSIiIiItI8an7A2aRJkxAYGChXpqenp1BPJpOhUaNGCAsLAwC4urriypUrWLlyJXx8fNTax9cxY0BEREREVML09PQglUrllqICAxsbG7i4uMiVOTs7IykpCQBgbW0NAHjw4IFcnQcPHojrrK2tkZqaKrf+xYsXePz4sVhHGQwMiIiIiEjzlJPblTZv3hzXr1+XK/v3339hb28PAKhevTqsra1x8OBBcX1mZiZOnToFd3d3AIC7uzvS09Nx9uxZsc6hQ4cgk8nQpEkTpfvCoURERERERGVk3LhxaNasGcLCwtC7d2/Exsbip59+wk8//QQAkEgkGDt2LGbOnAknJydUr14dU6dOha2tLXr06AHgZYahU6dOGDp0KFauXInnz58jICAAffv2VfqORAADAyIiIiLSRGqeY6Csxo0bY8eOHZg0aRJCQ0NRvXp1LF68GN7e3mKdb7/9Fs+ePcOwYcOQnp6OFi1aYO/evdDX1xfrbNy4EQEBAWjfvj20tLTg5eWFJUtUu703n2NAHwU+x0Cz8DkGRB8vPsdAs5Tpcww6zFFr+zn7J6q1fXVgxoCIiIiINI8K8wA0Bc8IERERERExY0BEREREGqiczDEoTxgYEBEREZHm4VAiBTwjRERERETEjAERERERaSAOJVLAjAERERERETFjQEREREQaiHMMFPCMEBERERERMwZEREREpIE4x0ABMwZERERERMSMARERERFpIM4xUMDAgIiIiIg0DwMDBTwjRERERETEjAERERERaSBOPlbAjMF7atOmDcaOHSu+dnBwwOLFi9+6jUQiwc6dO9Xarw9ZYmIiJBIJLly4UNZdISIiItIYDAyK4OvrC4lEghEjRiis8/f3h0Qiga+vLwBg+/btmDFjxnvtTyKRiIuRkRGcnJzg6+uLs2fPvle7pYkX8yXH1sIUa2cOwL1D4Xh8Yj5Ob/4Obs7VxPWTh3+OC9sm41H0PNw/Mhu7V/ij8Sf2cm1c2zUdOeeWyC0TfD1K+1CoBG2K2ojPO7RDY9d68O77FS5fulTWXSI14vv9cTp75jTGBIxAx3Yt4VavDg4fPCC3/uCBv/HNsMFo26IJ3OrVwfVr8WXUUw0h0VLv8gH6MHtdCqpVq4ZNmzYhJydHLMvNzUVUVBTs7OzEskqVKsHExOS99xcREYHk5GRcvXoVy5YtQ1ZWFpo0aYL169e/d9v04TAzMcChiLF4/qIAPUatgOuXYfhu0U48efq/v8Obd1Ixbs4WNOo9G+0HL8ad+4/x57JvUNnMWK6tkOW74dBhsrgs33SstA+HSsjev/Zg/txwDP/GH5u27EDt2nUwcrgf0tLSyrprpAZ8vz9euTk5qFWrDr6bPK3I9Tk5OWjo+ilGj5tQyj0jeomBwRu4ubmhWrVq2L59u1i2fft22NnZwdXVVSx7fSjR627cuIFWrVpBX18fLi4u2L9/f5H1zMzMYG1tDQcHB3Ts2BFbt26Ft7c3AgIC8OTJE7He8ePH0bJlSxgYGKBatWoYPXo0nj17Jq53cHDAzJkzMXDgQBgbG8Pe3h5//PEHHj58iO7du8PY2Bj169fHmTNn5PavTLthYWEYPHgwTExMYGdnh59++klcX716dQCAq6srJBIJ2rRpI677+eef4ezsDH19fdSpUwfLly+X23dsbCxcXV2hr6+PRo0a4fz58288nx+78b4euPcgHcODo3DmahLu3H+Mgyev4fa9R2KdzXvP4nDsv0j8Lw3xt1IwceEOmJoY4JNatnJtZWXn4UHaU3HJzs0v7cOhErJhXQR6fdkbPXp6wbFmTUyZHgJ9fX3s3L6trLtGasD3++PVvGUr+I8ei3btOxS5vmu37hg20h9NmrqXcs80lESi3uUDxMDgLQYPHoyIiAjx9dq1azFo0CClt5fJZOjVqxd0dXVx6tQprFy5EhMnTlR6+3HjxuHp06diMJGQkIBOnTrBy8sLly5dwubNm3H8+HEEBATIbbdo0SI0b94c58+fR5cuXTBgwAAMHDgQ/fv3x7lz5+Do6IiBAwdCEASV2l2wYIF44f7NN99g5MiRuH79OoCXF/cAcODAASQnJ4sB1caNGzFt2jTMmjUL8fHxCAsLw9SpU7Fu3ToAQFZWFrp27QoXFxecPXsWwcHBmDBBc38p6dK6Hs7FJWHjnEG4c2AWYqK+xaCeb/4HQqeCNvx6NUP602xc/vc/uXXjfT1w71A4YqK+xbiB7aCtzY/7h+h5fj7i466iqXszsUxLSwtNmzbDpYuaG0R/rPh+E1FZ4l2J3qJ///6YNGkS7ty5AwCIjo7Gpk2bcOTIEaW2P3DgAK5du4Z9+/bB1vblr7lhYWH4/PPPldq+Tp06AF6O3weA8PBweHt7ixkKJycnLFmyBK1bt8aKFSugr68PAOjcuTOGDx8OAJg2bRpWrFiBxo0b46uvvgIATJw4Ee7u7njw4AGsra1Vavebb74R21i0aBEOHz6M2rVrw8LCAgBgbm4Oa2tr8RimT5+OBQsWoFevXgBeZhbi4uKwatUq+Pj4ICoqCjKZDGvWrIG+vj7q1q2Le/fuYeTIkW88L3l5ecjLy5MrE2QFkGhpK3Vey7PqVcwx9MsWWLLxMOau3Y9P69phQZAX8p8XYOOuWLHe5y3rYn24Lwz1dZDyKBNdRy5HWvr/MjzLfz2G89fu4klmNprWr47QUd1gXdkUExfuKIvDovfwJP0JCgoKYG5uLldubm6O27dvlVGvSF34fhOVog90HoA6MTB4CwsLC3Tp0gWRkZEQBAFdunRB5cqVld4+Pj4e1apVE4MCAHB3Vz49WPiLvuT/01EXL17EpUuXsHHjRrk6MpkMt2/fhrOzMwCgfv364norKysAQL169RTKUlNTYW1tXax2JRIJrK2tkZqa+sb+P3v2DAkJCfDz88PQoUPF8hcvXsDU1BTAy3NUv359MfgA3n2OwsPDERISIlembf0ZdGyavHW7D4GWlgTn4u5i+tJdAICL1++hrqMNhn7ZXC4wOHr6Bpp8PQeVzYwxqKc7fpkzCK0GLsDDJ1kAgCUbD4t1r9y4j/wXBVj6fR9M/fFP5D9/UboHRUREVB59oMN91ImBwTsMHjxYHFKzbNmyUt13fPzLuxEUjt/PysrC8OHDMXr0aIW6r06I1tHREf+/MKgoqkwmkxW73cJ2CtsoSlbWy4vU1atXo0kT+Yt2be3i/7o/adIkBAYGypVZtppU7PbKk5RHmYi/lSJXdu32A/Ro30CuLDs3H7fuPsKtu48QezkRl3dOgU8Pd8yPKHoOy+nLidDR0Ya9bSXcuPPmYI7Kn4pmFaGtra0w8TQtLU2lHyrow8D3m4jKEgODd+jUqRPy8/MhkUjg6emp0rbOzs64e/cukpOTYWNjAwA4efKk0tsvXrwYUqkUHh4vbzPp5uaGuLg41KxZU6V+vEtJtKurqwsAKCgoEMusrKxga2uLW7duwdvbu8jtnJ2dsWHDBuTm5opZg3edIz09Pejp6cmVfQzDiAAg5sIt1HKwlCtzsrdAUvKTN2zxkpZEC3q6b/44N6hdFQUFMjx8/LRE+kmlR0dXF84udXHqZAzatX/5XSCTyXDqVAz6ft2/jHtHJY3vN1HpkTBjoICBwTtoa2uLv9yr+iu3h4cHatWqBR8fH8ybNw+ZmZmYPHlykXXT09ORkpKCvLw8/Pvvv1i1ahV27tyJ9evXw8zMDMDLcf1NmzZFQEAAhgwZAiMjI8TFxWH//v1YunRpsY+xJNq1tLSEgYEB9u7di6pVq0JfXx+mpqYICQnB6NGjYWpqik6dOiEvLw9nzpzBkydPEBgYiH79+mHy5MkYOnQoJk2ahMTERMyfP7/Yx/Kh+3HjERyOGIegwR2wbf95NK5rj8G9miFg5mYAgKG+LiYO6YjdR68g5VEGzM2MMbx3S9hammL7/pcTE5vUd0DjTxxw9PS/eJqdh6b1q2PO+J74dc9ppL9y21P6cAzwGYSp309E3bqf4JN69fHLhnXIyclBj569yrprpAZ8vz9e2dnPcDcpSXz933/3cP1aPKSmprCxsUVGRjpSkpPx8P+H6SYm3gYAmFeujMqVLcqkz6RZGBgoQSqVFms7LS0t7NixA35+fvjss8/g4OCAJUuWoFOnTgp1C+92pK+vjypVqqBFixaIjY2Fm5ubWKd+/fo4evQoJk+ejJYtW0IQBDg6OqJPnz7FO7ASbLdChQpYsmQJQkNDMW3aNLRs2RJHjhzBkCFDYGhoiHnz5iEoKAhGRkaoV6+eONHZ2NgYf/75J0aMGAFXV1e4uLhgzpw58PLyeq9j+lCdjUtCnwk/IzSgG74f2gmJ99MQNH87Nv318vayBTIZajtYoX/Xz2BuZozHGc9w5moSPPx+EIcg5eW/wFeebpg8vBP0dCog8f5j/LjxCJb8cvhtu6ZyrNPnnfHk8WMsX7oEjx49RO06zli+6meYc2jJR4nv98cr7uoVDBvsI75eOG82AKDbFz0QMms2jh4+hOCp34vrJwW9HDY7bKQ/RnwzqnQ7qwGYMVAkEQpnuBJ9wAzcFOdH0MfrSeySsu4CEalJgYyXJZrESLfsLs6Nvox4d6X38Gyr8re4Ly+YMSAiIiIizcOEgQLewJWIiIiIiJgxICIiIiLNwzkGihgYEBEREZHGYWCgiEOJiIiIiIiIGQMiIiIi0jzMGChixoCIiIiIiJgxICIiIiLNw4yBImYMiIiIiIiIGQMiIiIi0kBMGChgxoCIiIiIiJgxICIiIiLNwzkGipgxICIiIiIiZgyIiIiISPMwY6CIgQERERERaRwGBoo4lIiIiIiIiJgxICIiIiLNw4yBImYMiIiIiIiIGQMiIiIi0kBMGChgxoCIiIiIiJgxICIiIiLNwzkGipgxICIiIiIiZgyIiIiISPMwY6CIgQERERERaRwGBoo4lIiIiIiIiJgxICIiIiINxISBAmYMiIiIiIiIGQMiIiIi0jycY6CIGQMiIiIiImLGgIiIiIg0DzMGipgxICIiIiIiZgyIiIiISPMwY6CIgQERERERaRwGBoo4lIiIiIiIiBgYEBEREZEGkqh5UVJwcDAkEoncUqdOHXF9bm4u/P39YW5uDmNjY3h5eeHBgwdybSQlJaFLly4wNDSEpaUlgoKC8OLFC5VPCYcSERERERGVobp16+LAgQPi6woV/neJPm7cOOzevRtbtmyBqakpAgIC0KtXL0RHRwMACgoK0KVLF1hbW+PEiRNITk7GwIEDoaOjg7CwMJX6wcCAiIiIiDROeZpjUKFCBVhbWyuUZ2RkYM2aNYiKikK7du0AABEREXB2dsbJkyfRtGlT/P3334iLi8OBAwdgZWWFhg0bYsaMGZg4cSKCg4Ohq6urdD84lIiIiIiIqITl5eUhMzNTbsnLyyuy7o0bN2Bra4saNWrA29sbSUlJAICzZ8/i+fPn8PDwEOvWqVMHdnZ2iImJAQDExMSgXr16sLKyEut4enoiMzMTV69eVanPDAyIiIiISOO8Pq6/pJfw8HCYmprKLeHh4Qr9aNKkCSIjI7F3716sWLECt2/fRsuWLfH06VOkpKRAV1cXZmZmcttYWVkhJSUFAJCSkiIXFBSuL1ynCg4lIiIiIiIqYZMmTUJgYKBcmZ6enkK9zz//XPz/+vXro0mTJrC3t8dvv/0GAwMDtffzVcwYEBEREZHGUXfGQE9PD1KpVG4pKjB4nZmZGWrVqoWbN2/C2toa+fn5SE9Pl6vz4MEDcU6CtbW1wl2KCl8XNW/hbRgYEBEREZHmKSe3K31dVlYWEhISYGNjg08//RQ6Ojo4ePCguP769etISkqCu7s7AMDd3R2XL19GamqqWGf//v2QSqVwcXFRad8cSkREREREVEYmTJiAbt26wd7eHvfv38f06dOhra2Nr7/+GqampvDz80NgYCAqVaoEqVSKUaNGwd3dHU2bNgUAdOzYES4uLhgwYADmzp2LlJQUTJkyBf7+/kplKF7FwICIiIiINE55uV3pvXv38PXXXyMtLQ0WFhZo0aIFTp48CQsLCwDAokWLoKWlBS8vL+Tl5cHT0xPLly8Xt9fW1sauXbswcuRIuLu7w8jICD4+PggNDVW5LxJBEIQSOzKiMmLgNrqsu0Cl6EnskrLuAhGpSYGMlyWaxEi37C7O7Ub9odb2k378Qq3tqwMzBkRERESkccpLxqA84eRjIiIiIiJixoCIiIiINA8zBoqYMSAiIiIiImYMiIiIiEjzMGOgiIEBEREREWkexgUKOJSIiIiIiIiYMaCPA+9rr1kqNg4o6y5QKXpyemlZd4FKkbYWf8al0sGhRIqYMSAiIiIiImYMiIiIiEjzMGOgiBkDIiIiIiJixoCIiIiINA8TBoqYMSAiIiIiImYMiIiIiEjzcI6BIgYGRERERKRxGBco4lAiIiIiIiJixoCIiIiINA+HEilixoCIiIiIiJgxICIiIiLNw4SBImYMiIiIiIiIGQMiIiIi0jxaWkwZvI4ZAyIiIiIiYsaAiIiIiDQP5xgoYmBARERERBqHtytVxKFERERERETEjAERERERaR4mDBQxY0BERERERMwYEBEREZHm4RwDRcwYEBERERERMwZEREREpHmYMVDEjAERERERETFjQERERESahwkDRQwMiIiIiEjjcCiRIg4lIiIiIiIiZgyIiIiISPMwYaCIGQMiIiIiImLGgIiIiIg0D+cYKGLGgIiIiIiImDEgIiIiIs3DhIEiZgyIiIiIiIgZAyIiIiLSPJxjoIgZAyIiIiIiYsaAiIiIiDQPEwaKGBgQERERkcbhUCJFHEpERERERETMGBARERGR5mHCQBEzBkRERERExIwBEREREWkezjFQxIwBERERERExY0BEREREmocJA0XMGBARERERETMGRERERKR5OMdAEQMDIiIiItI4jAsUcSgRERERERExY0BEREREmodDiRQxY0BERERERMwYEBEREZHmYcZAETMGRERERETEjAERERERaR4mDBR91BmDI0eOQCKRID09vay7QioIDg5Gw4YNy7obRERERBqlTAMDX19fSCQSjBgxQmGdv78/JBIJfH19S79jxVDci9nIyEhIJBJIJBJoa2ujYsWKaNKkCUJDQ5GRkVHyHVUTXsyXvk1RG/F5h3Zo7FoP3n2/wuVLl8q6S1QMthamWDtzIO4dnoPHMQtx+rfv4eZiV2TdJZP7Iuf8UgT0ayNXXlFqiIhZPnjwzzwkH5uLFdP7wchAtxR6T+rCz7dm4ftdNgqvv9S1fIjKPGNQrVo1bNq0CTk5OWJZbm4uoqKiYGdX9D+OpSk/P1/t+5BKpUhOTsa9e/dw4sQJDBs2DOvXr0fDhg1x//59te+fPjx7/9qD+XPDMfwbf2zasgO1a9fByOF+SEtLK+uukQrMTAxwKDIQz1/I0CNgOVy9ZuG7hdvxJDNboe4Xbevjs3oOuJ+arrAuIswHzo426DpyKbxGr0QLt5pYNrVfKRwBqQM/35qF73fZkUjUuxTX7NmzIZFIMHbsWLEsNzcX/v7+MDc3h7GxMby8vPDgwQO57ZKSktClSxcYGhrC0tISQUFBePHihUr7LvPAwM3NDdWqVcP27dvFsu3bt8POzg6urq5iWV5eHkaPHg1LS0vo6+ujRYsWOH36tFxbe/bsQa1atWBgYIC2bdsiMTFRYX/Hjx9Hy5YtYWBggGrVqmH06NF49uyZuN7BwQEzZszAwIEDIZVKMWzYMADAxIkTUatWLRgaGqJGjRqYOnUqnj9/DuDlr/4hISG4ePGiGCVGRkYCANLT0zFkyBBYWFhAKpWiXbt2uHjxolyfJBIJrK2tYWNjA2dnZ/j5+eHEiRPIysrCt99+K9aTyWQIDw9H9erVYWBggAYNGmDr1q3i+sKhU/v27YOrqysMDAzQrl07pKam4q+//oKzszOkUin69euH7Oxslds9ePAgGjVqBENDQzRr1gzXr18vkeOfPXs2rKysYGJiAj8/P+Tm5iq8byRvw7oI9PqyN3r09IJjzZqYMj0E+vr62Ll9W1l3jVQwflAH3Et5guHBv+DM1Tu4cz8NB09ew+17j+Tq2VqYYuHErzDo+0g8f1Egt652dSt4Nq+Lb0KjcPrKHZy4cAuBc7bgK0832FiYlubhUAnh51uz8P2mV50+fRqrVq1C/fr15crHjRuHP//8E1u2bMHRo0dx//599OrVS1xfUFCALl26ID8/HydOnMC6desQGRmJadOmqbT/Mg8MAGDw4MGIiIgQX69duxaDBg2Sq/Ptt99i27ZtWLduHc6dO4eaNWvC09MTjx8/BgDcvXsXvXr1Qrdu3XDhwgUMGTIE3333nVwbCQkJ6NSpE7y8vHDp0iVs3rwZx48fR0BAgFy9+fPno0GDBjh//jymTp0KADAxMUFkZCTi4uLwww8/YPXq1Vi0aBEAoE+fPhg/fjzq1q2L5ORkJCcno0+fPgCAr776SrwwP3v2LNzc3NC+fXux329iaWkJb29v/PHHHygoeHkhEB4ejvXr12PlypW4evUqxo0bh/79++Po0aNy2wYHB2Pp0qU4ceIE7t69i969e2Px4sWIiorC7t278ffff+PHH38U6yvb7uTJk7FgwQKcOXMGFSpUwODBg9/7+H/77TcEBwcjLCwMZ86cgY2NDZYvX/7Wc6PpnufnIz7uKpq6NxPLtLS00LRpM1y6eL4Me0aq6tK6Hs7FJWHj3MG4czAcMb9OxKCezeTqSCQSrJk5EIvWHUT8rRSFNprUr44nmdk4F5cklh06dR0ymYDGn9ir/RioZPHzrVn4fpet8jaUKCsrC97e3li9ejUqVqwolmdkZGDNmjVYuHAh2rVrh08//RQRERE4ceIETp48CQD4+++/ERcXh19++QUNGzbE559/jhkzZmDZsmUqjX4pF4FB//79cfz4cdy5cwd37txBdHQ0+vfvL65/9uwZVqxYgXnz5uHzzz+Hi4sLVq9eDQMDA6xZswYAsGLFCjg6OmLBggWoXbs2vL29FeYnhIeHw9vbG2PHjoWTkxOaNWuGJUuWYP369XK/Urdr1w7jx4+Ho6MjHB0dAQBTpkxBs2bN4ODggG7dumHChAn47bffAAAGBgYwNjZGhQoVYG1tDWtraxgYGOD48eOIjY3Fli1b0KhRIzg5OWH+/PkwMzOT+0X+TerUqYOnT58iLS0NeXl5CAsLw9q1a+Hp6YkaNWrA19cX/fv3x6pVq+S2mzlzJpo3bw5XV1f4+fnh6NGjWLFiBVxdXdGyZUt8+eWXOHz4MACo1O6sWbPQunVruLi44LvvvsOJEyeQm5v7Xse/ePFi+Pn5wc/PD7Vr18bMmTPh4uLy1vOSl5eHzMxMuSUvL++d5/Nj8ST9CQoKCmBubi5Xbm5ujkePHr1hKyqPqlepjKFftcTNpIf44ptlWL3lOBZ8+yW8uzUR64wf1AEvCmRY9uuRItuwMpfi4eOncmUFBTI8zsyGVWWpOrtPasDPt2bh+/1xU/V6xd/fH126dIGHh4dc+dmzZ/H8+XO58jp16sDOzg4xMTEAgJiYGNSrVw9WVlZiHU9PT2RmZuLq1atK97lc3K7UwsICXbp0QWRkJARBQJcuXVC5cmVxfUJCAp4/f47mzZuLZTo6Ovjss88QHx8PAIiPj0eTJk3k2nV3d5d7ffHiRVy6dAkbN24UywRBgEwmw+3bt+Hs7AwAaNSokUIfN2/ejCVLliAhIQFZWVl48eIFpNK3/6N78eJFZGVlKXzgc3JykJCQ8NZtC/sGvIxob968iezsbHTo0EGuTn5+vtyQKwBy6ScrKytx+NOrZbGxsQBQ7HZtbGwAAKmpqW+cC6LM8cfHxytMPnd3dxcDl6KEh4cjJCRErmzy1OmYMi34jdsQlUdaWhKci0vC9KV/AgAuXr+HujVtMPTLFtj45ym4OleD/9dt0KzfnDLuKRHRx0fd84OLul6ZPn06goODFepu2rQJ586dUxgmDwApKSnQ1dWFmZmZXLmVlRVSUlLEOq8GBYXrC9cpq1wEBsDL4USFQ3qWLVumln1kZWVh+PDhGD16tMK6Vy9ujYyM5NbFxMTA29sbISEh8PT0hKmpKTZt2oQFCxa8c382NjY4cuSIwrrX39yixMfHQyqVwtzcHLdu3QIA7N69G1WqVJGrp6enJ/daR0dH/H+JRCL3urBMJpOJfSxuuwDEdoryvsf/JpMmTUJgYKBcmaCt94baH5+KZhWhra2tMDEtLS1NLqCm8i/lUabC8KBrt1PQo31DAEBzV0dYVjLGv3tCxfUVKmhjdmAvBHi3RZ0u0/EgLRMWlUzk2tDW1kIlqSEePMpU+zFQyeLnW7Pw/f64FXW98vq1FfByOPyYMWOwf/9+6Ovrl1b3ilRuAoNOnTohPz8fEokEnp6ecuscHR2hq6uL6Oho2Nu/HDP7/PlznD59Wpyx7ezsjD/++ENuu8JxV4Xc3NwQFxeHmjVrqtS3EydOwN7eHpMnTxbL7ty5I1dHV1dXnAvw6v5SUlJQoUIFODg4qLTP1NRUREVFoUePHtDS0oKLiwv09PSQlJSE1q1bq9TW25RUu8U9fmdnZ5w6dQoDBw4Uy15/316np6en8MHKVW3S/QdNR1cXzi51cepkDNq1f5lWlMlkOHUqBn2/7v+Orak8iblwC7XsLeXKnOwskZT8cg5O1O7TOHTqutz6P5f7I2p3LNb//vJzcurSbVSUGsLVuRrOx98FALRpXAtaWhKcviL/PUXlHz/fmoXvd9nSUnPKoKjrlaKcPXsWqampcHNzE8sKCgpw7NgxLF26FPv27UN+fj7S09Plflh98OABrK2tAQDW1tbiaJBX1xeuU1a5CQy0tbXFYUHa2tpy64yMjDBy5EgEBQWhUqVKsLOzw9y5c5GdnQ0/Pz8AwIgRI7BgwQIEBQVhyJAhOHv2rHhnnEITJ05E06ZNERAQgCFDhsDIyAhxcXHYv38/li5d+sa+OTk5ISkpCZs2bULjxo2xe/du7NixQ66Og4MDbt++jQsXLqBq1aowMTGBh4cH3N3d0aNHD8ydOxe1atXC/fv3sXv3bvTs2VMcsiQIAlJSUiAIAtLT0xETE4OwsDCYmppi9uzZAF5Ofp4wYQLGjRsHmUyGFi1aICMjA9HR0ZBKpfDx8SnWeS+pdot7/GPGjIGvry8aNWqE5s2bY+PGjbh69arc0CdSNMBnEKZ+PxF1636CT+rVxy8b1iEnJwc9evZ698ZUbvz4yyEcjhyPoMEdsW3/OTSu64DBXs0RMONXAMDjjGd4nPFMbpvnLwrw4FEmbtxJBQBcv/0A+6KvYtnUfhg9axN0Kmhj0Xe9sWXfOSQ//HCehUL/w8+3ZuH7Te3bt8fly5flygYNGoQ6depg4sSJqFatGnR0dHDw4EF4eXkBAK5fv46kpCRx2Ly7uztmzZqF1NRUWFq+/MFp//79kEql75y7+apyExgAeOuY/dmzZ0Mmk2HAgAF4+vQpGjVqhH379omztu3s7LBt2zaMGzcOP/74Iz777DOEhYWJd84BXo6RP3r0KCZPnoyWLVtCEAQ4OjqKd9B5ky+++ALjxo1DQEAA8vLy0KVLF0ydOlVujJiXlxe2b9+Otm3bIj09HREREfD19cWePXswefJkDBo0CA8fPoS1tTVatWolNw4sMzMTNjY2kEgkkEqlqF27Nnx8fDBmzBi5czJjxgxYWFggPDwct27dgpmZGdzc3PD999+reqrllES7xT3+Pn36ICEhAd9++y1yc3Ph5eWFkSNHYt++fe91TB+7Tp93xpPHj7F86RI8evQQtes4Y/mqn2HO1PMH5WxcEvqMX43QUV/g+2GfI/G/NATN24ZNf51RqZ1B36/Dou96Y8+qUZDJBOw8eAHj525RU69J3fj51ix8v8tOeXkGmYmJCT755BO5MiMjI5ibm4vlfn5+CAwMRKVKlSCVSjFq1Ci4u7ujadOmAICOHTvCxcUFAwYMwNy5c5GSkoIpU6bA399fqaxFIYlQOMOV6AOmSUOJCKjYOODdleij8eT0mzO6RPRh0y/Dn6g9l59Sa/v7vmny7kpv0KZNGzRs2BCLFy8G8PIBZ+PHj8evv/6KvLw8eHp6Yvny5XLDhO7cuYORI0fiyJEjMDIygo+PD2bPno0KFZQ/yQwM6KPAwECzMDDQLAwMiD5eDAzKl3I1lIiIiIiIqDRolZOhROVJuXjAGRERERERlS1mDIiIiIhI40jKy+zjcoQZAyIiIiIiYsaAiIiIiDQPEwaKmDEgIiIiIiJmDIiIiIhI80jAlMHrGBgQERERkcbh7UoVcSgRERERERExY0BEREREmoe3K1XEjAERERERETFjQERERESahwkDRcwYEBERERERMwZEREREpHm0mDJQwIwBERERERExY0BEREREmocJA0UMDIiIiIhI4/B2pYqUCgwuXbqkdIP169cvdmeIiIiIiKhsKBUYNGzYEBKJBIIgFLm+cJ1EIkFBQUGJdpCIiIiIqKQxYaBIqcDg9u3b6u4HERERERGVIaUCA3t7e3X3g4iIiIio1PB2pYqKdbvSDRs2oHnz5rC1tcWdO3cAAIsXL8bvv/9eop0jIiIiIqLSoXJgsGLFCgQGBqJz585IT08X5xSYmZlh8eLFJd0/IiIiIqISJ1Hz8iFSOTD48ccfsXr1akyePBna2tpieaNGjXD58uUS7RwREREREZUOlZ9jcPv2bbi6uiqU6+np4dmzZyXSKSIiIiIideJzDBSpnDGoXr06Lly4oFC+d+9eODs7l0SfiIiIiIjUSkui3uVDpHLGIDAwEP7+/sjNzYUgCIiNjcWvv/6K8PBw/Pzzz+roIxERERERqZnKgcGQIUNgYGCAKVOmIDs7G/369YOtrS1++OEH9O3bVx19JCIiIiIqURxKpEjlwAAAvL294e3tjezsbGRlZcHS0rKk+0VERERERKWoWIEBAKSmpuL69esAXkZcFhYWJdYpIiIiIiJ1YsJAkcqTj58+fYoBAwbA1tYWrVu3RuvWrWFra4v+/fsjIyNDHX0kIiIiIiI1UzkwGDJkCE6dOoXdu3cjPT0d6enp2LVrF86cOYPhw4ero49ERERERCVKIpGodfkQqTyUaNeuXdi3bx9atGghlnl6emL16tXo1KlTiXaOiIiIiIhKh8qBgbm5OUxNTRXKTU1NUbFixRLpFBERERGROn2ozxpQJ5WHEk2ZMgWBgYFISUkRy1JSUhAUFISpU6eWaOeIiIiIiNSBQ4kUKZUxcHV1lTvAGzduwM7ODnZ2dgCApKQk6Onp4eHDh5xnQERERET0AVIqMOjRo4eau0FEREREVHo+zN/01UupwGD69Onq7gcREREREZWhYj/gjIiIiIjoQ6X1gc4DUCeVA4OCggIsWrQIv/32G5KSkpCfny+3/vHjxyXWOSIiIiIiKh0q35UoJCQECxcuRJ8+fZCRkYHAwED06tULWlpaCA4OVkMXiYiIiIhKlkSi3uVDpHJgsHHjRqxevRrjx49HhQoV8PXXX+Pnn3/GtGnTcPLkSXX0kYiIiIiI1EzlwCAlJQX16tUDABgbGyMjIwMA0LVrV+zevbtke0dEREREpAZ8joEilQODqlWrIjk5GQDg6OiIv//+GwBw+vRp6OnplWzviIiIiIioVKgcGPTs2RMHDx4EAIwaNQpTp06Fk5MTBg4ciMGDB5d4B4mIiIiIShrnGChS+a5Es2fPFv+/T58+sLe3x4kTJ+Dk5IRu3bqVaOeIiIiIiNSBtytVpHLG4HVNmzZFYGAgmjRpgrCwsJLoExERERERlbL3DgwKJScnY+rUqSXVHBERERGR2nAokaISCwyIiIiIiOjDpfIcAyIiIiKiD92HektRdWLGgIiIiIiIlM8YBAYGvnX9w4cP37szRETKeHJ6aVl3gUpRRfe3//tDH5dH0QvKugtUqsruV3v+Oq5I6cDg/Pnz76zTqlWr9+oMERERERGVDaUDg8OHD6uzH0REREREpYZzDBRx8jERERERaRwtxgUKOLyKiIiIiIiYMSAiIiIizcOMgSJmDIiIiIiIiBkDIiIiItI8nHysqFgZg3/++Qf9+/eHu7s7/vvvPwDAhg0bcPz48RLtHBERERERlQ6VA4Nt27bB09MTBgYGOH/+PPLy8gAAGRkZCAsLK/EOEhERERGVNC2JepcPkcqBwcyZM7Fy5UqsXr0aOjo6Ynnz5s1x7ty5Eu0cEREREdHHbMWKFahfvz6kUimkUinc3d3x119/ietzc3Ph7+8Pc3NzGBsbw8vLCw8ePJBrIykpCV26dIGhoSEsLS0RFBSEFy9eqNwXlQOD69evF/mEY1NTU6Snp6vcASIiIiKi0iaRqHdRVtWqVTF79mycPXsWZ86cQbt27dC9e3dcvXoVADBu3Dj8+eef2LJlC44ePYr79++jV69e4vYFBQXo0qUL8vPzceLECaxbtw6RkZGYNm2ayudE5cnH1tbWuHnzJhwcHOTKjx8/jho1aqjcASIiIiKi0qZVTiYfd+vWTe71rFmzsGLFCpw8eRJVq1bFmjVrEBUVhXbt2gEAIiIi4OzsjJMnT6Jp06b4+++/ERcXhwMHDsDKygoNGzbEjBkzMHHiRAQHB0NXV1fpvqicMRg6dCjGjBmDU6dOQSKR4P79+9i4cSMmTJiAkSNHqtocEREREdFHJy8vD5mZmXJL4dzcNykoKMCmTZvw7NkzuLu74+zZs3j+/Dk8PDzEOnXq1IGdnR1iYmIAADExMahXrx6srKzEOp6ensjMzBSzDspSOWPw3XffQSaToX379sjOzkarVq2gp6eHCRMmYNSoUao2R0RERERU6tT9MK/w8HCEhITIlU2fPh3BwcEKdS9fvgx3d3fk5ubC2NgYO3bsgIuLCy5cuABdXV2YmZnJ1beyskJKSgoAICUlRS4oKFxfuE4VKgcGEokEkydPRlBQEG7evImsrCy4uLjA2NhY1aaIiIiIiD5KkyZNQmBgoFyZnp5ekXVr166NCxcuICMjA1u3boWPjw+OHj1aGt2UU+wHnOnq6sLFxaUk+0JEREREVCrUPcVAT0/vjYHA63R1dVGzZk0AwKefforTp0/jhx9+QJ8+fZCfn4/09HS5rMGDBw9gbW0N4OX839jYWLn2Cu9aVFhHWSoHBm3btn3rk+IOHTqkapNERERERPT/ZDIZ8vLy8Omnn0JHRwcHDx6El5cXgJd3CE1KSoK7uzsAwN3dHbNmzUJqaiosLS0BAPv374dUKlX5R3yVA4OGDRvKvX7+/DkuXLiAK1euwMfHR9XmiIiIiIhKXXm5K9GkSZPw+eefw87ODk+fPkVUVBSOHDmCffv2wdTUFH5+fggMDESlSpUglUoxatQouLu7o2nTpgCAjh07wsXFBQMGDMDcuXORkpKCKVOmwN/fX+mMRSGVA4NFixYVWR4cHIysrCxVmyMiIiIi0lipqakYOHAgkpOTYWpqivr162Pfvn3o0KEDgJfX3lpaWvDy8kJeXh48PT2xfPlycXttbW3s2rULI0eOhLu7O4yMjODj44PQ0FCV+yIRBEEoiYO6efMmPvvsMzx+/LgkmiNSSa7qD/cjog9ERffAd1eij8aj6AVl3QUqRUa6Zfer/bR9N9Tafqink1rbV4diTz5+XUxMDPT19UuqOSIiIiIitdEqHyOJyhWVA4NXH8EMAIIgIDk5GWfOnMHUqVNLrGNERERERFR6VA4MTE1N5V5raWmhdu3aCA0NRceOHUusY0RERERE6lJeJh+XJyoFBgUFBRg0aBDq1auHihUrqqtPRERERERUylR6GrS2tjY6duyI9PR0NXWHiIiIiEj9JBL1Lh8ilQIDAPjkk09w69YtdfSFiIiIiIjKiMqBwcyZMzFhwgTs2rULycnJyMzMlFuIiIiIiMo7LYl6lw+R0nMMQkNDMX78eHTu3BkA8MUXX0DySp5EEARIJBIUFBSUfC+JiIiIiEitlA4MQkJCMGLECBw+fFid/SEiIiIiUjsJPtCf9dVI6cCg8AHJrVu3VltniIiIiIhKw4c63EedVJpjIPlQp1gTEREREdFbqfQcg1q1ar0zOHj8+PF7dYiIiIiISN2YMVCkUmAQEhKi8ORjIiIiIiL68KkUGPTt2xeWlpbq6gsRERERUangEHlFSs8x4MkjIiIiIvp4qXxXIiIiIiKiDx3nGChSOjCQyWTq7AcREREREZUhleYYEBERERF9DDhKXhEDAyIiIiLSOFqMDBSo9IAzIiIiIiL6ODFjQEREREQah5OPFTFjQEREREREzBgQERERkebhFANFzBgQEREREREzBkRERESkebTAlMHrmDEgIiIiIiJmDIiIiIhI83COgSIGBkRERESkcXi7UkUcSkRERERERMwYEBEREZHm0eJYIgXMGFC5k5iYCIlEggsXLpR1V4iIiIg0BgODN/D19YVEIsHs2bPlynfu3AlJCUeYEolEXIyMjODk5ARfX1+cPXu2RPejTryYLz1rVq9Cv95ecG/sijYt3TF21DdIvH2rrLtFarYpaiM+79AOjV3rwbvvV7h86VJZd4mKwdbCFGtDvXFv/ww8/mcOTv8aBDfnqgCACtpamBnQFad/DcKjY+G4tWc6fg7+GjaVpXJt1LSzwG/zB+Pu/lA8OByGg6sD0OrTmmVxOKSis2dOY0zACHRs1xJu9erg8MEDcusFQcCKpUvQsW1LuDdqgBFDBiHpTmLZdFYDSCTqXT5EDAzeQl9fH3PmzMGTJ0/Uvq+IiAgkJyfj6tWrWLZsGbKystCkSROsX79e7fumD8uZ07Ho87U3Nvz6G1atjsCLFy8wYqgfsrOzy7prpCZ7/9qD+XPDMfwbf2zasgO1a9fByOF+SEtLK+uukQrMTAxw6OdReP6iAD3GrIZrnzn4bvHveJKZAwAw1NdFwzpVMHvN33AfsBB9v41ELXtLbFngJ9fO9oV+qKCthc9HrkCzgQtx6cZ9bF/kBytzk7I4LFJBbk4OatWqg+8mTyty/bq1P+PXqA34fmow1m38DQYGBvAfPgR5eXml3FPSVAwM3sLDwwPW1tYIDw9/Y51t27ahbt260NPTg4ODAxYsWCC33sHBAWFhYRg8eDBMTExgZ2eHn376SaEdMzMzWFtbw8HBAR07dsTWrVvh7e2NgIAAucDk+PHjaNmyJQwMDFCtWjWMHj0az549k9vfzJkzMXDgQBgbG8Pe3h5//PEHHj58iO7du8PY2Bj169fHmTNn5PavTLtvO47q1asDAFxdXSGRSNCmTRtx3c8//wxnZ2fo6+ujTp06WL58udy+Y2Nj4erqCn19fTRq1Ajnz59/4/kmYMVPa9C9Zy/UrOmE2nXqIHTWbCQn30d83NWy7hqpyYZ1Eej1ZW/06OkFx5o1MWV6CPT19bFz+7ay7hqpYLxPO9x7kI7hoZtwJi4Jd+4/xsFT/+L2fy8DvMxnuegasArbDlzEjTsPEXvlDsbN245PXaqhmpUZAMDc1AhO9pZYsO4grtxMRsLdR5i6dDeMDPTg4mhdhkdHymjeshX8R49Fu/YdFNYJgoCoX9ZjyLARaNOuPWrVro3QsDl4+DAVRw4dKKI1el9aEolalw8RA4O30NbWRlhYGH788Ufcu3dPYf3Zs2fRu3dv9O3bF5cvX0ZwcDCmTp2KyMhIuXoLFiwQL3i/+eYbjBw5EtevX3/n/seNG4enT59i//79AICEhAR06tQJXl5euHTpEjZv3ozjx48jICBAbrtFixahefPmOH/+PLp06YIBAwZg4MCB6N+/P86dOwdHR0cMHDgQgiCo1O7bjiM2NhYAcODAASQnJ2P79u0AgI0bN2LatGmYNWsW4uPjERYWhqlTp2LdunUAgKysLHTt2hUuLi44e/YsgoODMWHChHeeG/qfrKdPAQBSU9My7gmpw/P8fMTHXUVT92ZimZaWFpo2bYZLFxlEf0i6tKyLc/F3sTF8IO7sC0HML4EY1KPpW7eRGutDJpMhPetlViEt4xmuJz5Avy6NYaivC21tLQzp5Y4HaU9xPl7x3yn6cPx37x4ePXqIJk3/91k3MTHBJ/Xq49LFC2XXMdIoDAzeoWfPnmjYsCGmT5+usG7hwoVo3749pk6dilq1asHX1xcBAQGYN2+eXL3OnTvjm2++Qc2aNTFx4kRUrlwZhw8ffue+69SpA+Dl+H0ACA8Ph7e3N8aOHQsnJyc0a9YMS5Yswfr165Gbmyu3v+HDh8PJyQnTpk1DZmYmGjdujK+++gq1atXCxIkTER8fjwcPHqjc7puOw8LCAgBgbm4Oa2trVKpUCQAwffp0LFiwAL169UL16tXRq1cvjBs3DqtWrQIAREVFQSaTYc2aNahbty66du2KoKCgt56XvLw8ZGZmyi2ammaVyWSYOycMDV3d4ORUq6y7Q2rwJP0JCgoKYG5uLldubm6OR48elVGvqDiqVzHHUK9muHn3Eb4Y9RNWbzuBBeN7wrtLoyLr6+lWwMyArvjt7/N4+ux/33Fd/FeiQa0qeHg0DOnH52B0v9boPvonpD/NKa1DITVIS3sIAKik8FmvzM+6mnCOgSIGBkqYM2cO1q1bh/j4eLny+Ph4NG/eXK6sefPmuHHjBgoKCsSy+vXri/8vkUhgbW2N1NTUd+638Bf9wsnOFy9eRGRkJIyNjcXF09MTMpkMt2/fLnJ/VlZWAIB69eoplBX2oTjtKnMcz549Q0JCAvz8/OTanjlzJhISEgC8PIf169eHvr6+uJ27u/tbz0t4eDhMTU3llnlz3jzc62MWNjMECTduYO78RWXdFSJ6By0tCS5cv4fpy/fg4r//Ye2Ok4jYeRJDezVTqFtBWwu/hA+ERCLB6Nlb5dYt+tYLD59kwWPoUrT0XYw/jl7BtoV+sOYcAyKVaKl5+RDxOQZKaNWqFTw9PTFp0iT4+vqqvL2Ojo7ca4lEAplM9s7tCgORwvH7WVlZGD58OEaPHq1Q187Orsj9FQYVRZUV9qE47SpzHFlZWQCA1atXo0mTJnLrtLW137jdu0yaNAmBgYFyZYK2XrHb+1CFzQzFsaNHsHbdL7Cy5tjij1VFs4rQ1tZWmGiclpaGypUrl1GvqDhSHmUi/tYDubJriQ/Qo119ubIK2lrYGO4DO+tK+Pyb5XLZgjaNndC5hQts2k8Wy8fO2Yb2n9VC/66NMX/dIfUfCKmFufnLzPvjtDRYWFiK5Wlpj1C7jnNZdYs0DAMDJc2ePRsNGzZE7dq1xTJnZ2dER0fL1YuOjkatWrXe68K30OLFiyGVSuHh4QEAcHNzQ1xcHGrWLNnb0pVEu7q6ugAglymxsrKCra0tbt26BW9v7yK3c3Z2xoYNG5CbmytmDU6ePPnWfenp6UFPTz4QyH1R7K5/cARBQPisGTh0cD/WRG5A1arVyrpLpEY6urpwdqmLUydj0K79y+8CmUyGU6di0Pfr/mXcO1JFzMVE1LK3lCtzsrNAUspj8XVhUOBoVxmdRizH4wz5u40Z6r/8gUYmE+TKZYJQ4rfSptJVpWpVVK5sgdhTMWIgkJWVhSuXL+GrPl+Xce8+TvzMKPpQMx2lrl69evD29saSJUvEsvHjx+PgwYOYMWMG/v33X6xbtw5Lly4t1uTZ9PR0pKSk4M6dO9i/fz++/PJLREVFYcWKFTAzMwMATJw4ESdOnEBAQAAuXLiAGzdu4Pfff1eYJKyqkmjX0tISBgYG2Lt3Lx48eICMjAwAQEhICMLDw7FkyRL8+++/uHz5MiIiIrBw4UIAQL9+/SCRSDB06FDExcVhz549mD9//nsdz8cubEYI9uz6A7PnLoCRoREePXyIRw8fys0HoY/LAJ9B2L71N/yxcwduJSRgZmgwcnJy0KNnr7LuGqngx1+P4rN69gjybY8aVSujj6cbBvdsilVbXv7AVEFbC1FzfOHmUhWDpm6EtrYWrMxNYGVuAp0KL39sOnXpDp48zcbPwf1Qz8kWNe0sEDa6GxxsK2FvdPzbdk/lQHb2M1y/Fo/r116+V//9dw/Xr8UjOfk+JBIJ+vUfiJ9XrcTRw4dw49/rmPb9RFhYWKJNO48y7jlpCmYMVBAaGorNmzeLr93c3PDbb79h2rRpmDFjBmxsbBAaGlqs4UaDBg0C8PLZCVWqVEGLFi0QGxsLNzc3sU79+vVx9OhRTJ48GS1btoQgCHB0dESfPn3e67hKot0KFSpgyZIlCA0NxbRp09CyZUscOXIEQ4YMgaGhIebNm4egoCAYGRmhXr16GDt2LADA2NgYf/75J0aMGAFXV1e4uLhgzpw58PLyeq9j+pj9tvlXAICf7wC58tCZ4ejOC8WPUqfPO+PJ48dYvnQJHj16iNp1nLF81c8w51CiD8rZuLvoExSBUP8u+H5IRyTef4yghb9j095zAABbS1N0a/0JACA2Sv4Hpo7Dl+GfcwlIy3iG7qN/QvDIzvhr+UjoVNBG/K0UfDVhLS7fuF/qx0Sqibt6BcMG+4ivF857+RDVbl/0QMis2fAZPAQ5OTmYGTINT59moqHrp1i6crVClpxKBvMFiiRC4QxXog+YJg0lItI0Fd0D312JPhqPohe8uxJ9NIx0y+7yfP2Zu2ptf2CjD2+oLzMGRERERKRxPtSHkKkT5xgQEREREREzBkRERESkeZgvUMTAgIiIiIg0DkcSKeJQIiIiIiIiYsaAiIiIiDQPH3CmiBkDIiIiIiJixoCIiIiINA9/HVfEc0JERERERMwYEBEREZHm4RwDRcwYEBERERERMwZEREREpHmYL1DEjAERERERETFjQERERESah3MMFDEwICIiIiKNw2EzinhOiIiIiIiIGQMiIiIi0jwcSqSIGQMiIiIiImLGgIiIiIg0D/MFipgxICIiIiIqI+Hh4WjcuDFMTExgaWmJHj164Pr163J1cnNz4e/vD3NzcxgbG8PLywsPHjyQq5OUlIQuXbrA0NAQlpaWCAoKwosXL1TqCwMDIiIiItI4Eol6F2UdPXoU/v7+OHnyJPbv34/nz5+jY8eOePbsmVhn3Lhx+PPPP7FlyxYcPXoU9+/fR69evcT1BQUF6NKlC/Lz83HixAmsW7cOkZGRmDZtmmrnRBAEQaUtiMqhXNUCYiL6gFR0DyzrLlApehS9oKy7QKXISLfsBvT8fjlFre13r2ddrO0ePnwIS0tLHD16FK1atUJGRgYsLCwQFRWFL7/8EgBw7do1ODs7IyYmBk2bNsVff/2Frl274v79+7CysgIArFy5EhMnTsTDhw+hq6ur1L6ZMSAiIiIijaMFiVqXvLw8ZGZmyi15eXnv7FdGRgYAoFKlSgCAs2fP4vnz5/Dw8BDr1KlTB3Z2doiJiQEAxMTEoF69emJQAACenp7IzMzE1atXVTgnREREREQaRt1DicLDw2Fqaiq3hIeHv7VPMpkMY8eORfPmzfHJJ58AAFJSUqCrqwszMzO5ulZWVkhJSRHrvBoUFK4vXKcs3pWIiIiIiKiETZo0CYGB8kMh9fT03rqNv78/rly5guPHj6uza2/EwICIiIiINI5EzTcs1dPTe2cg8KqAgADs2rULx44dQ9WqVcVya2tr5OfnIz09XS5r8ODBA1hbW4t1YmNj5dorvGtRYR1lcCgREREREVEZEQQBAQEB2LFjBw4dOoTq1avLrf/000+ho6ODgwcPimXXr19HUlIS3N3dAQDu7u64fPkyUlNTxTr79++HVCqFi4uL0n1hxoCIiIiINI4qtxRVJ39/f0RFReH333+HiYmJOCfA1NQUBgYGMDU1hZ+fHwIDA1GpUiVIpVKMGjUK7u7uaNq0KQCgY8eOcHFxwYABAzB37lykpKRgypQp8Pf3VylrwcCAiIiIiKiMrFixAgDQpk0bufKIiAj4+voCABYtWgQtLS14eXkhLy8Pnp6eWL58uVhXW1sbu3btwsiRI+Hu7g4jIyP4+PggNDRUpb7wOQb0UeBzDIg+XnyOgWbhcww0S1k+x2Dv1Ydqbb9TXQu1tq8OnGNAREREREQcSkREREREmqe8zDEoTxgYEBEREZHGYWCgiEOJiIiIiIiIGQMiIiIi0jzqfsDZh4gZAyIiIiIiYsaAiIiIiDSPFhMGCpgxICIiIiIiZgyIiIiISPNwjoEiZgyIiIiIiIgZAyIiIiLSPHyOgSIGBkRERESkcTiUSBGHEhERERERETMGRERERKR5eLtSRcwYEBERERERMwZEREREpHk4x0ARMwZERERERMSMARERERFpHt6uVBEzBkRERERExIwBEREREWkeJgwUMTAgIiIiIo2jxbFECjiUiIiIiIiImDGgj8PzAllZd4FKkY42f9PQJGknFpR1F6gUmbeZUtZdoFKUEz2rzPbNfIEi/utKRERERETMGBARERGRBmLKQAEzBkRERERExIwBEREREWkeCVMGCpgxICIiIiIiZgyIiIiISPPwMQaKGBgQERERkcZhXKCIQ4mIiIiIiIgZAyIiIiLSQEwZKGDGgIiIiIiImDEgIiIiIs3D25UqYsaAiIiIiIiYMSAiIiIizcPblSpixoCIiIiIiJgxICIiIiLNw4SBIgYGRERERKR5GBko4FAiIiIiIiJixoCIiIiINA9vV6qIGQMiIiIiImLGgIiIiIg0D29XqogZAyIiIiIiYsaAiIiIiDQPEwaKmDEgIiIiIiJmDIiIiIhIAzFloICBARERERFpHN6uVBGHEhERERERETMGRERERKR5eLtSRcwYEBERERERMwZEREREpHmYMFDEjAERERERETFjQEREREQaiCkDBcwYEBERERERMwZEREREpHn4HANFzBgQEREREREzBkRERESkefgcA0UMDIiIiIhI4zAuUMShRERERERExIwBEREREWkgpgwUMGNAREREREQMDIiIiIhI80jU/J8qjh07hm7dusHW1hYSiQQ7d+6UWy8IAqZNmwYbGxsYGBjAw8MDN27ckKvz+PFjeHt7QyqVwszMDH5+fsjKylKpHwwMiIiIiIjK0LNnz9CgQQMsW7asyPVz587FkiVLsHLlSpw6dQpGRkbw9PREbm6uWMfb2xtXr17F/v37sWvXLhw7dgzDhg1TqR8SQRCE9zoSonLgaZ6srLtApUhHm79paBIZ/5nSKOZtppR1F6gU5UTPKrN9X0/JVmv7ta0Ni7WdRCLBjh070KNHDwAvswW2trYYP348JkyYAADIyMiAlZUVIiMj0bdvX8THx8PFxQWnT59Go0aNAAB79+5F586dce/ePdja2iq1b/7rSkRERERUwvLy8pCZmSm35OXlqdzO7du3kZKSAg8PD7HM1NQUTZo0QUxMDAAgJiYGZmZmYlAAAB4eHtDS0sKpU6eU3hcDAyIiIiLSOBI1L+Hh4TA1NZVbwsPDVe5nSkoKAMDKykqu3MrKSlyXkpICS0tLufUVKlRApUqVxDrK4O1KiYiIiEjzqPl2pZMmTUJgYKBcmZ6ennp3+p4YGBARERERlTA9Pb0SCQSsra0BAA8ePICNjY1Y/uDBAzRs2FCsk5qaKrfdixcv8PjxY3F7ZXAoERERERFpnPJ0u9K3qV69OqytrXHw4EGxLDMzE6dOnYK7uzsAwN3dHenp6Th79qxY59ChQ5DJZGjSpInS+2LGgIiIiIioDGVlZeHmzZvi69u3b+PChQuoVKkS7OzsMHbsWMycORNOTk6oXr06pk6dCltbW/HORc7OzujUqROGDh2KlStX4vnz5wgICEDfvn2VviMRwMCAiIiIiDSQRM1zDFRx5swZtG3bVnxdODfBx8cHkZGR+Pbbb/Hs2TMMGzYM6enpaNGiBfbu3Qt9fX1xm40bNyIgIADt27eHlpYWvLy8sGTJEpX6wecY0EeBzzHQLHyOgWbhcww0C59joFnK8jkGN1Nz1Np+TUsDtbavDswYEBEREZHGKUcJg3KDP7u9BwcHByxevFh8LZFIsHPnzjfWT0xMhEQiwYULF9Tetw/VkSNHIJFIkJ6eXtZdISIiItIo5S4w6NatGzp16lTkun/++QcSiQSXLl1Sy77btGkDiUSC2bNnK6zr0qULJBIJgoODxbLTp09j2LBhxd5fYaBQuJiYmKBu3brw9/fHjRs3it1uaePFvHqdO3Ma4wJGolP7VmhU3xlHDh2QWx88ZRIa1XeWW0aNGFpGvSV12RS1EZ93aIfGrvXg3fcrXFbT9yCVvdQHDzB5YhDaNG+Cpp82wFc9u+Hqlctl3S0qBtvKUqyd9hXu7ZmMx4eCcXr9KLjVqSKu797aBX8u8sW9PZOREz0L9Z1s3tIasHO+D3KiZ6FbS2d1d10zqPsJZx+gchcY+Pn5Yf/+/bh3757CuoiICDRq1Aj169dXqc38/Hyl61arVg2RkZFyZf/99x8OHjwod+9YALCwsIChoaFKfSnKgQMHkJycjIsXLyIsLAzx8fFo0KCB3G2pSHPl5OTAqXZtTPx+6hvrNGveEnsPHROXWXPnl2IPSd32/rUH8+eGY/g3/ti0ZQdq166DkcP9kJaWVtZdoxKWmZEB3wFfo4JOBSxduRrbft+NwAkTIZWalnXXSEVmJvo4tHIYnr8oQI/x6+Dq/QO+W/oXnjz937h2Q31dnLh0B1NW7Htne6P6NIMAzrcpSR/K7UpLU7kLDLp27QoLCwuFi/OsrCxs2bIFfn5+OH78OFq2bAkDAwNUq1YNo0ePxrNnz8S6Dg4OmDFjBgYOHAipVIphw4ahXbt2CAgIkGvz4cOH0NXVlbsA79q1Kx49eoTo6GixbN26dejYsaPCo6ZfH0r0utjYWLi6ukJfXx+NGjXC+fPni6xnbm4Oa2tr1KhRA927d8eBAwfQpEkT+Pn5oaCgQKz3+++/w83NDfr6+qhRowZCQkLw4sULcb1EIsGqVavQtWtXGBoawtnZGTExMbh58ybatGkDIyMjNGvWDAkJCXL7V6bdn3/+GT179oShoSGcnJzwxx9/AHiZ9SicRV+xYkVIJBL4+voCAGQyGcLDw1G9enUYGBigQYMG2Lp1q9y+9+zZg1q1asHAwABt27ZFYmLiG8+npmreshW+GTUWbdt3eGMdHV1dVK5sIS68iPi4bFgXgV5f9kaPnl5wrFkTU6aHQF9fHzu3byvrrlEJi1j7M6ytbRAyMxyf1KuPKlWrwr15C1SzsyvrrpGKxnu3wr3UDAwP244z8fdwJ/kJDsbexO3/Hot1ft13AeERh3Ho9M23tATUd7LBmL4tMCJsu7q7TRqu3AUGFSpUwMCBAxEZGYlXb5i0ZcsWFBQUwN3dHZ06dYKXlxcuXbqEzZs34/jx4woX/fPnz0eDBg1w/vx5TJ06FUOGDEFUVBTy8vLEOr/88guqVKmCdu3aiWW6urrw9vZGRESEWBYZGYnBgwerdBxZWVno2rUrXFxccPbsWQQHB2PChAlKbaulpYUxY8bgzp074oMq/vnnHwwcOBBjxoxBXFwcVq1ahcjISMyaJT+bvzAgunDhAurUqYN+/fph+PDhmDRpEs6cOQNBEOTOlbLthoSEoHfv3rh06RI6d+4Mb29vPH78GNWqVcO2bS8vTq5fv47k5GT88MMPAIDw8HCsX78eK1euxNWrVzFu3Dj0798fR48eBQDcvXsXvXr1Qrdu3XDhwgUMGTIE3333nUrnmV46eyYWHVo3R69unyN8RjDS05+UdZeohDzPz0d83FU0dW8mlmlpaaFp02a4dLHoHxvow3X08CG41P0EQYFj0K5VM/T9sie2b/2trLtFxdClhTPOXfsPG2f0xZ1dkxAT4Y9B3Rqp3I6Bng4ip/fG2AV/4sHjLDX0VHNJJOpdPkTlLjAAgMGDByMhIUG8gAReDiPy8vLCjz/+CG9vb4wdOxZOTk5o1qwZlixZgvXr1yM3N1es365dO4wfPx6Ojo5wdHREr169ALz8dbxQZGQkfH19IXnt3Rs8eDB+++03PHv2DMeOHUNGRga6du2q0jFERUVBJpNhzZo1qFu3Lrp27YqgoCClt69Tpw4AiL+gh4SE4LvvvoOPjw9q1KiBDh06YMaMGVi1apXcdoMGDULv3r1Rq1YtTJw4EYmJifD29oanpyecnZ0xZswYHDlyRKyvbLu+vr74+uuvUbNmTYSFhSErKwuxsbHQ1tZGpUqVAACWlpawtraGqakp8vLyEBYWhrVr18LT0xM1atSAr68v+vfvL7a9YsUKODo6YsGCBahduza8vb3FbMPb5OXlITMzU255NeDTNO7NWyBk5mysWB2B0ePG49zZMxj9zXC5bBN9uJ6kP0FBQQHMzc3lys3NzfHo0aMy6hWpy3/37mLL5l9hZ2eP5at+xld9+mJu+Cz88fuOsu4aqai6bUUM7fEZbt5LwxfjIrF6RywWjOsK789dVWpn7ujOOHklCbuOx6upp0T/Uy5vV1qnTh00a9YMa9euRZs2bXDz5k38888/CA0NRVBQEC5duoSNGzeK9QVBgEwmw+3bt+Hs/HJCTqNG8lG5vr4+BgwYgLVr16J37944d+4crly5Ig6JeVWDBg3g5OSErVu34vDhwxgwYAAqVFDtVMXHx6N+/fpyD54ofGy1MgqzJYVBy8WLFxEdHS33S35BQQFyc3ORnZ0tznV4df6FlZUVAKBevXpyZbm5ucjMzIRUKi1Wu0ZGRpBKpUhNTX1j/2/evIns7Gx06CA//CU/Px+uri+/FOPj4xUe063MOQoPD0dISIhc2XeTp+H7qdPfue3HyPPzLuL/16xVCzVr1UaPzh1x9nQsPmuq/N8cEZU9mUyAS926GDX25cON6ji74OaNG9j62yZ80b1nGfeOVKGlJcG5a/9h+qr9AICLN5JRt4Ylhvb4DBv/Ui7b16VFHbT5tAaaDlqmzq5qrA/0R321KpeBAfByEvKoUaOwbNkyREREwNHREa1bt0ZWVhaGDx+O0aNHK2xj98oYTCMjI4X1Q4YMQcOGDXHv3j1ERESgXbt2sLe3L3L/gwcPxrJlyxAXF4fY2NiSOzAlxce//GWgevXqAF4OTQoJCREzH696NfjQ0dER/78wqCiqTCaTFbvdwnYK2yhKVtbLdOfu3btRpUoVuXV6enpv3E4ZkyZNEp8IWCgfOm+orXmqVq0Gs4oVcfduEgODj0BFs4rQ1tZWmGiclpaGypUrl1GvSF0qW1ighmNNubLqNRxx8MDfZdQjKq6UtKeIT3woV3Yt8SF6tPlE6TbafFoDNapUQspe+Ye+/TqrH6IvJsJz1JoS6StRoXIbGPTu3RtjxoxBVFQU1q9fj5EjR0IikcDNzQ1xcXGoWbPmuxt5Tb169dCoUSOsXr0aUVFRWLp06Rvr9uvXDxMmTECDBg3g4uKi8r6cnZ2xYcMG5ObmihfYJ0+eVGpbmUyGJUuWoHr16uKv625ubrh+/XqxjvttSqJdXV1dAJAbuuLi4gI9PT0kJSWhdevWRW7n7OyskLFR5hzp6ekpBBd88vH/PEhJQUZ6OipXtijrrlAJ0NHVhbNLXZw6GYN27T0AvPyOOHUqBn2/7l/GvaOS1tDVFXcSb8uVJd1JhI2NbRn1iIor5lISatnJB+9OdpWRlKL8HLD5G44h4o8zcmVnfxmDb5fswe7oayXST43GlIGCchsYGBsbo0+fPpg0aRIyMzPFsecTJ05E06ZNERAQgCFDhsDIyAhxcXHYv3//Wy/0Cw0ZMgQBAQEwMjJCz55vTstWrFgRycnJCr+UK6tfv36YPHkyhg4dikmTJiExMRHz5xd9C8m0tDSkpKQgOzsbV65cweLFixEbG4vdu3dDW1sbADBt2jR07doVdnZ2+PLLL6GlpYWLFy/iypUrmDlzZrH6WFLt2tvbQyKRYNeuXejcuTMMDAxgYmKCCRMmYNy4cZDJZGjRogUyMjIQHR0NqVQKHx8fjBgxAgsWLEBQUBCGDBmCs2fPKtyNioDs7Ge4m5Qkvv7vv3u4fi0epqamkJqaYvWK5Wjn0QHmlS1w724Sliyaj2p2dnBv3qIMe00laYDPIEz9fiLq1v0En9Srj182rENOTg569FTM9NGHrf8AX/gO+BprflqJDp0+x9XLl7Bt62+YOj20rLtGKvpxczQOrxqOoIGtse3gZTR2qYrBXzRGwNydYp2KJgaoZm0Gm8omACAGEg/SnuLB4yxxed3dB+m4k8ybTFDJK7eBAfByONGaNWvQuXNn2Nq+/LWkfv36OHr0KCZPnoyWLVtCEAQ4OjqiT58+SrX59ddfY+zYsfj666/lhsoUxczMrNh9NzY2xp9//okRI0bA1dUVLi4umDNnDry8vBTqeni8/BXQ0NAQ9vb2aNu2LX766Se5X/E9PT2xa9cuhIaGYs6cOdDR0UGdOnUwZMiQYvexpNqtUqWKOIl50KBB4l2lZsyYAQsLC4SHh+PWrVswMzODm5sbvv/+ewAvh35t27YN48aNw48//ojPPvsMYWFhKt8B6mMXd/UqRvj5iK8XzZsDAOj6RQ98N2U6bty4jl1/7MTTp09hYWmBpu7NMSJgtJjJoQ9fp88748njx1i+dAkePXqI2nWcsXzVzzDnUKKPTt169bBg8Y/48YeF+GnlclSpUhVBEyehc9duZd01UtHZa/+hz6SNCB3REd/7tkVi8hME/bAbm/6+KNbp0rIOVk/+Uny9IbQvAGDmmoOYtfZQqfdZ03yozxpQJ4nw6j1BNUBiYiIcHR1x+vRpuLm5lXV3qIRwKJFm0dEulzdUIzWRadY/UxrPvM2Ud1eij0ZO9Kx3V1KTpMfqvaOhXaX3m1NZFsp1xqAkPX/+HGlpaZgyZQqaNm3KoICIiIiI6BUaExhER0ejbdu2qFWrlsLTd4mIiIhIs3AgkSKNCQzatGkDDRs1RURERESkNI0JDIiIiIiICkmYMlDAGXxERERERMSMARERERFpIqYMXseMARERERERMWNARERERJqHcwwUMTAgIiIiIo3DuEARhxIREREREREzBkRERESkeTiUSBEzBkRERERExIwBEREREWkeCWcZKGDGgIiIiIiImDEgIiIiIg3EhIECZgyIiIiIiIgZAyIiIiLSPEwYKGJgQEREREQah7crVcShRERERERExIwBEREREWke3q5UETMGRERERETEjAERERERaSAmDBQwY0BERERERMwYEBEREZHmYcJAETMGRERERETEjAERERERaR4+x0ARAwMiIiIi0ji8XakiDiUiIiIiIiJmDIiIiIhI83AokSJmDIiIiIiIiIEBERERERExMCAiIiIiInCOARERERFpIM4xUMSMARERERERMWNARERERJqHzzFQxMCAiIiIiDQOhxIp4lAiIiIiIiJixoCIiIiINA8TBoqYMSAiIiIiImYMiIiIiEgDMWWggBkDIiIiIiJixoCIiIiINA9vV6qIGQMiIiIiImLGgIiIiIg0D59joIgZAyIiIiIiYsaAiIiIiDQPEwaKGBgQERERkeZhZKCAQ4mIiIiIiIiBARERERFpHoma/1PVsmXL4ODgAH19fTRp0gSxsbFqOOq3Y2BARERERFSGNm/ejMDAQEyfPh3nzp1DgwYN4OnpidTU1FLtBwMDIiIiItI4Eol6F1UsXLgQQ4cOxaBBg+Di4oKVK1fC0NAQa9euVc/BvwEDAyIiIiKiEpaXl4fMzEy5JS8vT6Fefn4+zp49Cw8PD7FMS0sLHh4eiImJKc0u865E9HEw0dO8GDcvLw/h4eGYNGkS9PT0yro7pGaa/X5r3q1DNPn9zomeVdZdKHWa/H6XJX01XwUHzwxHSEiIXNn06dMRHBwsV/bo0SMUFBTAyspKrtzKygrXrl1TbydfIxEEQSjVPRJRicjMzISpqSkyMjIglUrLujukZny/NQvfb83C9/vjlJeXp5Ah0NPTUwj+7t+/jypVquDEiRNwd3cXy7/99lscPXoUp06dKpX+AswYEBERERGVuKKCgKJUrlwZ2traePDggVz5gwcPYG1tra7uFUnzxl8QEREREZUTurq6+PTTT3Hw4EGxTCaT4eDBg3IZhNLAjAERERERURkKDAyEj48PGjVqhM8++wyLFy/Gs2fPMGjQoFLtBwMDog+Unp4epk+fzolqGoLvt2bh+61Z+H5Tnz598PDhQ0ybNg0pKSlo2LAh9u7dqzAhWd04+ZiIiIiIiDjHgIiIiIiIGBgQEREREREYGBARERERERgYECmlTZs2GDt2rPjawcEBixcvfus2EokEO3fuVGu/PmSJiYmQSCS4cOFCmfXhyJEjkEgkSE9PL7M+kOqCg4PRsGHDsu4GvUV5+Hyrw+vf/e/6nv9Yz0NJ4vdw+cLAgDSWr68vJBIJRowYobDO398fEokEvr6+AIDt27djxowZ77U/iUQiLkZGRnBycoKvry/Onj37Xu2WptL+R06V96i8K+7FbGRkpPh3o62tjYoVK6JJkyYIDQ1FRkZGyXdUTcriYr7w72f27Nly5Tt37oREIinRffHzXXzdunVDp06dilz3zz//QCKR4NKlS2rZd5s2bYr8GwGALl26QCKRIDg4WCw7ffo0hg0bVuz9FZ7jwsXExAR169aFv78/bty4Uex2Sxsv5j9eDAxIo1WrVg2bNm1CTk6OWJabm4uoqCjY2dmJZZUqVYKJicl77y8iIgLJycm4evUqli1bhqysLDRp0gTr169/77Y/Vsq+R2UlPz9f7fuQSqVITk7GvXv3cOLECQwbNgzr169Hw4YNcf/+fbXv/0Omr6+POXPm4MmTJ2rfFz/fxePn54f9+/fj3r17CusiIiLQqFEj1K9fX6U2VflcVqtWDZGRkXJl//33Hw4ePAgbGxu5cgsLCxgaGqrUl6IcOHAAycnJuHjxIsLCwhAfH48GDRrIPeCKqCwwMCCN5ubmhmrVqmH79u1i2fbt22FnZwdXV1ex7PWhRK+7ceMGWrVqBX19fbi4uGD//v1F1jMzM4O1tTUcHBzQsWNHbN26Fd7e3ggICJC7cDl+/DhatmwJAwMDVKtWDaNHj8azZ8/E9Q4ODpg5cyYGDhwIY2Nj2Nvb448//sDDhw/RvXt3GBsbo379+jhz5ozc/pVpNywsDIMHD4aJiQns7Ozw008/ieurV68OAHB1dYVEIkGbNm3EdT///DOcnZ2hr6+POnXqYPny5XL7jo2NhaurK/T19dGoUSOcP3/+jefzVcq+R3l5eRg9ejQsLS2hr6+PFi1a4PTp03Jt7dmzB7Vq1YKBgQHatm2LxMREhf0pc45mzJiBgQMHQiqVir8eTpw4EbVq1YKhoSFq1KiBqVOn4vnz5wBe/uofEhKCixcvir8UFl6IpKenY8iQIbCwsIBUKkW7du1w8eJFuT5JJBJYW1vDxsYGzs7O8PPzw4kTJ5CVlYVvv/1WrCeTyRAeHo7q1avDwMAADRo0wNatW8X1hb/y7du3D66urjAwMEC7du2QmpqKv/76C87OzpBKpejXrx+ys7NVbvfgwYNo1KgRDA0N0axZM1y/fr1Ejn/27NmwsrKCiYkJ/Pz8kJubq/C+vYmHhwesra0RHh7+xjrbtm1D3bp1oaenBwcHByxYsEBu/bs+F4X4+Vb98w0AXbt2hYWFhcLFeVZWFrZs2QI/P79ifS7btWuHgIAAuTYfPnwIXV1duQvwrl274tGjR4iOjhbL1q1bh44dO8LS0lJu+3cNI1X2PJibm8Pa2ho1atRA9+7dceDAATRp0gR+fn4oKCgQ6/3+++9wc3ODvr4+atSogZCQELx48UJcL5FIsGrVKnTt2hWGhoZwdnZGTEwMbt68iTZt2sDIyAjNmjVDQkKC3P6Vaffnn39Gz549YWhoCCcnJ/zxxx8AXmY92rZtCwCoWLGiXOb2Xd8VgHLfw1SGBCIN5ePjI3Tv3l1YuHCh0L59e7G8ffv2wqJFi4Tu3bsLPj4+giAIQuvWrYUxY8aIdezt7YVFixYJgiAIBQUFwieffCK0b99euHDhgnD06FHB1dVVACDs2LFD3Ob114XOnz8vABA2b94sCIIg3Lx5UzAyMhIWLVok/Pvvv0J0dLTg6uoq+Pr6yu2/UqVKwsqVK4V///1XGDlypCCVSoVOnToJv/32m3D9+nWhR48egrOzsyCTyVRud9myZcKNGzeE8PBwQUtLS7h27ZogCIIQGxsrABAOHDggJCcnC2lpaYIgCMIvv/wi2NjYCNu2bRNu3bolbNu2TahUqZIQGRkpCIIgPH36VLCwsBD69esnXLlyRfjzzz+FGjVqCACE8+fPl8h7NHr0aMHW1lbYs2ePcPXqVcHHx0eoWLGi2MekpCRBT09PCAwMFK5duyb88ssvgpWVlQBAePLkiUrnSCqVCvPnzxdu3rwp3Lx5UxAEQZgxY4YQHR0t3L59W/jjjz8EKysrYc6cOYIgCEJ2drYwfvx4oW7dukJycrKQnJwsZGdnC4IgCB4eHkK3bt2E06dPC//++68wfvx4wdzcXOx3RESEYGpqWuT5GTNmjGBiYiK8ePFCEARBmDlzplCnTh1h7969QkJCghARESHo6ekJR44cEQRBEA4fPiwAEJo2bSocP35cOHfunFCzZk2hdevWQseOHYVz584Jx44dE8zNzYXZs2eL+1G23SZNmghHjhwRrl69KrRs2VJo1qzZex//5s2bBT09PeHnn38Wrl27JkyePFkwMTERGjRo8Ma/m9f/frZv3y7o6+sLd+/eFQRBEHbs2CEU/vN35swZQUtLSwgNDRWuX78uRERECAYGBkJERITce/62z4Ug8PNdnM/3q4KCggRHR0fxeARBENauXSsYGBgIFy5cKNbncuPGjULFihWF3Nxcsd7ChQsFBwcHcT+F3+2jR48W/Pz8xHpOTk7Cjh07hAYNGgjTp0+X20/hd//r77sy5+H27dtvPC+Ff5enTp0SBEEQjh07JkilUiEyMlJISEgQ/v77b8HBwUEIDg6W23+VKlWEzZs3i38XDg4OQrt27YS9e/cKcXFxQtOmTYVOnTqJ2yjbbtWqVYWoqCjhxo0bwujRowVjY2MhLS1NePHihbBt2zYBgHD9+nUhOTlZSE9PFwTh3d8VynwPU9liYEAaq/CiITU1VdDT0xMSExOFxMREQV9fX3j48KHSgcG+ffuEChUqCP/995+4/q+//lI6MMjJyREAiBeRfn5+wrBhw+Tq/PPPP4KWlpaQk5Mj7r9///7i+uTkZAGAMHXqVLEsJiZGACAkJycXu12ZTCZYWloKK1asEAThzf+oOTo6ClFRUXJlM2bMENzd3QVBEIRVq1YJ5ubm4n4EQRBWrFihdGDwrvcoKytL0NHRETZu3Chum5+fL9ja2gpz584VBEEQJk2aJLi4uMi1P3HiRLl/kJQ9Rz169HhjnwvNmzdP+PTTT8XX06dPV7iY/eeffwSpVCp34SIIL8/nqlWrBEF4e2BQeA4fPHgg5ObmCoaGhsKJEyfk6vj5+Qlff/21IAj/u4A/cOCAuD48PFwAICQkJIhlw4cPFzw9PQVBEIrd7u7duwUA4nkr7vG7u7sL33zzjdz6Jk2aqBQYCIIgNG3aVBg8eLAgCPKBQb9+/YQOHTrIbRcUFCT3t/Kuz4Ug8PNdnM/3q+Lj4wUAwuHDh8Wyli1bCv379y/25zInJ0eoWLGiGJQJgiDUr19f7gK48Lv9woULgomJiZCVlSUcPXpUsLS0FJ4/f65SYKDMeXhbYFB4Dgr72759eyEsLEyuzoYNGwQbGxu5/U+ZMkV8Xfh3sWbNGrHs119/FfT19cXXxWk3KytLACD89ddfgiD87zP/6sW8Mt8VynwPU9mqULL5B6IPj4WFBbp06YLIyEgIgoAuXbqgcuXKSm8fHx+PatWqwdbWVixzd3dXenvh/x8+XjgZ8uLFi7h06RI2btwoV0cmk+H27dtwdnYGALkxt4WPTK9Xr55CWWpqKqytrYvVbuEQltTU1Df2/9mzZ0hISICfnx+GDh0qlr948QKmpqYAXp6j+vXrQ19fX1yvyjl613uUkJCA58+fo3nz5mKZjo4OPvvsM8THx4t9aNKkiVy7r/dB2XPUqFEjhT5u3rwZS5YsQUJCArKysvDixQtIpdK3HtfFixeRlZUFc3NzufKcnByF1H9RXv3buXnzJrKzs9GhQwe5Ovn5+XJDrgDFv53C4U+vlsXGxgJAsdstHJudmpr6xrkgyhx/fHy8wuRzd3d3HD58uMg232TOnDlo164dJkyYIFceHx+P7t27y5U1b94cixcvRkFBAbS1tRWOTZnPRSF+vpVTp04dNGvWDGvXrkWbNm1w8+ZN/PPPPwgNDUVQUFCxPpf6+voYMGAA1q5di969e+PcuXO4cuWKOCTmVQ0aNICTkxO2bt2Kw4cPY8CAAahQQbVLpPc9D0X9rURHR2PWrFlinYKCAuTm5iI7O1uc66DM30pubi4yMzMhlUqL1a6RkRGkUulb/1aU+a5Q5nuYyhYDAyIAgwcPFseiLlu2rFT3XXjhWji+NysrC8OHD8fo0aMV6r56gaWjoyP+f+E/JEWVyWSyYrdb2E5hG0XJysoCAKxevVrhC7/woqoklMZ7pOw5MjIyklsXExMDb29vhISEwNPTE6ampti0aZPCWPWi9mdjY4MjR44orDMzM3tnf+Pj4yGVSmFubo5bt24BAHbv3o0qVarI1dPT05N7/frfydve88L3tzjtAnjn3877HL8qWrVqBU9PT0yaNKlYd7JS9XNRiJ9v5fn5+WHUqFFYtmwZIiIi4OjoiNatWxf7cwkAQ4YMQcOGDXHv3j1ERESgXbt2sLe3L3L/gwcPxrJlyxAXFycGxqWpqL+VkJAQ9OrVS6Huq8FHcf5WVG23sB1l/laU+a6g8ouBARGATp06IT8/HxKJBJ6enipt6+zsjLt37yI5OVn8lfTkyZNKb7948WJIpVJ4eHgAeDnZNi4uDjVr1lSpH+9SEu3q6uoCgNzkOCsrK9ja2uLWrVvw9vYucjtnZ2ds2LABubm54j88qpwj4O3vkaOjI3R1dREdHS3+o//8+XOcPn1anDTu7Oys8Evh630o7jk6ceIE7O3tMXnyZLHszp07cnV0dXXlzlvh/lJSUlChQgU4ODiotM/U1FRERUWhR48e0NLSgouLC/T09JCUlITWrVur1NbblFS7xT1+Z2dnnDp1CgMHDhTLVP3bKTR79mw0bNgQtWvXlmv/1UmnABAdHY1atWqVyIUvP9/K6927N8aMGYOoqCisX78eI0eOhEQiea9jq1evHho1aoTVq1cjKioKS5cufWPdfv36YcKECWjQoAFcXFxU3tf7nAeZTIYlS5agevXq4q/rbm5uuH79ulr+Vt633aL+VpT5rlDme5jKFgMDIrz85avw1xpVLwY8PDxQq1Yt+Pj4YN68ecjMzJS7QHxVeno6UlJSkJeXh3///RerVq3Czp07sX79evEX0okTJ6Jp06YICAjAkCFDYGRkhLi4OOzfv/+t/6i9S0m0a2lpCQMDA+zduxdVq1aFvr4+TE1NERISgtGjR8PU1BSdOnVCXl4ezpw5gydPniAwMBD9+vXD5MmTMXToUEyaNAmJiYmYP3++Sv1/23tkZGSEkSNHIigoCJUqVYKdnR3mzp2L7Oxs+Pn5AQBGjBiBBQsWICgoCEOGDMHZs2cV7oJS3HPk5OSEpKQkbNq0CY0bN8bu3buxY8cOuToODg64ffs2Lly4gKpVq8LExAQeHh5wd3dHjx49MHfuXNSqVQv379/H7t270bNnT3FohCAISElJgSAISE9PR0xMDMLCwmBqairef93ExAQTJkzAuHHjIJPJ0KJFC2RkZCA6OhpSqRQ+Pj4qne9CJdVucY9/zJgx8PX1RaNGjdC8eXNs3LgRV69elRv6pKx69erB29sbS5YsEcvGjx+Pxo0bY8aMGejTpw9iYmKwdOlShbvuKIOf7+J/vgHA2NgYffr0waRJk5CZmSlmdt732IYMGYKAgAAYGRmhZ8+eb6xXsWJFJCcnK/xSrixVzkNaWhpSUlKQnZ2NK1euYPHixYiNjcXu3bvF77dp06aha9eusLOzw5dffgktLS1cvHgRV65cwcyZM4vVx5Jq197eHhKJBLt27ULnzp1hYGCg1HeFMt/DVMbKYmIDUXnw6sTEoig7+VgQBOH69etCixYtBF1dXaFWrVrC3r17i5x8XLjo6+sLjo6Ogo+Pj3D27FmFfcfGxgodOnQQjI2NBSMjI6F+/frCrFmz3rj/wvZf3V9Rk9yK0+7rk+9Wr14tVKtWTdDS0hJat24tlm/cuFFo2LChoKurK1SsWFFo1aqVsH37dnF9TEyM0KBBA0FXV1do2LCheFcLZSYfv8mr71FOTo4watQooXLlyoKenp7QvHlzITY2Vq7+n3/+KdSsWVPQ09MTWrZsKaxdu1Zh0ltxzpEgvJywam5uLhgbGwt9+vQRFi1aJDdpODc3V/Dy8hLMzMwEAOJdbzIzM4VRo0YJtra2go6OjlCtWjXB29tbSEpKEgTh5eTjwr8biUQimJqaCp999pkQGhoqZGRkyPVBJpMJixcvFmrXri3o6OgIFhYWgqenp3D06FFBEIqeMFjU5ObXJwoXp93Cu/Hcvn37vY5fEARh1qxZQuXKlQVjY2PBx8dH+Pbbb1WefFzo9u3bgq6urvDqP39bt24VXFxcBB0dHcHOzk6YN2+e3DbKfC74+Vb9812UEydOCACEzp07y5UX93MpCC/vFmRoaKgwiV0QFL/bX6fK5GNBePd5KHzfChdDQ0PB2dlZ+Oabb4QbN24o7H/v3r1Cs2bNBAMDA0EqlQqfffaZ8NNPP71x/0X9XRT1+VS1XUEQBFNTU7m7dYWGhgrW1taCRCIRv4ff9V0hCMp9D1PZkQjC/892ISIiIvrIJCYmwtHREadPn4abm1tZd4eoXGNgQERERB+d58+fIy0tDRMmTMDt27cV5pIQkSI++ZiIiIg+OtHR0bCxscHp06excuXKsu4O0QeBGQMiIiIiImLGgIiIiIiIGBgQEREREREYGBARERERERgYEBERERERGBgQEREREREYGBAR0Xvw9fVFjx49xNdt2rTB2LFjS70fR44cgUQiQXp6utr28fqxFkdp9JOIqLgYGBARfWR8fX0hkUggkUigq6uLmjVrIjQ0FC9evFD7vrdv344ZM2YoVbe0L5IdHBywePHiUtkXEdGHqEJZd4CIiEpep06dEBERgby8POzZswf+/v7Q0dHBpEmTFOrm5+dDV1e3RPZbqVKlEmmHiIhKHzMGREQfIT09PVhbW8Pe3h4jR46Eh4cH/vjjDwD/GxIza9Ys2Nraonbt2gCAu3fvonfv3jAzM0OlSpXQvXt3JCYmim0WFBQgMDAQZmZmMDc3x7fffovXn5H5+lCivLw8TJw4EdWqVYOenh5q1qyJNWvWIDExEW3btgUAVKxYERKJBL6+vgAAmUyG8PBwVK9eHQYGBmjQoAG2bt0qt589e/agVq1aMDAwQNu2beX6WRwFBQXw8/MT91m7dm388MMPRdYNCQmBhYUFpFIpRowYgfz8fHGdMn0nIiqvmDEgItIABgYGSEtLE18fPHgQUqkU+/fvBwA8f/4cnp6ecHd3xz///IMKFSpg5syZ6NSpEy5dugRdXV0sWLAAkZGRWLt2LZydnbFgwQLs2LED7dq1e+N+Bw4ciJiYGCxZsgQNGjTA7du38ejRI1SrVg3btm2Dl5cXrl+/DqlUCgMDAwBAeHg4fvnlF6xcuRJOTk44duwY+vfvDwsLC7Ru3Rp3795Fr1694O/vj2HDhuHMmTMYP378e50fmUyGqlWrYsuWLTA3N8eJEycwbNgw2NjYoHfv3nLnTV9fH0eOHEFiYiIGDRoEc3NzzJo1S6m+ExGVawIREX1UfHx8hO7duwuCIAgymUzYv3+/oKenJ0yYMEFcb2VlJeTl5YnbbNiwQahdu7Ygk8nEsry8PMHAwEDYt2+fIAiCYGNjI8ydO1dc//z5c6Fq1arivgRBEFq3bi2MGTNGEARBuH79ugBA2L9/f5H9PHz4sABAePLkiViWm5srGBoaCidOnJCr6+fnJ3z99deCIAjCpEmTBBcXF7n1EydOVGjrdfb29sKiRYveuP51/v7+gpeXl/jax8dHqFSpkvDs2TOxbMWKFYKxsbFQUFCgVN+LOmYiovKCGQMioo/Qrl27YGxsjOfPn0Mmk6Ffv34IDg4W19erV09uXsHFixdx8+ZNmJiYyLWTm5uLhIQEZGRkIDk5GU2aNBHXVahQAY0aNVIYTlTowoUL0NbWVumX8ps3byI7OxsdOnSQK8/Pz4erqysAID4+Xq4fAODu7q70Pt5k2bJlWLt2LZKSkpCTk4P8/Hw0bNhQrk6DBg1gaGgot9+srCzcvXsXWVlZ7+w7EVF5xsCAiOgj1LZtW6xYsQK6urqwtbVFhQryX/dGRkZyr7OysvDpp59i48aNCm1ZWFgUqw+FQ4NUkZWVBQDYvXs3qlSpIrdOT0+vWP1QxqZNmzBhwgQsWLAA7u7uMDExwbx583Dq1Cml2yirvhMRlRQGBkREHyEjIyPUrFlT6fpubm7YvHkzLC0tIZVKi6xjY2ODU6dOoVWrVgCAFy9e4OzZs3Bzcyuyfr169SCTyXD06FF4eHgorC/MWBQUFIhlLi4u0NPTQ1JS0hszDc7OzuJE6kInT55890G+RXR0NJo1a4ZvvvlGLEtISFCod/HiReTk5IhBz8mTJ2FsbIxq1aqhUqVK7+w7EVF5xrsSERERvL29UblyZXTv3h3//PMPbt++jSNHjmD06NG4d+8eAGDMmDGYPXs2du7ciWvXruGbb7556zMIHBwc4OPjg8GDB2Pnzp1im7/99hsAwN7eHhKJBLt27cLDhw+RlZUFExMTTJgwAePGjcO6deuQkJCAc+fO4ccff8S6desAACNGjMCNGzcQFBSE69evIyoqCpGRkUod53///YcLFy7ILU+ePIGTkxPOnDmDffv24d9//8XUqVNx+vRphe3z8/Ph5+eHuLg47NmzB9OnT0dAQAC0tLSU6jsRUXnGwICIiGBoaIhjx47Bzs4OvXr1grOzM/z8/JCbmytmEMaPH48BAwbAx8dHHG7Ts2fPt7a7YsUKfPnll/jmm29Qp04dDB06FM+ePQMAVKlSBSEhIfjuu+9gZWWFgIAAAMCMGTMwdepUhIeHw9nZGZ06dcLu3btRvXp1AICdnR22bduGnTt3okGDBli5ciXCwsKUOs758+fD1dVVbtm9ezeGDx+OXr16oU+fPmjSpAnS0tLksgeF2rdvDycnJ7Rq1Qp9+vTBF//Xvh3bABACQRAbGqT/biAmQJ++hF3BpaPTznlsN75uB/izsW6rMQAA4Bk+BgAAgDAAAACEAQAAkDAAAAASBgAAQMIAAABIGAAAAAkDAAAgYQAAACQMAACAhAEAAFBtW0Y0nPwqq+AAAAAASUVORK5CYII=",
      "text/plain": [
       "<Figure size 800x600 with 2 Axes>"
      ]
     },
     "metadata": {},
     "output_type": "display_data"
    }
   ],
   "source": [
    "test_accuracy, classification_report_str, auc_score, true_labels, predictions = test_model(model, test_loader, num_classes=4, device='cuda')\n",
    "\n",
    "print(f'Test Accuracy: {test_accuracy:.4f}')\n",
    "print('Classification Report:')\n",
    "print(classification_report_str)\n",
    "print(f'AUC Score: {auc_score:.4f}')\n",
    "\n",
    "cm = confusion_matrix(true_labels, predictions)\n",
    "import matplotlib.pyplot as plt\n",
    "import seaborn as sns\n",
    "\n",
    "class_names = ['MildDemented', 'ModerateDemented', 'NonDemented', 'VeryMildDemented']\n",
    "plt.figure(figsize=(8, 6))\n",
    "sns.heatmap(cm, annot=True, cmap='Blues', fmt=\".0f\", xticklabels = class_names, yticklabels = class_names)\n",
    "plt.title('Confusion Matrix')\n",
    "plt.xlabel('Predicted Label')\n",
    "plt.ylabel('True Label')\n",
    "plt.show()"
   ]
  }
 ],
 "metadata": {
  "kernelspec": {
   "display_name": "Python 3 (ipykernel)",
   "language": "python",
   "name": "python3"
  },
  "language_info": {
   "codemirror_mode": {
    "name": "ipython",
    "version": 3
   },
   "file_extension": ".py",
   "mimetype": "text/x-python",
   "name": "python",
   "nbconvert_exporter": "python",
   "pygments_lexer": "ipython3",
   "version": "3.11.10"
  }
 },
 "nbformat": 4,
 "nbformat_minor": 5
}
